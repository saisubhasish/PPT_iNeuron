{
 "cells": [
  {
   "cell_type": "markdown",
   "id": "49f7a428",
   "metadata": {},
   "source": [
    "# Get the 5 number Summery using Python"
   ]
  },
  {
   "cell_type": "code",
   "execution_count": 8,
   "id": "137d1c21",
   "metadata": {},
   "outputs": [],
   "source": [
    "import numpy as np"
   ]
  },
  {
   "cell_type": "code",
   "execution_count": 14,
   "id": "ca7a645e",
   "metadata": {},
   "outputs": [
    {
     "name": "stdout",
     "output_type": "stream",
     "text": [
      "5-Number Summary:\n",
      "Minimum: 10\n",
      "Q1: 14.5\n",
      "Median: 17.5\n",
      "Q3: 25.25\n",
      "Maximum: 32\n"
     ]
    }
   ],
   "source": [
    "import numpy as np\n",
    "\n",
    "data = [10, 11, 14, 16, 16, 19, 23, 26, 30, 32]\n",
    "\n",
    "percentiles = np.percentile(data, [0, 25, 50, 75, 100])  # Calculate the percentiles\n",
    "minimum = np.min(data)  # Calculate the minimum value\n",
    "maximum = np.max(data)  # Calculate the maximum value\n",
    "\n",
    "summary = {\n",
    "    \"Minimum\": minimum,\n",
    "    \"Q1\": percentiles[1],\n",
    "    \"Median\": percentiles[2],\n",
    "    \"Q3\": percentiles[3],\n",
    "    \"Maximum\": maximum\n",
    "}\n",
    "\n",
    "print(\"5-Number Summary:\")\n",
    "for key, value in summary.items():\n",
    "    print(key + \":\", value)\n"
   ]
  },
  {
   "cell_type": "code",
   "execution_count": null,
   "id": "62bc11f3",
   "metadata": {},
   "outputs": [],
   "source": []
  }
 ],
 "metadata": {
  "kernelspec": {
   "display_name": "Python 3 (ipykernel)",
   "language": "python",
   "name": "python3"
  },
  "language_info": {
   "codemirror_mode": {
    "name": "ipython",
    "version": 3
   },
   "file_extension": ".py",
   "mimetype": "text/x-python",
   "name": "python",
   "nbconvert_exporter": "python",
   "pygments_lexer": "ipython3",
   "version": "3.10.9"
  }
 },
 "nbformat": 4,
 "nbformat_minor": 5
}
