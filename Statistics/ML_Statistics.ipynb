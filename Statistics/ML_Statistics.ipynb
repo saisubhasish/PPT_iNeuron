{
  "nbformat": 4,
  "nbformat_minor": 0,
  "metadata": {
    "colab": {
      "provenance": []
    },
    "kernelspec": {
      "name": "python3",
      "display_name": "Python 3"
    },
    "language_info": {
      "name": "python"
    }
  },
  "cells": [
    {
      "cell_type": "markdown",
      "source": [
        "# 1. Where you have used Hypothesis Testing in your Machine learning Solution"
      ],
      "metadata": {
        "id": "v-1ArFQVUdle"
      }
    },
    {
      "cell_type": "markdown",
      "source": [
        "**Ans.**\n",
        "\n",
        "\n",
        "I have used the hypothesis testing in the feature engineering component of my machine learning solution and sharing the steps to be followed to get the result\n",
        "\n",
        "1. Formulating the hypothesis:\n",
        "In one of my ML model I have added a new feature engineering technique. I hypothesized that addition of new feature engineering technique is increasing the accuracy of the model.\n",
        "\n",
        "2. Data preparation: I devided the dataset in two groups, in the first group I applied the tradtional feature engineering technique and in the second group I have applied the new feature engineering technique.\n",
        "\n",
        "3. Establishing the null hypothesis and alternate hypothsis: H0- defines there is no significant difference because of new technique addition. H1- defines there is a significant difference because of new technique.\n",
        "\n",
        "4. Selecting significance level: I choose significance level as 0.05 to determine the threshold for accepting or rejecting the null hypothesis.\n",
        "\n",
        "5. Performing hypothesis testing: I trained and evaluated the classification model on both the dataset using appropriate evaluation metrics. Then I applied statistical test to determine if the observed difference in performance was statistically significant.\n",
        "\n",
        "6. Analysing the result: By comparing p-value obtained from statistical test we will determine wheather to reject the null hypothesis or not. If the p value was below significance level then I reject the null hypothesis or vice versa.\n",
        "\n",
        "7. Conclusion: If we will be rejecting the null hypothesis then conclude that the new technology improving the accuracy significantlly and vice versa."
      ],
      "metadata": {
        "id": "7cpxKPdDuWgC"
      }
    },
    {
      "cell_type": "markdown",
      "source": [
        "# 2. What kind of statistical tests you have performed in your ML Application."
      ],
      "metadata": {
        "id": "CBozT2FJ0lve"
      }
    },
    {
      "cell_type": "markdown",
      "source": [
        "**Ans.**\n",
        "\n",
        "\n",
        "I have used z-test in my ML application but sharing with you the techniques can be used\n",
        "\n",
        "Z-tests:\n",
        "\n",
        "Z-tests are used to compare means between two groups and determine if the difference is statistically significant. It is used when we have the information about population data and number of samples is large. They are commonly employed when comparing the performance of different models or algorithms on a specific metric.\n",
        "\n",
        "T-tests:\n",
        "\n",
        "T-tests are used to compare means between two groups and determine if the difference is statistically significant. They are commonly employed when comparing the performance of different models or algorithms on a specific metric.\n",
        "\n",
        "Chi-square tests:\n",
        "\n",
        "Chi-square tests are used to analyze the relationship between categorical variables. They help determine if there is a significant association or dependency between two variables in a dataset. Chi-square tests can be useful for feature selection or understanding the significance of certain categorical features in a machine learning model.\n",
        "\n",
        "Analysis of Variance (ANOVA):\n",
        "\n",
        "ANOVA tests are used to assess the difference in means among multiple groups. They are particularly useful when evaluating the performance of machine learning models across different datasets or experimental conditions.\n",
        "\n",
        "Pearson correlation test:\n",
        "\n",
        "The Pearson correlation test measures the linear relationship between two continuous variables. It determines the strength and direction of the association and whether it is statistically significant. This test can help identify variables that have a high correlation and potentially reduce dimensionality in feature selection.\n",
        "\n",
        "Spearman correlation test:\n",
        "\n",
        "The Spearman correlation test is a non-parametric version of the Pearson correlation test. It assesses the monotonic relationship between variables without assuming linearity. It is useful when dealing with ordinal or non-normally distributed data."
      ],
      "metadata": {
        "id": "wDSC7DBF0r2U"
      }
    },
    {
      "cell_type": "markdown",
      "source": [
        "# 3. What do you understand by P Value? And what is use of it in ML?"
      ],
      "metadata": {
        "id": "_yY7DxOo6185"
      }
    },
    {
      "cell_type": "markdown",
      "source": [
        "**Ans.**\n",
        "\n",
        "P-value always represents the significance level. It tells you how many\n",
        "values are not contributing out of whole experiments. (in general words\n",
        "p-value tells you how many experiments are going to fail out of 100). In machine learnign to determine the new addition of feature engineering technique is significant or not we can use p value."
      ],
      "metadata": {
        "id": "FH2qwh7S7Dl7"
      }
    },
    {
      "cell_type": "markdown",
      "source": [
        "# 4. Which type of error is severe Error, Type 1 or Type 2? And why with example"
      ],
      "metadata": {
        "id": "wIrrHjLV73KE"
      }
    },
    {
      "cell_type": "markdown",
      "source": [
        "**Ans.**\n",
        "\n",
        "Type 1 error is also known as false positive. Type1 error occures when null hypothesis is rejected incorrectly.\n",
        "\n",
        "Type 2 error is also known as false negative. Type2 error occures when alternate hypothesis is rejected incorrectly.\n",
        "\n",
        "The severity of these error depends on consenquences, and implecation on the specific context. This is not true that any one error is sever. It totally depends on application, impact, consenquences, situation.\n",
        "\n",
        "For example, in medical testing, a Type 1 error may lead to false diagnoses or unnecessary treatments, while a Type 2 error may result in missed diagnoses or delayed treatments. In such a case, the severity of the error depends on the potential harm caused by false positives or false negatives."
      ],
      "metadata": {
        "id": "wC0gBZS273HQ"
      }
    },
    {
      "cell_type": "markdown",
      "source": [
        "# 5. Where we can use chi square and have used this test anywhere in your application\n"
      ],
      "metadata": {
        "id": "ZHL9xzDp73E2"
      }
    },
    {
      "cell_type": "markdown",
      "source": [
        "**Ans.**\n",
        "\n",
        "We can use chi-square test to compare the categorical data in between two groups. They help determine if there is a significant association or dependency between two variables in a dataset. Chi-square tests can be useful for feature selection or understanding the significance of certain categorical features in a machine learning model."
      ],
      "metadata": {
        "id": "WJpDv_ub73B_"
      }
    },
    {
      "cell_type": "markdown",
      "source": [
        "# 6. Can we use Chi square with Numerical dataset? If yes, give example. If no, give Reason?"
      ],
      "metadata": {
        "id": "E3fd5CaV72_K"
      }
    },
    {
      "cell_type": "markdown",
      "source": [
        "**Ans.**\n",
        "\n",
        "No we can not use chi-square test with numerical dataset because chi-square test is used to anlyze the association or relation between the categorical variables. Since chi-square test relies on categoriccal data and count of frequencies. So it can not be applied directly to numerical data."
      ],
      "metadata": {
        "id": "Dh6xjcly728l"
      }
    },
    {
      "cell_type": "markdown",
      "source": [
        "# 7. What do you understand by ANOVA Testing?"
      ],
      "metadata": {
        "id": "l8RwO5Iz725w"
      }
    },
    {
      "cell_type": "markdown",
      "source": [
        "**Ans.**\n",
        "\n",
        "ANNOVA stands for Analysis of variance. In ANNOVA test we compare the mean of two or more groups. They are particularly useful when evaluating the performance of machine learning models across different datasets or experimental conditions."
      ],
      "metadata": {
        "id": "l-hamr9a722_"
      }
    },
    {
      "cell_type": "markdown",
      "source": [
        "# 8. Give me a scenario where you can use Z test and T test.\n",
        "\n"
      ],
      "metadata": {
        "id": "_Wg8wCS3720R"
      }
    },
    {
      "cell_type": "markdown",
      "source": [
        "**Ans.**\n",
        "\n",
        "We should use t-test instead of z-test when\n",
        "\n",
        "    i.\tPopulation standard deviation is not given\n",
        "\n",
        "    ii.\tSample size n<30\n",
        "\n",
        "    iii.\tSample standard deviation is given\n",
        "\n",
        "\n",
        "\n",
        "Scenario: You are analyzing the weights of newborn babies in a hospital. The population standard deviation of baby weights is known to be 0.5 kg. You want to determine if the average weight of newborns in your sample differs significantly from the known population mean weight of 3 kg.\n",
        "\n",
        "Analysis: In this case, you can use a Z-test to compare the sample mean weight to the population mean weight. By calculating the test statistic (Z-score) using the formula Z = (x̄ - μ) / (σ / √n), where x̄ is the sample mean, μ is the population mean, σ is the population standard deviation, and n is the sample size, you can determine the statistical significance of the difference.\n",
        "\n",
        "t-test: The t-test is appropriate when you have a small sample size (typically below 30) or when the population standard deviation is unknown. Here's an example:\n",
        "Scenario: You are conducting a study to compare the heights of two different groups of individuals: Group A and Group B. You have collected a sample of 20 individuals from each group and want to determine if there is a significant difference in their average heights.\n",
        "\n",
        "Analysis: In this case, you can use a two-sample t-test (also known as an independent samples t-test) to compare the means of the two groups. The test will calculate the t-statistic using the formula t = (x̄₁ - x̄₂) / (s √((1/n₁) + (1/n₂))), where x̄₁ and x̄₂ are the sample means, n₁ and n₂ are the sample sizes, and s is the pooled standard deviation. The t-test will assess whether the difference between the sample means is statistically significant.\n",
        "\n",
        "Remember, the choice between the Z-test and the t-test depends on the sample size and the availability of population standard deviation information. If the sample size is large and the population standard deviation is known, you can use the Z-test. If the sample size is small or the population standard deviation is unknown, the t-test is more appropriate.\n",
        "\n",
        "\n",
        "\n",
        "\n"
      ],
      "metadata": {
        "id": "o-edNBEo72xg"
      }
    },
    {
      "cell_type": "markdown",
      "source": [
        "# 9. What do you understand by inferential Statistics?"
      ],
      "metadata": {
        "id": "7MC0JFiM72un"
      }
    },
    {
      "cell_type": "markdown",
      "source": [
        "**Ans.**\n",
        "\n",
        "Inferential Statistics is the process of data analysis where we make the\n",
        "conclusions about population data using sample data. We use various kind of test (z-test, t-test, chi-square test) to findout the population parameter."
      ],
      "metadata": {
        "id": "QhTMBLhd72sK"
      }
    },
    {
      "cell_type": "markdown",
      "source": [
        "# 10. When you are trying to calculate Std Deviation or Variance, why you used N-1 in Denominator? (Hint: Basel Connection)"
      ],
      "metadata": {
        "id": "UIOKa-wW72pX"
      }
    },
    {
      "cell_type": "markdown",
      "source": [
        "**Ans.**\n",
        "\n",
        "In statistics, Bessel’s correction is the use of n-1 instead of n in several formulas, including the sample variance and standard deviation, where n is the number of observations in a sample. This method corrects the bias in the estimation of the population variance. It also partially corrects the bias in the estimation of the population standard deviation, thereby, providing more accurate results.\n",
        "\n",
        "![image.png](data:image/png;base64,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)\n",
        "\n",
        "\n",
        "![image.png](data:image/png;base64,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)"
      ],
      "metadata": {
        "id": "T19Jker972mt"
      }
    },
    {
      "cell_type": "markdown",
      "source": [
        "# 11. What do you understand by right skewness, Give example?"
      ],
      "metadata": {
        "id": "RU4bLNrc72kH"
      }
    },
    {
      "cell_type": "markdown",
      "source": [
        "**Ans.**\n",
        "\n",
        "- The right skewed (positively skewed) distribution is the one where the right tail falls longer than left tail.\n",
        "\n",
        "- Here the mean > median > mode\n",
        "\n",
        "- It is also known as log normal distribution. Because if we will find the inverse of log(exponential) then it will be normally distributed."
      ],
      "metadata": {
        "id": "G1NBJXw672hd"
      }
    },
    {
      "cell_type": "markdown",
      "source": [
        "# 12. What is difference between Normal distribution and Std Normal Distribution and Uniform Distribution?"
      ],
      "metadata": {
        "id": "wsJw_tpY72ev"
      }
    },
    {
      "cell_type": "markdown",
      "source": [
        "**Ans.**\n",
        "\n",
        "Normal Distribution:\n",
        "\n",
        "- A distribution is called normal distribution if we plot histogram with the\n",
        "data it’ll be symmetric to the mean and dataset are more frequent\n",
        "towards the mean.\n",
        "\n",
        "Standard Normal Distribution:\n",
        "- A distribution is called normal distribution if we plot histogram with the\n",
        "data it’ll be symmetric to the mean and dataset are more frequent\n",
        "towards the mean.\n",
        "\n",
        "Uniform Distibution:\n",
        "- In continuous uniform distribution all outcomes are equally possible. Each variable has same chance of being hit."
      ],
      "metadata": {
        "id": "VPTT3moj72cG"
      }
    },
    {
      "cell_type": "markdown",
      "source": [
        "# 13. What is different kind of Probabilistic distributions you heard of?"
      ],
      "metadata": {
        "id": "ZC-oj1Au72Zc"
      }
    },
    {
      "cell_type": "markdown",
      "source": [
        "**Ans.**\n",
        "\n",
        "Different probabilistic distributions are:\n",
        "\n",
        "1. Normal distribution or Gaussian distribution\n",
        "2. Right skewed distribution or log normal distributed\n",
        "3. Left skewed distribution\n",
        "4. Uniform distribution\n",
        "5. Binomial Distribution\n",
        "6. Bernouli Distribution\n",
        "7. Pareto (80-20) Distribution\n"
      ],
      "metadata": {
        "id": "0BKK9CJB72Wz"
      }
    },
    {
      "cell_type": "markdown",
      "source": [
        "# 14. What do you understand by symmetric dataset?"
      ],
      "metadata": {
        "id": "neKYXmY572UL"
      }
    },
    {
      "cell_type": "markdown",
      "source": [
        "**Ans.**\n",
        "\n",
        "If the data in a distribution are mean centric and more frequent towards mean, then it's known as symmetric dataset."
      ],
      "metadata": {
        "id": "zo6KPHy272RX"
      }
    },
    {
      "cell_type": "markdown",
      "source": [
        "# 15. In your last project, were you using symmetric data or Asymmetric Data, if its asymmetric, what kind of EDA you have performed?"
      ],
      "metadata": {
        "id": "CSDdoGf172O4"
      }
    },
    {
      "cell_type": "markdown",
      "source": [
        "**Ans.**\n",
        "\n",
        "In my last project there the distribution of the features are mostly asymmetric and very few are symmetric. So there To check the distribution of the data I have plotted histogram, box plot, Q-Q plot.\n",
        "\n",
        "For bivariate analysis I have plotted line plot, scatter plot to check the relation of feature to the label. And for multi variate analysis I have plotted pair plot, heat map to check the correlation of the features."
      ],
      "metadata": {
        "id": "J2TS8vJd72MR"
      }
    },
    {
      "cell_type": "markdown",
      "source": [
        "# 16. Can you please tell me formula for skewness?"
      ],
      "metadata": {
        "id": "Uuvyj_iX72Jl"
      }
    },
    {
      "cell_type": "markdown",
      "source": [
        "**Ans.**\n",
        "\n",
        "![image.png](data:image/png;base64,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)"
      ],
      "metadata": {
        "id": "ascA-sVL72Gv"
      }
    },
    {
      "cell_type": "markdown",
      "source": [
        "# 17. Have you applied student T distribution Anywhere?"
      ],
      "metadata": {
        "id": "YbCAd4TF72D5"
      }
    },
    {
      "cell_type": "markdown",
      "source": [
        "**Ans.**\n",
        "\n",
        "The student's t-distribution is a probability distribution that arises when estimating the mean of a normally distributed population when the sample size is small or when the population standard deviation is unknown. It is similar to the standard normal distribution (Z-distribution) but has fatter tails, which accounts for greater uncertainty when working with smaller sample sizes.\n",
        "\n",
        "The student's t-distribution is often used in various statistical analyses, including:\n",
        "\n",
        "Hypothesis testing: When the population standard deviation is unknown, the t-distribution is used to conduct hypothesis tests on the mean of a sample. The t-test is employed to determine if there is a significant difference between sample means or between a sample mean and a known or hypothesized value.\n",
        "\n",
        "Confidence intervals: The t-distribution is used to construct confidence intervals for population parameters, such as the mean or the difference between means. These intervals account for the uncertainty associated with small sample sizes.\n",
        "\n",
        "Linear regression: In linear regression analysis, the t-distribution is utilized to test the significance of regression coefficients and to construct confidence intervals around those coefficients. The t-distribution is employed when the assumptions of normality and constant variance hold or can be reasonably assumed.\n",
        "\n",
        "ANOVA (Analysis of Variance): In ANOVA, the t-distribution is used to test for differences among means when comparing more than two groups. It allows for the comparison of group means while considering the variability within and between groups.\n",
        "\n",
        "The student's t-distribution is particularly useful when working with small sample sizes or when the population standard deviation is unknown. It provides more accurate inferences compared to the standard normal distribution in such situations.\n",
        "\n",
        "It's important to note that the specific application of the t-distribution depends on the statistical analysis being performed and the nature of the data. It is often employed in situations where assumptions required for using the t-distribution are reasonably met or can be justified."
      ],
      "metadata": {
        "id": "_N053hRN72Ax"
      }
    },
    {
      "cell_type": "markdown",
      "source": [
        "# 18. What do you understand by statistical analysis of data, Give me scenario where you have used statistical analysis in last projects?\n"
      ],
      "metadata": {
        "id": "D2f84LwR7194"
      }
    },
    {
      "cell_type": "markdown",
      "source": [
        "**Ans.**\n",
        "\n",
        "\n",
        "Statistical analysis of data involves the application of statistical techniques and methods to explore, summarize, interpret, and draw meaningful conclusions from datasets. It encompasses various processes, including data cleaning, descriptive statistics, hypothesis testing, modeling, and inference. Statistical analysis helps uncover patterns, relationships, and insights from data, enabling data-driven decision making and understanding of real-world phenomena.\n",
        "\n",
        "Let's say I was working on a project analyzing customer churn for a subscription-based service.\n",
        "\n",
        "Data collection: Gather relevant data such as customer demographics, subscription details, usage patterns, and churn status (whether customers have canceled their subscriptions).\n",
        "\n",
        "Data cleaning and preprocessing: Clean the dataset by handling missing values, outliers, and inconsistencies. Perform data transformations if required.\n",
        "\n",
        "Descriptive statistics: Calculate summary statistics (mean, median, standard deviation, etc.) to gain a general understanding of the data. Explore the distribution of variables, identify trends, and examine key metrics related to churn rate, such as customer retention, average tenure, and subscription types.\n",
        "\n",
        "Exploratory data analysis (EDA): Conduct exploratory analysis to uncover patterns and relationships within the data. This could involve creating visualizations, analyzing correlations between variables, and identifying factors that might influence churn (e.g., usage behavior, subscription plan, customer demographics).\n",
        "\n",
        "Hypothesis testing: Formulate hypotheses about potential factors influencing churn and perform statistical tests to assess their significance. For example, conducting a chi-square test to examine the relationship between churn and categorical variables like gender or conducting a t-test to compare the average usage duration between churned and retained customers.\n",
        "\n",
        "Modeling and prediction: Develop predictive models, such as logistic regression, decision trees, or random forests, to predict customer churn based on relevant features. Assess the model performance using metrics like accuracy, precision, recall, and area under the ROC curve.\n",
        "\n",
        "Inference and interpretation: Analyze the results of the statistical models to understand the factors driving churn and their impact. Extract actionable insights and recommendations for reducing churn, such as improving customer service, enhancing product features, or optimizing pricing strategies."
      ],
      "metadata": {
        "id": "tjpowKW5v-Au"
      }
    },
    {
      "cell_type": "markdown",
      "source": [
        "# 19. Can you please tell me criterion to apply binomial distribution, with example?"
      ],
      "metadata": {
        "id": "9olUkZwpv992"
      }
    },
    {
      "cell_type": "markdown",
      "source": [
        "**Ans.**\n",
        "\n",
        "Binomial distribution is also known as probability of success.Here in each observation we try to findout of the scenario is passed ot failed. The following criteria should be met to apply the binomial distribution:\n",
        "\n",
        "Fixed number of trials (n): The number of trials in the experiment should be predetermined and remain constant throughout.\n",
        "\n",
        "Independent trials: Each trial must be independent, meaning the outcome of one trial does not affect the outcome of the other trials.\n",
        "\n",
        "Two possible outcomes: Each trial should have only two possible outcomes, commonly labeled as success (usually denoted as \"S\") and failure (usually denoted as \"F\").\n",
        "\n",
        "Constant probability of success (p): The probability of success (p) should remain constant across all trials. The probability of failure (q) is simply 1 - p."
      ],
      "metadata": {
        "id": "kge0zwcGv966"
      }
    },
    {
      "cell_type": "markdown",
      "source": [
        "# 20. There are 100 people, who are taking this particular 30 days Data science interview preparation course, what is the probability that 10 people will be able to make transition in 1 week? If 50 people were able to make transition in 3 weeks? (Hint: Poisson Distribution)\n"
      ],
      "metadata": {
        "id": "FbJcOwxiv94H"
      }
    },
    {
      "cell_type": "markdown",
      "source": [
        "**Ans.**\n",
        "\n",
        "1. Probability of 10 people making transition in 1 week\n",
        "Let's assume that on average 30 people can make a transition over 30 days. So the average transition per week = 30/4 = 7.5 (since 4 weeks in 30 days)\n",
        "\n",
        "Using poisson distribution formula the probability the probability exactly 10 people making a transition in 1 week is:\n",
        "\n",
        "P(X=10) = (e^(-λ) * λ^k) / k!\n",
        "Where λ is the average rate (7.5) and k is the desired number of successes (10).\n",
        "\n",
        "Plugging in the values:\n",
        "P(X = 10) = (e^(-7.5) * 7.5^10) / 10!"
      ],
      "metadata": {
        "id": "oFvRU7zXv91R"
      }
    },
    {
      "cell_type": "markdown",
      "source": [
        "# 21. lets suppose I have appeared in 3 interviews, what is the probability that I am able to crack at least 1 interview?\n"
      ],
      "metadata": {
        "id": "n-T-qgvav9yt"
      }
    },
    {
      "cell_type": "markdown",
      "source": [
        "**Ans.**\n",
        "\n",
        "To calculate the probability of cracking at least 1 interview out of 3, we can use the complement rule and subtract the probability of not cracking any interviews from 1.\n",
        "\n",
        "The probability of cracking an interview is p.\n",
        "\n",
        "The probability of not cracking an interview is 1-p.\n",
        "\n",
        "The probability of not cracking any of the three interview is:\n",
        "\n",
        "P(not cracking interviews) = q * q * q = q^3\n",
        "\n",
        "So probabibility of cracking atleast one interview is = 1-P = 1-q^3\n",
        "\n",
        "Please note that the value of \"p\" or the success rate for cracking an interview is needed to calculate the exact probability. Without that specific information, it is not possible to provide a numerical value for the probability."
      ],
      "metadata": {
        "id": "yjGzULaAv9wA"
      }
    },
    {
      "cell_type": "markdown",
      "source": [
        "# 22. Explain Gaussian Distribution in your own way"
      ],
      "metadata": {
        "id": "jdy1eac_v9to"
      }
    },
    {
      "cell_type": "markdown",
      "source": [
        "**Ans.**\n",
        "\n",
        "Gaussian distribution is also known as normal distribution. In this type of distribution the the data points are distributed symmertric to the mean. Which means the left side of the distribution is equivalent to right side and the middle point is mean."
      ],
      "metadata": {
        "id": "85vdLbWEv9ql"
      }
    },
    {
      "cell_type": "markdown",
      "source": [
        "# 23. What do you understand by 1st, 2nd and 3rd Standard Deviation from Mean?"
      ],
      "metadata": {
        "id": "zUT7C2ZLv9oC"
      }
    },
    {
      "cell_type": "markdown",
      "source": [
        "**Ans.**-\n",
        "\n",
        "Standard deviation defines the the distance of the datapoints from the mean or how much the data points are deviating from th-e mean. A standard normal distribution plot follows emperical formula (68-95-99.7) where approx 68% of the data lies in 1st deviation, 95% data lies in 2nd standard deviation and 99.7% data lies in 3rd standard deviation to the mean."
      ],
      "metadata": {
        "id": "EDfiaVRBv9lW"
      }
    },
    {
      "cell_type": "markdown",
      "source": [
        "# 24. What do you understand by variance in data in simple words?"
      ],
      "metadata": {
        "id": "NBgiKYKZv9is"
      }
    },
    {
      "cell_type": "markdown",
      "source": [
        "**Ans.**\n",
        "\n",
        "Variance defines spread of the data. Which means the distance between the data points in a distribution. High variance shows the data points are more spread out and low spread defines the data points are concentrated."
      ],
      "metadata": {
        "id": "ohcMWIamv9fr"
      }
    },
    {
      "cell_type": "markdown",
      "source": [
        "# 25. If variance of dataset is too high, in that case How you will be able to handle it or decrease it?"
      ],
      "metadata": {
        "id": "peHq_FCXv9dB"
      }
    },
    {
      "cell_type": "markdown",
      "source": [
        "**Ans.**\n",
        "\n",
        "Here are few ways to handle the the data with high variance:\n",
        "1. Data normalization a or standarization\n",
        "2. Feature selection or dimensionality reduction -> We use PCA to keep the most informative or relevant features and so we will reduce variance.\n",
        "3. Regularization technique: Ridge and Lasso\n",
        "4. Increasing sample size\n",
        "5. Data preprocessing and cleaning: High variance may occurr due to outliers in the dataset. By handling outliers we can decrease variance.\n",
        "6. Ensemble methods: Such as random forest and gradient boosting can be effective to reduce variance. By multiple model's prediction we can make robust decision."
      ],
      "metadata": {
        "id": "5H9nxnXSv9aN"
      }
    },
    {
      "cell_type": "markdown",
      "source": [
        "# 26. Explain the relationship between Variance and Bias."
      ],
      "metadata": {
        "id": "5e5Ly7H5v9XT"
      }
    },
    {
      "cell_type": "markdown",
      "source": [
        "**Ans.**\n",
        "\n",
        "- Bias:\n",
        "Bias is the error rate of the model in front of unseen data. When the model makes with training data and these assumptions are not correct in front of unseen data bias occurs.\n",
        "\n",
        "- Variance:\n",
        "The difference between accuracy of the model when input data changes variance occurs."
      ],
      "metadata": {
        "id": "BoTEzwGxv9Ud"
      }
    },
    {
      "cell_type": "markdown",
      "source": [
        "# 27. Tell me what kind of graph-based approach I will be able to apply to find out standardization of Dataset?"
      ],
      "metadata": {
        "id": "2BhbljTsv9RS"
      }
    },
    {
      "cell_type": "markdown",
      "source": [
        "**Ans.**\n",
        "\n",
        "To check if the dataset is standardized or not we can plot histogram and boxplot.\n",
        "\n",
        "By plotting histogram we can visualize the spread of the data, skewness, outliers. Standardized data have mean 0 and standard deviation 1. By plotting histogram we can check if the dataset follows mean 0 and standard deviation 1.\n",
        "\n",
        "By plotting boxplot we can check if the data is standardized or not. Boxplot should be symmetrical distribution with median 0 and inter quartile range equal 1."
      ],
      "metadata": {
        "id": "hRtcoJb-v9Nt"
      }
    },
    {
      "cell_type": "markdown",
      "source": [
        "# 28. What do you understand by Z Value given in Z Table?"
      ],
      "metadata": {
        "id": "8YJ8wzuVxKtr"
      }
    },
    {
      "cell_type": "markdown",
      "source": [
        "**Ans.**\n",
        "\n",
        "In statistics, the Z-value, also known as the standard score or standard deviati/on score, represents the number of standard deviations an observation or data point is away from the mean of a distribution. The Z-value is typically used in conjunction with the Z-table (also called the standard normal table or Z-score table) to determine the corresponding cumulative probability or percentile associated with a particular Z-value in a standard normal distribution.\n",
        "\n",
        "The standard normal distribution, also known as the Z-distribution or the Gaussian distribution, is a special case of the normal distribution with a mean of 0 and a standard deviation of 1. The Z-table provides the area under the curve of the standard normal distribution for different Z-values.\n",
        "\n",
        "The Z-table is organized in two dimensions: the first dimension represents the integer and decimal part of the Z-value, and the second dimension represents the decimal places. By looking up the Z-value in the table, you can find the cumulative probability associated with that Z-value.\n",
        "\n",
        "For example, if you have a Z-value of 1.96, you can use the Z-table to find the corresponding cumulative probability. In the table, you would locate the row for 1.9 and the column for 0.06 (since 1.96 falls between 1.9 and 2.0), and the corresponding value in the table would give you the cumulative probability associated with that Z-value.\n",
        "\n",
        "The Z-table is widely used in statistics and hypothesis testing to calculate probabilities, confidence intervals, and perform various statistical analyses based on the standard normal distribution."
      ],
      "metadata": {
        "id": "jRBhiFgdxKqr"
      }
    },
    {
      "cell_type": "markdown",
      "source": [
        "# 29. Do you know a Standard Normal Distribution Formula?"
      ],
      "metadata": {
        "id": "SmsiM8TAxKn3"
      }
    },
    {
      "cell_type": "markdown",
      "source": [
        "**Ans.**\n",
        "\n",
        "The formula for standard normal distribution is\n",
        "\n",
        "\n",
        "\n",
        " ![image.png](data:image/png;base64,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)"
      ],
      "metadata": {
        "id": "pphKFfg8xKkw"
      }
    },
    {
      "cell_type": "markdown",
      "source": [
        "# 30. Can you please explain critical region in your way?"
      ],
      "metadata": {
        "id": "f0M8DPQdxKhu"
      }
    },
    {
      "cell_type": "markdown",
      "source": [
        "**Ans.**\n",
        "\n",
        "Critical region is known as rejection region, is a set of values for which null hypothesis is rejected.\n",
        "\n",
        "ie. if the observed test statistics is in critical region then null hypothesis is rejected and we accept the alternate hypothesis."
      ],
      "metadata": {
        "id": "EjeDuE5AxKem"
      }
    },
    {
      "cell_type": "markdown",
      "source": [
        "# 31. Have you used AB testing in your project So far? If yes, Explain. If no, Tell me about AB testing."
      ],
      "metadata": {
        "id": "TPlJiJu2xKbs"
      }
    },
    {
      "cell_type": "markdown",
      "source": [
        "**Ans.**\n",
        "\n",
        "No I have not used AB testing in my project.\n",
        "\n",
        "In AB testing we can compare two versions of the application to determine which version performs better. Here we test  two versions of webpage with different segment of users and find which one drives more conversations."
      ],
      "metadata": {
        "id": "XTV8NBbqxKYl"
      }
    },
    {
      "cell_type": "markdown",
      "source": [
        "# 32. Can we use Alternate hypothesis as a null Hypothesis?"
      ],
      "metadata": {
        "id": "9oxfkyRCxKVw"
      }
    },
    {
      "cell_type": "markdown",
      "source": [
        "**Ans.**\n",
        "\n",
        "In hypothesis testing null hypothesis and alternate hypothesis are the concepts which can't be interchangable.\n",
        "\n",
        "Null hypothesis is the default assumption or initial assumption. It typically states that there is no significant difference or relationship between the variabes.\n",
        "\n",
        "On the other hand the alternate hypothesis contradicts or challenges the null hypothesis. It signifies that there is a difference or relationship between variables."
      ],
      "metadata": {
        "id": "VQG6yaMRxKS0"
      }
    },
    {
      "cell_type": "markdown",
      "source": [
        "# 33. Can you please explain confusion matrix for more than 2 variables?"
      ],
      "metadata": {
        "id": "CKVYwbDExKP0"
      }
    },
    {
      "cell_type": "markdown",
      "source": [
        "**Ans.**\n",
        "\n",
        "A confusion matrix, also known as an error matrix, is a table used to evaluate the performance of a classification model. It is commonly used when dealing with binary classification problems (two classes), where the predicted labels are compared against the true labels.\n",
        "\n",
        "However, the concept of a confusion matrix can be extended to multiclass classification problems, where there are more than two classes. In a multiclass confusion matrix, the table is expanded to accommodate the various combinations of predicted and true labels.\n",
        "\n",
        "Let's assume we have a multiclass classification problem with three classes: A, B, and C. The confusion matrix for this problem would be a 3x3 matrix, where the rows represent the true classes, and the columns represent the predicted classes.\n",
        "\n",
        "The elements of the confusion matrix represent the counts or frequencies of the instances that fall into each category. For example, let's consider the following confusion matrix:\n",
        "\n",
        "![image.png](data:image/png;base64,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)"
      ],
      "metadata": {
        "id": "XE6CKWhFxKM3"
      }
    },
    {
      "cell_type": "markdown",
      "source": [
        "# 34. Give me an example of False Negative From this interview?"
      ],
      "metadata": {
        "id": "BubkuZs2xKJw"
      }
    },
    {
      "cell_type": "markdown",
      "source": [
        "**Ans.**\n",
        "\n",
        "False negative in the prospective of interviews that model predicted the candidate is not selected but in actual result the candidate is selected."
      ],
      "metadata": {
        "id": "QO9KyLG4xKGy"
      }
    },
    {
      "cell_type": "markdown",
      "source": [
        "# 35. What do you understand by Precision, Recall and F1 Score with example?"
      ],
      "metadata": {
        "id": "obpktCF1xKDp"
      }
    },
    {
      "cell_type": "markdown",
      "source": [
        "**Ans.**\n",
        "\n",
        "Precision:\n",
        "\n",
        "Precision is out of all the actual values how many are correctly predicted.\n",
        "\n",
        "Precision = True Positive / (True Positive + False Positive)\n",
        "\n",
        "Recall:\n",
        "\n",
        "Recall is out of all the predicted values how many are correctly predicted. Means how many individuals are correctly predicted out of all positive\n",
        "predictions.\n",
        "\n",
        "Recall = True Positive / (True Positive + False Negative)\n",
        "\n",
        "F1 Score:\n",
        "\n",
        "F1 score considers both precision and recall to compute the score. F1 score is the weighted average of precision and recall. If the F1 score of\n",
        "you model is high then you can consider your model’s performance is\n",
        "well."
      ],
      "metadata": {
        "id": "QK5B3DhOxKAn"
      }
    },
    {
      "cell_type": "markdown",
      "source": [
        "# 36. What kind of questions do you ask to your client if they give you dataset?"
      ],
      "metadata": {
        "id": "4Pap9o0QxJ9u"
      }
    },
    {
      "cell_type": "markdown",
      "source": [
        "**Ans.**\n",
        "\n",
        "When client provides dataset the common questions I will ask:\n",
        "\n",
        "1. Data Description:\n",
        "\n",
        "What is the source of the dataset?\n",
        "\n",
        "What does each column in the dataset represent?\n",
        "\n",
        "Are there any specific data types or formats I need to be aware of?\n",
        "\n",
        "Are there any missing values or outliers in the dataset?\n",
        "2. Data Purpose:\n",
        "\n",
        "What is the objective or goal of analyzing this dataset?\n",
        "\n",
        "Are there any specific hypotheses or questions you want to explore or answer?\n",
        "\n",
        "Are there any specific metrics or insights you are looking to derive from the data?\n",
        "3. Data Exploration:\n",
        "\n",
        "What is the size of the dataset (number of rows and columns)?\n",
        "\n",
        "Can you provide a summary or sample of the data?\n",
        "\n",
        "Are there any initial patterns or trends you have observed in the data?\n",
        "4. Data Preprocessing:\n",
        "\n",
        "Are there any data preprocessing steps that have already been performed?\n",
        "\n",
        "Do you require any specific preprocessing steps like handling missing values,\n",
        "scaling, encoding categorical variables, etc.?\n",
        "5. Analysis and Modeling:\n",
        "\n",
        "What type of analysis or modeling are you looking to perform on the dataset?\n",
        "\n",
        "Are there any specific algorithms or techniques you prefer to use?\n",
        "\n",
        "Do you have any specific performance metrics or evaluation criteria in mind?\n",
        "6. Reporting and Visualization:\n",
        "\n",
        "How would you like the results or insights to be presented?\n",
        "\n",
        "Are there any specific visualizations or reports you prefer?\n",
        "7. Data Access and Security:\n",
        "\n",
        "Is the dataset publicly available or restricted to certain access?\n",
        "\n",
        "Do you have any concerns or requirements regarding data privacy or security?"
      ],
      "metadata": {
        "id": "lbf1kIcWxJ6m"
      }
    },
    {
      "cell_type": "markdown",
      "source": [
        "# 37. Have you ever done F test on your dataset, if yes, give example. If No, then explain F distribution?"
      ],
      "metadata": {
        "id": "4QrM0UqCxJ4E"
      }
    },
    {
      "cell_type": "markdown",
      "source": [
        "**Ans.**\n",
        "\n",
        "No I have not done F test on my dataset.\n",
        "\n",
        "The F distribution is commonly used in statistical hypothesis testing, particularly in ANOVA (analysis of variance) and regression analysis. In ANOVA, the F test compares the variability between group means to the variability within groups. In regression analysis, the F test is used to assess the overall significance of the regression model."
      ],
      "metadata": {
        "id": "UuemSmv2xJ0V"
      }
    },
    {
      "cell_type": "markdown",
      "source": [
        "# 38. What is AUC & ROC Curve? Explain with uses."
      ],
      "metadata": {
        "id": "3vx5VdyPxJxS"
      }
    },
    {
      "cell_type": "markdown",
      "source": [
        "**Ans.**\n",
        "\n",
        "**ROC-AUC curve :**\n",
        "\n",
        "An ROC curve (receiver operating characteristic curve) is a graph\n",
        "which shows the performance of a model at different classification\n",
        "thresholds.\n",
        "\n",
        "Using ROC we will get the thresholds and threshold for model is being selected by domain expertise.\n",
        "\n",
        "AUC(Area Under the Curve) is the area ROC(threshold) is covering. The higher the area of AUC the better the model is."
      ],
      "metadata": {
        "id": "0TOArjbWxJuV"
      }
    },
    {
      "cell_type": "markdown",
      "source": [
        "# 39. Who decided in your last project, what will be the accuracy of your model & what was the criterion to make the decision."
      ],
      "metadata": {
        "id": "_2jg-xChxJrc"
      }
    },
    {
      "cell_type": "markdown",
      "source": [
        "**Ans.**\n",
        "\n",
        "I decided the accuracy of my model after measuring it with different models. The criterion to select the accuracy was better prediction and imputation of null values using KNN imputer."
      ],
      "metadata": {
        "id": "BCLwDPXYxJot"
      }
    },
    {
      "cell_type": "markdown",
      "source": [
        "# 40. What do you understand by 1 tail test & 2 tail test? give example"
      ],
      "metadata": {
        "id": "tDEJD8xZxJlv"
      }
    },
    {
      "cell_type": "markdown",
      "source": [
        "**Ans.**\n",
        "\n",
        "One tail test allows the possibility of effect in one direction. And two tailed test allows the possibility of effect in both direction."
      ],
      "metadata": {
        "id": "P9LuoymLxJi0"
      }
    },
    {
      "cell_type": "markdown",
      "source": [
        "# 41. What do you understand by power of a test?"
      ],
      "metadata": {
        "id": "sdNsMkWYxJgC"
      }
    },
    {
      "cell_type": "markdown",
      "source": [
        "**Ans.**\n",
        "\n",
        "The power of a statistical test is the probability of correctly rejecting the null hypothesis when it is false.\n",
        "\n",
        "The power of a test depends on several factors:\n",
        "\n",
        "Effect Size: The magnitude of the difference or effect being investigated. A larger effect size generally leads to higher power.\n",
        "\n",
        "Sample Size: The number of observations or participants in the study. A larger sample size generally increases the power of the test.\n",
        "\n",
        "Significance Level: The predetermined threshold for rejecting the null hypothesis (e.g., 0.05 or 0.01). A more stringent significance level reduces the power.\n",
        "\n",
        "Variability: The amount of variability or dispersion in the data. Higher variability decreases the power of the test."
      ],
      "metadata": {
        "id": "YgtT45DjxJde"
      }
    },
    {
      "cell_type": "markdown",
      "source": [
        "# 42. How do you set level of significance for your dataset?"
      ],
      "metadata": {
        "id": "yDs9qVxnxJbU"
      }
    },
    {
      "cell_type": "markdown",
      "source": [
        "**Ans.**\n",
        "\n",
        "The level of significance, also known as the alpha level (α), is a predetermined threshold used in hypothesis testing to determine the criteria for accepting or rejecting the null hypothesis. It represents the maximum probability of making a Type I error, which is rejecting the null hypothesis when it is actually true.\n",
        "\n",
        "The choice of the level of significance depends on several factors, including the context of the study, the consequences of Type I and Type II errors, and the desired balance between them. Commonly used levels of significance are 0.05 (5%) and 0.01 (1%), but other values can be selected based on specific requirements."
      ],
      "metadata": {
        "id": "WQl6U2wWxJZP"
      }
    },
    {
      "cell_type": "markdown",
      "source": [
        "# 43. Have you ever used T table in any of your project so far? If No, then why statistic is important for data scientist? If yes, explain the scenario"
      ],
      "metadata": {
        "id": "97USjamdxJUv"
      }
    },
    {
      "cell_type": "markdown",
      "source": [
        "**Ans.**\n",
        "\n",
        "No I have not used T table in any of my project.\n",
        "\n",
        "Statistics is crucial for data scientists because it provides the necessary tools and techniques to analyze and interpret data effectively. It helps in making data-driven decisions and drawing conclusions from data.\n",
        "\n",
        "Data scientists often deal with large volumes of data, and statistics enables them to summarize and visualize the data in meaningful ways. It allows them to identify patterns, trends, and relationships within the data, which can then be used to make accurate predictions and insights.\n",
        "\n",
        "Additionally, statistics helps in assessing the reliability and validity of data. It provides techniques to test hypotheses, determine the significance of results, and make inferences about a larger population based on a sample.\n",
        "\n",
        "In summary, statistics is important for data scientists as it empowers them to extract valuable insights from data, make informed decisions, and have a solid foundation for their analysis and\n",
        "\n"
      ],
      "metadata": {
        "id": "-4mplbDhxJRR"
      }
    },
    {
      "cell_type": "markdown",
      "source": [
        "# 44. Can we productionise statistical model?"
      ],
      "metadata": {
        "id": "7U8ZoH-exJOU"
      }
    },
    {
      "cell_type": "markdown",
      "source": [
        "**Ans.**\n",
        "\n",
        "Yes, it is possible to productionize a statistical model. Productionizing a statistical model refers to the process of implementing and deploying the model into a production environment where it can be used to make predictions or generate insights in real-time.\n",
        "\n",
        "There are several steps involved in productionizing a statistical model. First, the model needs to be trained and optimized using historical data. Once the model is trained, it needs to be integrated into a production system, which may involve coding the model in a programming language such as Python or R.\n",
        "\n",
        "Next, the model needs to be deployed on a production server or cloud environment, where it can be accessed by other applications or users. This often involves setting up a scalable and reliable infrastructure to handle the model's computational needs.\n",
        "\n",
        "Finally, the model may need to be monitored and maintained to ensure its performance and accuracy over time. This may involve periodically retraining the model using new data, conducting A/B testing, and making necessary updates to the model as new insights or requirements emerge."
      ],
      "metadata": {
        "id": "-VoruzrjxJLN"
      }
    },
    {
      "cell_type": "markdown",
      "source": [
        "# 45. How frequently do you build the model and test it?"
      ],
      "metadata": {
        "id": "0IT07IMyxJIW"
      }
    },
    {
      "cell_type": "markdown",
      "source": [
        "**Ans.**\n",
        "\n",
        "In a fequency of 7days to 15 days I build model and test it using different accuracy."
      ],
      "metadata": {
        "id": "2HolvKY5xJFh"
      }
    },
    {
      "cell_type": "markdown",
      "source": [
        "# 46. What are the testing techniques that you use for model testing, name some of those?"
      ],
      "metadata": {
        "id": "vty_K_TmxJCf"
      }
    },
    {
      "cell_type": "markdown",
      "source": [
        "**Ans.**\n",
        "\n",
        "In terms of code I do test white box testing.\n",
        "\n",
        "I do test the accuracy of the model using different accuracy metrics like R-squared, adjusted R-squared, precision, recall, accuracy score, f1-score.\n",
        "\n",
        "In terms of web app I do test functional testing"
      ],
      "metadata": {
        "id": "JfwhxsBCxI_g"
      }
    },
    {
      "cell_type": "markdown",
      "source": [
        "# 47. What do you understand by sensitivity in dataset? Give example."
      ],
      "metadata": {
        "id": "Te1Oy4w9xI8q"
      }
    },
    {
      "cell_type": "markdown",
      "source": [
        "**Ans.**\n",
        "\n",
        "In the context of dataset or statistical analysis, sensitivity refers to the true positive rate or the ability of a model or test to correctly identify positive instances or cases. It measures the proportion of actual positives that are correctly identified as positives.\n",
        "\n",
        "Let's assume the following:\n",
        "\n",
        "The dataset consists of 1,000 patients.\n",
        "Among the 1,000 patients, 200 are truly positive for the disease (actual positives), while 800 are negative for the disease (actual negatives).\n",
        "The model predicts positive or negative for each patient based on the test results.\n",
        "Now, to calculate the sensitivity of the model, we focus on the positive cases. We compare the model's predictions for those actual positive cases against the true positive cases.\n",
        "\n",
        "Let's say the model correctly identifies 150 out of the 200 actual positive cases as positive. In this case, the sensitivity (true positive rate) of the model would be:\n",
        "\n",
        "Sensitivity = True Positives / (True Positives + False Negatives) = 150 / (150 + 50) = 0.75 or 75%\n",
        "\n",
        "This means that the model correctly identifies 75% of the patients who actually have the disease as positive."
      ],
      "metadata": {
        "id": "d3gY9RMxxI5v"
      }
    },
    {
      "cell_type": "markdown",
      "source": [
        "# 48. Let’s suppose you are trying to solve classification problem; how do you decide which algorithm to use? Give scenarios."
      ],
      "metadata": {
        "id": "sktN8e1-xI3O"
      }
    },
    {
      "cell_type": "markdown",
      "source": [
        "**Ans.**\n",
        "\n",
        "1. Scenario: Linearly Separable Data\n",
        "\n",
        "Consideration: If the data is linearly separable, where classes can be separated by a straight line or hyperplane, algorithms like Logistic Regression, Support Vector Machines (SVM) can be effective\n",
        "\n",
        "2. Scenario: Large Dataset\n",
        "\n",
        "Consideration: For large datasets with many features, algorithms that scale well to high-dimensional data should be considered.Algorithms like Random Forest, XGBoost or LightGBM can be effective.\n",
        "\n",
        "3. Scenario: Non-Linear Decision Boundaries\n",
        "\n",
        "Consideration: If the decision boundaries are non-linear, algorithms that can capture complex relationships may be suitable. Kernelized SVM, Decision Trees, Random Forest\n",
        "\n",
        "4. Scenario: Imbalanced Classes\n",
        "\n",
        "Consideration: In cases where the classes are imbalanced (one class has significantly fewer samples), algorithms that handle class imbalance well can be beneficial. Algorithms like Random Forest, Gradient Boosting, or specialized techniques like SMOTE (Synthetic Minority Over-sampling Technique) can help address class imbalance.\n",
        "\n",
        "5. Scenario: Interpretable Model\n",
        "\n",
        "Consideration: If interpretability is important, algorithms like Logistic Regression or Decision Trees can provide easily understandable rules or coefficients to explain the decision-making process.\n",
        "\n",
        "6. Scenario: High-Dimensional Data\n",
        "\n",
        "Consideration: In high-dimensional datasets, where the number of features is large compared to the number of samples, algorithms that handle the curse of dimensionality effectively should be considered. L1-regularized Logistic Regression (LASSO), Elastic Net, or Feature Selection techniques can be useful.\n",
        "\n",
        "7. Scenario: Ensemble of Models\n",
        "\n",
        "Consideration: If high predictive performance is the primary goal, ensemble methods like Random Forest, Gradient Boosting (e.g., XGBoost, LightGBM), or AdaBoost can be employed to combine multiple models and improve overall accuracy.\n",
        "\n",
        "8. Scenario: More categorical features in dataset\n",
        "\n",
        "If there more types of categorical features are there then to handle them we can use catboost algorithm which handles the categories by feature encoding and gives good accuracy.\n",
        "\n",
        "9. Scenario: Multiclass classification\n",
        "\n",
        "If there are multiple classes in the output label then we will be using ANN"
      ],
      "metadata": {
        "id": "1OpZkrxjxI0Z"
      }
    },
    {
      "cell_type": "markdown",
      "source": [
        "# 49. Can we use Logistic regression for classification if my no. of classes are 5?"
      ],
      "metadata": {
        "id": "Mt0IQr-TxIxa"
      }
    },
    {
      "cell_type": "markdown",
      "source": [
        "**Ans.**\n",
        "\n",
        "No, we can not use logistic regression for classification problem having number of classes are 5. Because in logistic regression the output of sigmoid function ranges between 0-1 and we find out the output based on threshold value of 0.5."
      ],
      "metadata": {
        "id": "4HdI80WrxIuf"
      }
    },
    {
      "cell_type": "markdown",
      "source": [
        "# 50. Let’s suppose there is company like OLA or UBER who provides service to many customers, then how will they make sure that car availability in particular region and what kind of dataset is required?\n"
      ],
      "metadata": {
        "id": "YrxZltOsxIr8"
      }
    },
    {
      "cell_type": "markdown",
      "source": [
        "**Ans.**\n",
        "\n",
        "That company need\n",
        "\n",
        "Real-time Data like GPS data, Booking Requests, Driver Availability\n",
        "\n",
        "Historical Data: Trip data, Driver data, customer feedback\n",
        "\n",
        "External Data: Weather, Events, Traffic\n",
        "\n",
        "By combining these datasets companies can employ various techniques and algorithms to ensure car availability\n",
        "\n",
        "Demand Forecasting, Dynamic pricing, Routing and Dispatcching, Driver incentives"
      ],
      "metadata": {
        "id": "3e2NxckYxIp5"
      }
    },
    {
      "cell_type": "markdown",
      "source": [
        "#51. AI Solution for architecture -- Let’s suppose there is agricultural field in diff areas in India, and we know soil & weather condition is different over India, So I am trying to build system which helps me understanding what kind of treatments I will be able to apply on my crops, which crop I can grow in particular month so I am be able to maximize the benefit form the soil. Then what kind of algorithm you will use whether its ML, DL, Vision? What will be your approach and what kind of solution design you will provide?"
      ],
      "metadata": {
        "id": "FjkeZAlnxIn7"
      }
    },
    {
      "cell_type": "markdown",
      "source": [
        "**Ans.**\n"
      ],
      "metadata": {
        "id": "AojPTEE5xIjl"
      }
    },
    {
      "cell_type": "markdown",
      "source": [
        "# 52. I have a client, they are facing a problem in terms of maintaining the pipeline for water. So what kind of AI solution you will design to identify the leakage and maintenance?\n"
      ],
      "metadata": {
        "id": "-58NmFJbxIgt"
      }
    },
    {
      "cell_type": "markdown",
      "source": [
        "**Ans.**\n",
        "\n"
      ],
      "metadata": {
        "id": "uYxDcTaIxIeI"
      }
    },
    {
      "cell_type": "markdown",
      "source": [
        "# 53. Let’s suppose I am building solution for blind people What kind of AI solution you will provide to help them to interact with the system, an Affordable solution?"
      ],
      "metadata": {
        "id": "bwr-rCJHxIbW"
      }
    },
    {
      "cell_type": "markdown",
      "source": [
        "**Ans.**\n",
        "\n"
      ],
      "metadata": {
        "id": "hkWnByDLxIYf"
      }
    },
    {
      "cell_type": "markdown",
      "source": [
        "# 54. What is difference between R2 and Adjusted R2?"
      ],
      "metadata": {
        "id": "K3tOe6wlxIVW"
      }
    },
    {
      "cell_type": "markdown",
      "source": [
        "**Ans.**\n",
        "\n",
        "R-squared:\n",
        "\n",
        "R-squared score defines the performance of the model. It's value ranges between 0-1. If the r-squareed value is 1 then we got the best fit line. It defines how much the regression line is better than the mean line.\n",
        "\n",
        "The draw back in R-sqaured that it increases the accuracy of the model for un-corelated features.\n",
        "\n",
        "![image.png](data:image/png;base64,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)\n",
        "\n",
        "Adjusted R-squared:\n",
        "\n",
        "Adjusted Rsquared measures the performance of the model based on importance of the feature. So it gives the accurate accuracy.\n",
        "\n",
        "![image.png](data:image/png;base64,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)"
      ],
      "metadata": {
        "id": "qWEZNAUpxISo"
      }
    },
    {
      "cell_type": "markdown",
      "source": [
        "# 55. Where do you apply Regularization and What kind of regularization you have applied and Why?"
      ],
      "metadata": {
        "id": "z9mk_0LdxIQB"
      }
    },
    {
      "cell_type": "markdown",
      "source": [
        "**Ans.**\n",
        "\n",
        "Regularization can be applied in various component of machine learning pipeline\n",
        "\n",
        "Feature Selection:\n",
        "\n",
        "Regularization techniques can be used to select most important features and eliminate irrelevant features from the dataset. This helps reducing overfitting and improve model performance.\n",
        "\n",
        "Model training:\n",
        "\n",
        "Regularization can be applied during the training phase by adding a penalty term to the loss function. This penalty discourages the model from assigning excessively large weights to certain features, preventing overfitting.\n",
        "\n",
        "Model evaluation:\n",
        "\n",
        "Regularization can also be used during the evaluation of the model by assessing the performance on a separate validation set. This helps to determine if regularization is necessary and if the chosen regularization technique is effectively preventing overfitting.\n",
        "\n",
        "L1 regularization adds a penalty term based on the absolute value of the coefficients. This technique encourages sparse solutions by driving some coefficients to zero, which is helpful when there are many irrelevant redundant features in the dataset.\n",
        "\n",
        "L2 regularization adds a penalty term based on the square of the coefficients. It encourages smaller weights for all features, making it beneficial when dealing with multicollinearity or high-dimensional datasets.\n",
        "\n",
        "The use of L1 and L2 regularization depends on specific requirements."
      ],
      "metadata": {
        "id": "Ln_7-RufxINV"
      }
    },
    {
      "cell_type": "markdown",
      "source": [
        "# 56. What do you understand by multicollinearity and homoscedasticity in Dataset?"
      ],
      "metadata": {
        "id": "DJSY90J6xIKb"
      }
    },
    {
      "cell_type": "markdown",
      "source": [
        "**Ans.**\n",
        "\n",
        "**Multicolinearity:**\n",
        "\n",
        "It is phenomena where there is relation between X & X. Correlation between independent variables leads to data redundancy. If there is multicollinearity we may see some biasness in the model. We will always consider non-multicollinear data. To identify multicollinearity we can use VIF, corr(), Feature Transformation. We can use Ridge and Lasso Regression to eliminate multicollinear variables. If there is any feature which is more than 95% correlated then we need to go with any one.\n",
        "\n",
        "**Homosedacity:**\n",
        "\n",
        "Homoscedasticity describes a situation where variance of residuals or\n",
        "error term is same across all the independent variables. But error term\n",
        "should showcase a constant variance.\n",
        "\n",
        "To handle homoscedasticity in the data set we can use\n",
        "\n",
        "• Transformation\n",
        "\n",
        "• Feature Engineering"
      ],
      "metadata": {
        "id": "UCgLakF4xIHV"
      }
    },
    {
      "cell_type": "markdown",
      "source": [
        "# 57. Can you please explain 1 example of Polynomial Regression and how to build model for polynomial regression.\n"
      ],
      "metadata": {
        "id": "sFOzimGfxIEs"
      }
    },
    {
      "cell_type": "markdown",
      "source": [
        "**Ans.**\n",
        "\n",
        "Polynomial regression is one of the machine learning algorithms used for making predictions.\n",
        "\n",
        "One example of Polynomial Regression is predicting housing prices based on the size of the house. Let's say we have a dataset with the size of houses and their corresponding prices. In a simple linear regression, we would fit a straight line to the data points. However, if there is a curved relationship between the size of the house and its price, a linear regression would not accurately capture this relationship."
      ],
      "metadata": {
        "id": "Oacojez7xICF"
      }
    },
    {
      "cell_type": "markdown",
      "source": [
        "# 58. There is some client who are intercepting a call like 3,4 or 5 people talking in zoom call. Tell me approach so that we can able to separate the voices of each and every person. (Hint: Speech Diarization)"
      ],
      "metadata": {
        "id": "5M2XVruXxH_r"
      }
    },
    {
      "cell_type": "markdown",
      "source": [
        "**Ans.**\n",
        "\n"
      ],
      "metadata": {
        "id": "lOxUXZQOxH9q"
      }
    },
    {
      "cell_type": "markdown",
      "source": [
        "# 59. In case of multilinear regression model, let’s suppose my number of features are 5. Can you explain me what kind of line it draws? Explain.\n"
      ],
      "metadata": {
        "id": "ED-peTYRxH5w"
      }
    },
    {
      "cell_type": "markdown",
      "source": [
        "**Ans.**\n",
        "\n",
        "Regression line in multi linear regression represents represents the relationship between multiple independent variables and a single dependent variable. In 2-dimensional scenario, the regression line is a straight line that corresponds to the best linear fit. In a 3-dimensional scenario, the line becomes a plane, representing the best fit that minimizes the error. When working with 5 features, the line becomes a hyperplane, which is a generalization of a plane in higher dimensional spaces."
      ],
      "metadata": {
        "id": "MOG6cnYBxH2-"
      }
    },
    {
      "cell_type": "markdown",
      "source": [
        "# 60. List no. of algorithms that you know from clustering."
      ],
      "metadata": {
        "id": "-c_FFcbcxHz2"
      }
    },
    {
      "cell_type": "markdown",
      "source": [
        "**Ans.**\n",
        "\n",
        "I know for clustering algorithms like K-means, K-means++, DB scan, Hierarchical Clustering\n",
        "\n",
        "K-means algorithm divides the data into k clusters by minimizing the within-cluster variance.\n",
        "\n",
        "K-means++ algorithm considers the maximum distanced data points and make clusters.\n",
        "\n",
        "Hierarchical algorithm builds a hierarchy of clusters by recursively partitioning the data.\n",
        "\n",
        "DBSCAN algorithm groups data points that are close to each other and separates them from points that are far away.\n",
        "\n"
      ],
      "metadata": {
        "id": "vv68TsRkxHw9"
      }
    },
    {
      "cell_type": "markdown",
      "source": [
        "# 61. Tell me what is evaluation techniques for clustering algorithms. List some of those."
      ],
      "metadata": {
        "id": "zJ7fJlSpy9CN"
      }
    },
    {
      "cell_type": "markdown",
      "source": [
        "**Ans.**\n",
        "\n",
        "One of the most commonly used evaluation method is silhouette score. It calculates the average distance between each data point and its own cluster compared to the distance to the nearest neighboring cluster. A higher silhouette score indicates better clustering.\n",
        "\n",
        "The Rand index is used to evaluate the similarity between two clustering results. It measures the agreement between the clusters obtained from an algorithm and the ground truth clusters, if available."
      ],
      "metadata": {
        "id": "4zYoMTuxy80s"
      }
    },
    {
      "cell_type": "markdown",
      "source": [
        "# 62. Can you please explain random state in train & test split function.\n"
      ],
      "metadata": {
        "id": "tlr5Yua4y8sj"
      }
    },
    {
      "cell_type": "markdown",
      "source": [
        "**Ans.**\n",
        "\n",
        "The random_state() in train & test split controls the shuffling process. If random_state=None then there will be different shuffling with each execution. If random_state=0 then the shuffling will be constant in eavery execution."
      ],
      "metadata": {
        "id": "edjlTyuyy8kH"
      }
    },
    {
      "cell_type": "markdown",
      "source": [
        "# 63. Lets suppose client has provided me a data, how will you evaluate that the data is fit for model building?"
      ],
      "metadata": {
        "id": "sC27Tur7y8bV"
      }
    },
    {
      "cell_type": "markdown",
      "source": [
        "**Ans.**\n",
        "\n",
        "To evaluate the data for model building I will follow the below points.\n",
        "\n",
        "1. Understand the type of the data\n",
        "\n",
        "To review the quality of the data I will check the type of them, if they are numerical or categorical. I will check the number of missing values, duplicate records and outliers in the datset. Because they can affect thequality of the model.\n",
        "\n",
        "2. Data completeness\n",
        "\n",
        "I would confirm if the provided data is complete, means that all necessary variables required for model building are included. If any of the variable is missing, I will communicate with the client to provide that data.\n",
        "\n",
        "3. Data distribution\n",
        "\n",
        "I will check the distribution of the data, that means I will check if the data is normally distributed or skewed. Understanding the distribution of the data clarifies if any normalization technique is required or not.\n",
        "\n",
        "4. Data relevance\n",
        "\n",
        "I will verify if the data being provided is for the problem statement or not. If there is any relation between the the feature and the target label. Means there will be a strong correlation between feature and the label then it indicates that the dataset is suitable for the model building.\n",
        "\n",
        "5. Data size\n",
        "\n",
        "We need to consider the sixe of the dataset provided by the client. A larger dataset provided by the client provides more reliable information and make a robust model. If the dataset provided by the client is too small then it lead to over fitting where the model performs well with the training data and worst in the test data."
      ],
      "metadata": {
        "id": "nfDML0Ngy8Tj"
      }
    },
    {
      "cell_type": "markdown",
      "source": [
        "# 64. Have you ever worked in your last project from scratch? Or you started working in middle. If you have started working from scratch then how what kind of work were doing. And if you have started from middle then what were your responsibility?"
      ],
      "metadata": {
        "id": "SfAnLiN0y8K8"
      }
    },
    {
      "cell_type": "markdown",
      "source": [
        "**Ans.**\n",
        "\n",
        "I ahve started from the scratch in my previous project.\n",
        "\n",
        "Step 1: I ahve collected the data for model building from repository.\n",
        "\n",
        "Step 2: Cleaned the data and performed Exploritory Data Analysis to understand the data, visualize and get hidden insights from that data. And find out the best accuracy giving algorithm with null value handling(KNN), and imbalanced dataset handling (SMOTE TOmek).\n",
        "\n",
        "Step 3: By following the above steps and MLOPs developed the project. and deployed it to the AWS EC2 instance.\n",
        "\n",
        "Step 4: Prepared the documentation like HLD, LLD, DPR, Wireframe Document"
      ],
      "metadata": {
        "id": "ZSPQtdMzy8CO"
      }
    },
    {
      "cell_type": "markdown",
      "source": [
        "# 65. What do you understand by machine learning? how will you explain ML to Kids."
      ],
      "metadata": {
        "id": "J3BqGk2My732"
      }
    },
    {
      "cell_type": "markdown",
      "source": [
        "**Ans.**\n",
        "\n",
        "Machine learning is finding out the pattern in the dataset and training the computer to perform the tasks according to pattern without human intervention.\n",
        "\n",
        "I will make the kids understand machine learning by taking the example of learning bicycle. At first we are not able to balance the cycle wheel or sttering. By time with practice and learning our brain automatically understand the riding pattern and how to balancce th steering on their own. Machine learning is similar to this, where the comuter understands the pattern in the dataset and start making decisions by itself just like how we learnt riding."
      ],
      "metadata": {
        "id": "NOjoWcsVy7xm"
      }
    },
    {
      "cell_type": "markdown",
      "source": [
        "# 66. Let’s suppose there is project which I am going to start for client (security & surveillance project). Client requirement is like this- they want to develop a system which can detect any kind of intrusion or unwanted or unclassified entity in region. 1. What kind of solution you will provide to solve this requirement. 2.And what kind of feature you will be able to provide? . Give complete proposal for this solution."
      ],
      "metadata": {
        "id": "K1QicmUvzPS3"
      }
    },
    {
      "cell_type": "markdown",
      "source": [
        "**Ans.**\n",
        "\n"
      ],
      "metadata": {
        "id": "587pRDXpzQFI"
      }
    },
    {
      "cell_type": "code",
      "source": [],
      "metadata": {
        "id": "GiCHi3Y8MlHY"
      },
      "execution_count": null,
      "outputs": []
    }
  ]
}