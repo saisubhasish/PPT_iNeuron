{
  "nbformat": 4,
  "nbformat_minor": 0,
  "metadata": {
    "colab": {
      "provenance": []
    },
    "kernelspec": {
      "name": "python3",
      "display_name": "Python 3"
    },
    "language_info": {
      "name": "python"
    }
  },
  "cells": [
    {
      "cell_type": "markdown",
      "source": [
        "# 1. Why python is known as the interpreted language ?"
      ],
      "metadata": {
        "id": "sD3onJVbdm6-"
      }
    },
    {
      "cell_type": "markdown",
      "source": [
        "**Ans.**\n",
        "\n",
        "In python when we executes a line codes first compiler reads the code and compliles the it to check the structure and syntax then converts the code to machine understandable language(byte code). And  python interpreter executes the code line by line. So python is called as interpreted language.\n",
        "\n",
        "Python has functional programming features, object oriented programming features, scripting language features, and modular programming features. Do we also call it as all rounder programming language."
      ],
      "metadata": {
        "id": "-Vl8wRzkdq9d"
      }
    },
    {
      "cell_type": "markdown",
      "source": [
        "# 2. Why python is slow as compared to other languages. (C, C++) ?"
      ],
      "metadata": {
        "id": "7n-DT_nBdmAV"
      }
    },
    {
      "cell_type": "markdown",
      "source": [
        "**Ans.**\n",
        "\n",
        "Python is slow because of it's interpreted nature. Python language's effectiveness decreases because of\n",
        "- Low code delivery speed and low performance -> it takes a lot of instructions to interprete and execute a machine level instruction\n",
        "- PVM handles all the low level activities like : memory management, object destruction, calling garbage collector, security etc."
      ],
      "metadata": {
        "id": "CAHPQP0PiH8a"
      }
    },
    {
      "cell_type": "markdown",
      "source": [
        "# 3. How python assigns memory to a variable ?\n",
        "\n"
      ],
      "metadata": {
        "id": "gWcRLqWwiH5r"
      }
    },
    {
      "cell_type": "markdown",
      "source": [
        "**Ans.**\n",
        "\n",
        "In python assigning memory to a variable is called stack memory allocation. Because allocation of memory happens after the function call to stack.\n",
        "\n",
        "At the time of allocation the memory size is known to the compiler when there is a function call happens, the variable gets memory allocated on the stack."
      ],
      "metadata": {
        "id": "rhy4HvohiH2j"
      }
    },
    {
      "cell_type": "markdown",
      "source": [
        "# 4. What is the use case of id functions?"
      ],
      "metadata": {
        "id": "Xc0cGz39iHzn"
      }
    },
    {
      "cell_type": "markdown",
      "source": [
        "**Ans.**\n",
        "\n",
        "In python everything is treated as class and when we creates an object of the class the referance holds the adress of the object. By-default id function prints the address of each object.\n",
        "\n",
        "Two objects with different references have different ids.\n",
        "\n",
        "eg: list, tuple\n",
        "\n",
        "But two references pointing towards same object have same address.\n",
        "\n",
        "eg:\n",
        " string"
      ],
      "metadata": {
        "id": "S_hYlRIFiHww"
      }
    },
    {
      "cell_type": "code",
      "source": [
        "s1 = 'abc'\n",
        "s2 = 'abc'\n",
        "\n",
        "print(id(s1))    # same content\n",
        "print(id(s2))    # same content\n",
        "\n",
        "s3 = 'def'\n",
        "\n",
        "print(id(s3))    # different content"
      ],
      "metadata": {
        "colab": {
          "base_uri": "https://localhost:8080/"
        },
        "id": "qIWMCXIHsXg-",
        "outputId": "9d17645a-1463-4f26-dfb8-195265e011b3"
      },
      "execution_count": null,
      "outputs": [
        {
          "output_type": "stream",
          "name": "stdout",
          "text": [
            "140404328763632\n",
            "140404328763632\n",
            "140404329359920\n"
          ]
        }
      ]
    },
    {
      "cell_type": "code",
      "source": [
        "l1 = [1,2,3]\n",
        "l2 = [1,2,3]\n",
        "\n",
        "print(id(l1))    # different object\n",
        "print(id(l2))    # different object"
      ],
      "metadata": {
        "colab": {
          "base_uri": "https://localhost:8080/"
        },
        "id": "9wfgvFZmtJNG",
        "outputId": "da526b09-2603-4137-8198-2efb1c0db2db"
      },
      "execution_count": null,
      "outputs": [
        {
          "output_type": "stream",
          "name": "stdout",
          "text": [
            "140403634189056\n",
            "140403634180736\n"
          ]
        }
      ]
    },
    {
      "cell_type": "code",
      "source": [
        "t1 = (1,2,3)\n",
        "t2 = (1,2,3)\n",
        "\n",
        "print(id(t1))    # different object\n",
        "print(id(t2))    # different object"
      ],
      "metadata": {
        "colab": {
          "base_uri": "https://localhost:8080/"
        },
        "id": "2tU7s2FGtbtt",
        "outputId": "333a683f-691b-4fc1-9413-17e7a85dd6a2"
      },
      "execution_count": null,
      "outputs": [
        {
          "output_type": "stream",
          "name": "stdout",
          "text": [
            "140403633271808\n",
            "140403635028800\n"
          ]
        }
      ]
    },
    {
      "cell_type": "markdown",
      "source": [
        "# 5. What are reserved words in python?"
      ],
      "metadata": {
        "id": "Rps6jDS_iHuG"
      }
    },
    {
      "cell_type": "markdown",
      "source": [
        "In python there are 33 reserved words. And using reserved words we can not create a variable.\n",
        "\n",
        "keywords:\n",
        "\n",
        "False, None, True  -> reserved literals\n",
        "\n",
        "and, or,not, is\n",
        "\n",
        "if, elif, else\n",
        "\n",
        "while, for, break, continue, return, in, yield\n",
        "\n",
        "try, except, finally, raise, assert\n",
        "\n",
        "import, from, as, class, def, pass\n",
        "\n",
        "global,  nonlocal, lambda,  del, with\n",
        "\n",
        "- Except the reserved literals all other literals are in lower case\n",
        "\n",
        "- int, float, str, bool, complex, list, tuple, dict are not reserved key words."
      ],
      "metadata": {
        "id": "AXBHiLlyiHrP"
      }
    },
    {
      "cell_type": "markdown",
      "source": [
        "# 6. REPL ?"
      ],
      "metadata": {
        "id": "1DAwY4R8iHoW"
      }
    },
    {
      "cell_type": "markdown",
      "source": [
        "**Ans.**\n",
        "\n",
        "REPL stands for Read Evaluation Print Loop. It is a computer environment where we can run code and immediately see the results."
      ],
      "metadata": {
        "id": "vvoDn0pciHlg"
      }
    },
    {
      "cell_type": "markdown",
      "source": [
        "# 7. Is python good for fast prototyping? If yes then how?"
      ],
      "metadata": {
        "id": "u1-3c1g2iHiu"
      }
    },
    {
      "cell_type": "markdown",
      "source": [
        "**Ans.**\n",
        "\n",
        "Python is a great language for prototyping. In python dynamic analysis and static analysis are easy. Because python is dynamically typed programming language. And compiles faster than other languages but runs slower."
      ],
      "metadata": {
        "id": "epAo7_jkiHf_"
      }
    },
    {
      "cell_type": "markdown",
      "source": [
        "# 8. Identifiers?"
      ],
      "metadata": {
        "id": "2_7lsTZKiHdI"
      }
    },
    {
      "cell_type": "markdown",
      "source": [
        "**Ans.**\n",
        "\n",
        "Identifiers are a name in python program which can be used for identification purpose. It can be a variable, method name or class name.\n",
        "\n",
        "eg:\n",
        "\n",
        "a = 10\n",
        "\n",
        "- In python we have identifiers a-z, A-Z, 0-9, _."
      ],
      "metadata": {
        "id": "ysf8s9SCiHaT"
      }
    },
    {
      "cell_type": "markdown",
      "source": [
        "# 9. Why is python called a dynamically typed language?"
      ],
      "metadata": {
        "id": "Bhc42L6_iHXj"
      }
    },
    {
      "cell_type": "markdown",
      "source": [
        "**Ans.**\n",
        "\n",
        "In python we don't have to declare the type explicitly. Based on our input value the type will be considered by PVM."
      ],
      "metadata": {
        "id": "7HpKlgpriHUr"
      }
    },
    {
      "cell_type": "code",
      "source": [
        "a = 10\n",
        "print(type(a))"
      ],
      "metadata": {
        "colab": {
          "base_uri": "https://localhost:8080/"
        },
        "id": "g_jC8SAR_s9y",
        "outputId": "f9f67f83-28ae-49c8-b9cd-9e2e84b9fffe"
      },
      "execution_count": null,
      "outputs": [
        {
          "output_type": "stream",
          "name": "stdout",
          "text": [
            "<class 'int'>\n"
          ]
        }
      ]
    },
    {
      "cell_type": "markdown",
      "source": [
        "# 10. What is the default memory size allocated to int, float, str, and other data types?"
      ],
      "metadata": {
        "id": "phtGqF5JiHSv"
      }
    },
    {
      "cell_type": "markdown",
      "source": [
        "**Ans.**\n",
        "\n",
        "The default memory size allocated to the base data types of python is 8 bytes which is sufficient to use."
      ],
      "metadata": {
        "id": "Ioxr1FMGiHO1"
      }
    },
    {
      "cell_type": "markdown",
      "source": [
        "# 11. What are built-in classes in python?"
      ],
      "metadata": {
        "id": "83gzTh1iiHLz"
      }
    },
    {
      "cell_type": "markdown",
      "source": [
        "**Ans.**\n",
        "\n",
        "We know everything in python is treated as class. So the basic data types are treated as default class:\n",
        "\n",
        "list, dict, set, str, int, float, and complex classes."
      ],
      "metadata": {
        "id": "gGxG9FEFiHI8"
      }
    },
    {
      "cell_type": "markdown",
      "source": [
        "# 12. What are bitwise operators in python?"
      ],
      "metadata": {
        "id": "UhQt7S3PiHFz"
      }
    },
    {
      "cell_type": "markdown",
      "source": [
        "**Ans.**\n",
        "\n",
        "We use operator in between two operands.\n",
        "\n",
        "The bitweise operators are:\n",
        "\n",
        "&  - and\n",
        "\n",
        "|  - or\n",
        "\n",
        "^  - xor\n",
        "\n",
        "~  - bitwise complement operator\n",
        "\n",
        " <<  - left shift operator\n",
        "\n",
        ". >>  - right shift operator\n",
        "\n",
        "\n",
        "- These operators can be used only with int value and boolean type"
      ],
      "metadata": {
        "id": "nmZ7yARxiHC3"
      }
    },
    {
      "cell_type": "code",
      "source": [
        "print(10 & 11)"
      ],
      "metadata": {
        "colab": {
          "base_uri": "https://localhost:8080/"
        },
        "id": "b2BE1_-2Gzyj",
        "outputId": "ba5ac039-d59d-4ba6-fad2-e3908c1b0545"
      },
      "execution_count": null,
      "outputs": [
        {
          "output_type": "stream",
          "name": "stdout",
          "text": [
            "10\n"
          ]
        }
      ]
    },
    {
      "cell_type": "code",
      "source": [
        "print(10>>11)"
      ],
      "metadata": {
        "colab": {
          "base_uri": "https://localhost:8080/"
        },
        "id": "UgscE2pxH5Ih",
        "outputId": "91f68e6f-9953-4141-9495-ef805c58cfcb"
      },
      "execution_count": null,
      "outputs": [
        {
          "output_type": "stream",
          "name": "stdout",
          "text": [
            "0\n"
          ]
        }
      ]
    },
    {
      "cell_type": "markdown",
      "source": [
        "# 13. discuss operator precedence?"
      ],
      "metadata": {
        "id": "HQR6xan7iHAD"
      }
    },
    {
      "cell_type": "markdown",
      "source": [
        "**Ans.**\n",
        "\n",
        "Operator precedence is the order of execution of operators."
      ],
      "metadata": {
        "id": "2FtOfH0hiG9W"
      }
    },
    {
      "cell_type": "markdown",
      "source": [
        "# 14. difference between module package and libary?"
      ],
      "metadata": {
        "id": "A91cXeCIiG6e"
      }
    },
    {
      "cell_type": "markdown",
      "source": [
        "**Ans.**\n",
        "\n",
        "module: the collection of python classes, methods, constructors, functions, and other attributes to a .py file is called as module.\n",
        "\n",
        "package: the folder or directory which contains collection of modules is called package. In python the package must have __init__.py file in it.\n",
        "\n",
        "library: the collection of packages and modules is called library."
      ],
      "metadata": {
        "id": "e_wcx_REiG3c"
      }
    },
    {
      "cell_type": "markdown",
      "source": [
        "# 15. What is type linting, linting in python?"
      ],
      "metadata": {
        "id": "cKm_jte6iG01"
      }
    },
    {
      "cell_type": "markdown",
      "source": [
        "**Ans.**\n",
        "\n",
        "linting is the technique which is used to identify the errors in the python code.\n",
        "\n",
        "We use MyPy tool."
      ],
      "metadata": {
        "id": "LS3KYUpOiGx9"
      }
    },
    {
      "cell_type": "markdown",
      "source": [
        "\n",
        "# 16. What is PEP8?"
      ],
      "metadata": {
        "id": "VTEMDCm_iGvL"
      }
    },
    {
      "cell_type": "markdown",
      "source": [
        "**Ans.**\n",
        "\n",
        "PEP8 is a python guideline.\n",
        "\n",
        "When you are building an application you need to follow certain rules.\n",
        "\n"
      ],
      "metadata": {
        "id": "Zj7CHz6qiGsN"
      }
    },
    {
      "cell_type": "markdown",
      "source": [
        "# 17. What are inbuilt data structures in python?"
      ],
      "metadata": {
        "id": "uabc2I78iGpX"
      }
    },
    {
      "cell_type": "markdown",
      "source": [
        "**Ans.**\n",
        "\n",
        "The inbuilt data structures in python are list, tuple, dict and set."
      ],
      "metadata": {
        "id": "waXc1VRQiGmv"
      }
    },
    {
      "cell_type": "markdown",
      "source": [
        "# 18. What is the difference between Tuple and list?"
      ],
      "metadata": {
        "id": "OnNQ_oy_iGj_"
      }
    },
    {
      "cell_type": "markdown",
      "source": [
        "**Ans.**\n",
        "\n",
        "- 1. List is mutable.\n",
        "- 1. Tuple is immutable.\n",
        "\n",
        "\n",
        "\n",
        "- 2. List is group of comma separated vales represent in square brackets. []\n",
        "- 2. Tuple is group of comma separated values represent in paranthesis. ()\n",
        "\n",
        "\n",
        "\n",
        "- 3. Square brackets are mandatory\n",
        "- 3. Parwanthesis are optional\n",
        "\n",
        "\n",
        "\n",
        "- 4. To store list elements PVM requires more memory.\n",
        "- 4. To store tuple elements PVM requires less memory.\n",
        "\n",
        "\n",
        "\n",
        "- 5. We can access list slower. (performance is low)\n",
        "- 5. Tuple is faster to access. (performance is more)\n",
        "\n",
        "\n",
        "- 6. Comprehension concept is applicable to list.\n",
        "- 6. Comprehension concept is not applicable to tuple\n",
        "\n",
        "\n",
        "- 7. Packing concept is not applicable to list\n",
        "- 7. Packing concept is applicable to tuple.\n",
        "\n",
        "- 8. List object is not hashable object. So we can't use as a key to dictionary.\n",
        "- 8. Tuple object is hashable object. So we can use it as key to dictionary/"
      ],
      "metadata": {
        "id": "YcQOrTd6iGhj"
      }
    },
    {
      "cell_type": "markdown",
      "source": [
        "# 19. How is the list different then numpy array or array in c++ ?"
      ],
      "metadata": {
        "id": "8Pc41NaYiGef"
      }
    },
    {
      "cell_type": "markdown",
      "source": [
        "**Ans.**\n",
        "\n",
        "- 1. List is a built-in function in python.\n",
        "- 1. We need to import Array from numpy package.\n",
        "\n",
        "- 2. List and array both are mutable and store ordered items.\n",
        "\n",
        "- 3. List can store heterogenous elements\n",
        "- 3. Array can store homogenous elements.\n",
        "\n",
        "- 4. List is slower and no memory management.\n",
        "- 4. Array is faster and memory efficient.\n",
        "\n",
        "eg.\n",
        "\n",
        "Store huge amount of data to both array and list. Array will be accessed faster than list."
      ],
      "metadata": {
        "id": "aGr6n_x4iGb2"
      }
    },
    {
      "cell_type": "markdown",
      "source": [
        "# 20. What is the difference between \"is\" and \"==\"?"
      ],
      "metadata": {
        "id": "XAMLNOYhiGY_"
      }
    },
    {
      "cell_type": "markdown",
      "source": [
        "**Ans.**\n",
        "\n",
        "\"is\" operator ment for referance (address of the objects) comparision.\n",
        "\n",
        "\"==\" operator ment for content or values comparision."
      ],
      "metadata": {
        "id": "qbFTPQWLiGWL"
      }
    },
    {
      "cell_type": "code",
      "source": [
        "print(True == False)"
      ],
      "metadata": {
        "colab": {
          "base_uri": "https://localhost:8080/"
        },
        "id": "nGCBToMSFyGs",
        "outputId": "156120e9-22f6-4aad-92fc-757bd6dfb35c"
      },
      "execution_count": null,
      "outputs": [
        {
          "output_type": "stream",
          "name": "stdout",
          "text": [
            "False\n"
          ]
        }
      ]
    },
    {
      "cell_type": "code",
      "source": [
        "t1 = (1)\n",
        "t2 = (1)\n",
        "print(id(t1))\n",
        "print(id(t2))\n",
        "\n",
        "print(id(t1) is id(t2))"
      ],
      "metadata": {
        "colab": {
          "base_uri": "https://localhost:8080/"
        },
        "id": "DkQxLy7TF2RU",
        "outputId": "ae815fec-fab4-47d4-a119-6b7ebd0c63ad"
      },
      "execution_count": null,
      "outputs": [
        {
          "output_type": "stream",
          "name": "stdout",
          "text": [
            "140404329545968\n",
            "140404329545968\n",
            "False\n"
          ]
        }
      ]
    },
    {
      "cell_type": "markdown",
      "source": [
        "# 21. What is an assert statement?"
      ],
      "metadata": {
        "id": "mz4md2A2iGTf"
      }
    },
    {
      "cell_type": "markdown",
      "source": [
        "**Ans.**\n",
        "\n",
        "Assert statement is used to verify the condition. It checks the condition in code is True or not. In case condtion is failed then it raises AssertionError."
      ],
      "metadata": {
        "id": "mDFSmOJpiGQo"
      }
    },
    {
      "cell_type": "code",
      "source": [
        "def div(a, b):\n",
        "  assert b!=0\n",
        "  return a/b\n",
        "\n",
        "div(10, 0)"
      ],
      "metadata": {
        "colab": {
          "base_uri": "https://localhost:8080/",
          "height": 321
        },
        "id": "MITfYEez4Qub",
        "outputId": "7328ca9a-e40a-4ed0-b715-0843dfe6cba8"
      },
      "execution_count": null,
      "outputs": [
        {
          "output_type": "error",
          "ename": "AssertionError",
          "evalue": "ignored",
          "traceback": [
            "\u001b[0;31m---------------------------------------------------------------------------\u001b[0m",
            "\u001b[0;31mAssertionError\u001b[0m                            Traceback (most recent call last)",
            "\u001b[0;32m<ipython-input-16-1e84d0325082>\u001b[0m in \u001b[0;36m<cell line: 5>\u001b[0;34m()\u001b[0m\n\u001b[1;32m      3\u001b[0m   \u001b[0;32mreturn\u001b[0m \u001b[0ma\u001b[0m\u001b[0;34m/\u001b[0m\u001b[0mb\u001b[0m\u001b[0;34m\u001b[0m\u001b[0;34m\u001b[0m\u001b[0m\n\u001b[1;32m      4\u001b[0m \u001b[0;34m\u001b[0m\u001b[0m\n\u001b[0;32m----> 5\u001b[0;31m \u001b[0mdiv\u001b[0m\u001b[0;34m(\u001b[0m\u001b[0;36m10\u001b[0m\u001b[0;34m,\u001b[0m \u001b[0;36m0\u001b[0m\u001b[0;34m)\u001b[0m\u001b[0;34m\u001b[0m\u001b[0;34m\u001b[0m\u001b[0m\n\u001b[0m",
            "\u001b[0;32m<ipython-input-16-1e84d0325082>\u001b[0m in \u001b[0;36mdiv\u001b[0;34m(a, b)\u001b[0m\n\u001b[1;32m      1\u001b[0m \u001b[0;32mdef\u001b[0m \u001b[0mdiv\u001b[0m\u001b[0;34m(\u001b[0m\u001b[0ma\u001b[0m\u001b[0;34m,\u001b[0m \u001b[0mb\u001b[0m\u001b[0;34m)\u001b[0m\u001b[0;34m:\u001b[0m\u001b[0;34m\u001b[0m\u001b[0;34m\u001b[0m\u001b[0m\n\u001b[0;32m----> 2\u001b[0;31m   \u001b[0;32massert\u001b[0m \u001b[0mb\u001b[0m\u001b[0;34m!=\u001b[0m\u001b[0;36m0\u001b[0m\u001b[0;34m\u001b[0m\u001b[0;34m\u001b[0m\u001b[0m\n\u001b[0m\u001b[1;32m      3\u001b[0m   \u001b[0;32mreturn\u001b[0m \u001b[0ma\u001b[0m\u001b[0;34m/\u001b[0m\u001b[0mb\u001b[0m\u001b[0;34m\u001b[0m\u001b[0;34m\u001b[0m\u001b[0m\n\u001b[1;32m      4\u001b[0m \u001b[0;34m\u001b[0m\u001b[0m\n\u001b[1;32m      5\u001b[0m \u001b[0mdiv\u001b[0m\u001b[0;34m(\u001b[0m\u001b[0;36m10\u001b[0m\u001b[0;34m,\u001b[0m \u001b[0;36m0\u001b[0m\u001b[0;34m)\u001b[0m\u001b[0;34m\u001b[0m\u001b[0;34m\u001b[0m\u001b[0m\n",
            "\u001b[0;31mAssertionError\u001b[0m: "
          ]
        }
      ]
    },
    {
      "cell_type": "markdown",
      "source": [
        "# 22. What is mutability?"
      ],
      "metadata": {
        "id": "fQvs6WRhiGOE"
      }
    },
    {
      "cell_type": "markdown",
      "source": [
        "**Ans.**\n",
        "\n",
        "Mutable means changable. If after creating an object we are able to change the contents of the object then it is muatble."
      ],
      "metadata": {
        "id": "5Ga4dqImiGLL"
      }
    },
    {
      "cell_type": "code",
      "source": [
        "# mutable\n",
        "\n",
        "l = [1,2,3]\n",
        "l.append(4)\n",
        "print(l)"
      ],
      "metadata": {
        "colab": {
          "base_uri": "https://localhost:8080/"
        },
        "id": "7zsdBNUv5EcJ",
        "outputId": "a863e9d0-3987-470a-c878-98098f5c4de3"
      },
      "execution_count": null,
      "outputs": [
        {
          "output_type": "stream",
          "name": "stdout",
          "text": [
            "[1, 2, 3, 4]\n"
          ]
        }
      ]
    },
    {
      "cell_type": "code",
      "source": [
        "# immutable\n",
        "\n",
        "t = (1,2,3)\n",
        "t.append(4)\n",
        "print(t)"
      ],
      "metadata": {
        "colab": {
          "base_uri": "https://localhost:8080/",
          "height": 200
        },
        "id": "gSZwUdrj5KWE",
        "outputId": "55b9c2b1-112d-4131-abc5-b3ee5b1dad42"
      },
      "execution_count": null,
      "outputs": [
        {
          "output_type": "error",
          "ename": "AttributeError",
          "evalue": "ignored",
          "traceback": [
            "\u001b[0;31m---------------------------------------------------------------------------\u001b[0m",
            "\u001b[0;31mAttributeError\u001b[0m                            Traceback (most recent call last)",
            "\u001b[0;32m<ipython-input-20-4f07ec8d4d6c>\u001b[0m in \u001b[0;36m<cell line: 2>\u001b[0;34m()\u001b[0m\n\u001b[1;32m      1\u001b[0m \u001b[0mt\u001b[0m \u001b[0;34m=\u001b[0m \u001b[0;34m(\u001b[0m\u001b[0;36m1\u001b[0m\u001b[0;34m,\u001b[0m\u001b[0;36m2\u001b[0m\u001b[0;34m,\u001b[0m\u001b[0;36m3\u001b[0m\u001b[0;34m)\u001b[0m\u001b[0;34m\u001b[0m\u001b[0;34m\u001b[0m\u001b[0m\n\u001b[0;32m----> 2\u001b[0;31m \u001b[0mt\u001b[0m\u001b[0;34m.\u001b[0m\u001b[0mappend\u001b[0m\u001b[0;34m(\u001b[0m\u001b[0;36m4\u001b[0m\u001b[0;34m)\u001b[0m\u001b[0;34m\u001b[0m\u001b[0;34m\u001b[0m\u001b[0m\n\u001b[0m\u001b[1;32m      3\u001b[0m \u001b[0mprint\u001b[0m\u001b[0;34m(\u001b[0m\u001b[0mt\u001b[0m\u001b[0;34m)\u001b[0m\u001b[0;34m\u001b[0m\u001b[0;34m\u001b[0m\u001b[0m\n",
            "\u001b[0;31mAttributeError\u001b[0m: 'tuple' object has no attribute 'append'"
          ]
        }
      ]
    },
    {
      "cell_type": "markdown",
      "source": [
        "# 23. What is a python generator?"
      ],
      "metadata": {
        "id": "-mARPDsyiGI9"
      }
    },
    {
      "cell_type": "markdown",
      "source": [
        "**Ans.**\n",
        "\n",
        "Python generator is the function where we use yield keyword to generate a sequence of values. Yield ketword in generator used to generate values.\n",
        "\n",
        "Generators never raises memory problem and it can handle huge amount of data.\n",
        "\n",
        "In traditional collection -> Objects will be created at the begining only.\n",
        "\n",
        "In generator case -> Objects won't be created in the begining. Object will be generated and provided on demand."
      ],
      "metadata": {
        "id": "Bv-s03jViGFt"
      }
    },
    {
      "cell_type": "code",
      "source": [
        "## comprehension concept is not applicable to tuple. It is only applicable to list.\n",
        "## If we try to apply comprehension object then we are going to get a generator object.\n",
        "\n",
        "g = (x for x in range(10))\n",
        "print(type(g))\n",
        "\n",
        "print(next(g))\n",
        "print(next(g))\n",
        "print(next(g))\n",
        "print(next(g))"
      ],
      "metadata": {
        "colab": {
          "base_uri": "https://localhost:8080/"
        },
        "id": "k9ufQqZvOW5R",
        "outputId": "78148615-2e67-4216-afa8-0d9c40bf1521"
      },
      "execution_count": null,
      "outputs": [
        {
          "output_type": "stream",
          "name": "stdout",
          "text": [
            "<class 'generator'>\n",
            "0\n",
            "1\n",
            "2\n",
            "3\n"
          ]
        }
      ]
    },
    {
      "cell_type": "code",
      "source": [
        "def myGen():\n",
        "  yield 'A'\n",
        "  yield 'B'\n",
        "  yield 'C'\n",
        "\n",
        "g = myGen()\n",
        "print(next(g))\n",
        "print(next(g))\n",
        "print(next(g))"
      ],
      "metadata": {
        "colab": {
          "base_uri": "https://localhost:8080/"
        },
        "id": "NQkt9vNXSO2D",
        "outputId": "efce99ad-fbb5-4ee1-ed01-aa38d69ecf52"
      },
      "execution_count": null,
      "outputs": [
        {
          "output_type": "stream",
          "name": "stdout",
          "text": [
            "A\n",
            "B\n",
            "C\n"
          ]
        }
      ]
    },
    {
      "cell_type": "markdown",
      "source": [
        "# 24. What is the difference between yield and return keyword?"
      ],
      "metadata": {
        "id": "Ij2UxVtaiGCs"
      }
    },
    {
      "cell_type": "markdown",
      "source": [
        "**Ans.**\n",
        "\n",
        "yield: yield statement produces generator object and return multiple values to the caller with out terminating the program.\n",
        "\n",
        "return: return statement returns a value to the caller from the function and terminates the program."
      ],
      "metadata": {
        "id": "_KIcb0kF51z7"
      }
    },
    {
      "cell_type": "markdown",
      "source": [
        "# 25. What is the zip method?"
      ],
      "metadata": {
        "id": "ZtpHtdir51vB"
      }
    },
    {
      "cell_type": "markdown",
      "source": [
        "**Ans.**\n",
        "\n",
        "The zip method is a built-in function in Python that is used to combine two or more iterables (lists, tuples, or sets) into a single iterable. It takes the corresponding elements from each iterable and creates a new tuple with those elements. This new iterable is also referred to as a \"zipped\" object.\n",
        "\n",
        "We use zip() method for\n",
        "1. memory utilazation\n",
        "2. transporation of file\n",
        "3. easy to use"
      ],
      "metadata": {
        "id": "Mt7WWsiz51rq"
      }
    },
    {
      "cell_type": "code",
      "source": [
        "# to creeate zip file\n",
        "\n",
        "from zipfile import *\n",
        "\n",
        "f = ZipFile('files.zip', 'w', ZIP_DEFLATED)\n",
        "f.write('file1.txt')\n",
        "f.write('file2.txt')\n",
        "f.write('file3.txt')\n",
        "f.write('file4.txt')\n",
        "f.close()\n",
        "\n",
        "print('FIles.zi created successfully')"
      ],
      "metadata": {
        "id": "vn_yEHJRVXpl"
      },
      "execution_count": null,
      "outputs": []
    },
    {
      "cell_type": "markdown",
      "source": [
        "# 26. What is enumerate in python?"
      ],
      "metadata": {
        "id": "SSGO1U7doGdc"
      }
    },
    {
      "cell_type": "markdown",
      "source": [
        "**Ans.**\n",
        "\n",
        "In python enumerate() is a built-in function where it iterate over the sequence keeping the track of index. It takes an iterable (list, tuple, set, dict etc) as input and returns the element and it's index as output."
      ],
      "metadata": {
        "id": "sh_EFFqZq2us"
      }
    },
    {
      "cell_type": "code",
      "source": [
        "s = set()\n",
        "s = ('i', 'n', 'e', 'u', 'r', 'o', 'n')\n",
        "\n",
        "for i, n in enumerate(s):\n",
        "  print('Index: ',i,'Element:  ',n)"
      ],
      "metadata": {
        "colab": {
          "base_uri": "https://localhost:8080/"
        },
        "id": "tKMi8eLNtSa4",
        "outputId": "aef3645a-733e-4e11-f004-c314a9cf0b47"
      },
      "execution_count": 4,
      "outputs": [
        {
          "output_type": "stream",
          "name": "stdout",
          "text": [
            "Index:  0 Element:   i\n",
            "Index:  1 Element:   n\n",
            "Index:  2 Element:   e\n",
            "Index:  3 Element:   u\n",
            "Index:  4 Element:   r\n",
            "Index:  5 Element:   o\n",
            "Index:  6 Element:   n\n"
          ]
        }
      ]
    },
    {
      "cell_type": "markdown",
      "source": [
        "# 27. What is the use of \"isinstance\" in python?"
      ],
      "metadata": {
        "id": "n-cWi4vboIlQ"
      }
    },
    {
      "cell_type": "markdown",
      "source": [
        "**Ans.**\n",
        "\n",
        "isinstance() is a python's built-in function whch we use to check if the correcponding object referance is of same type or not."
      ],
      "metadata": {
        "id": "LwVhkpfsswBA"
      }
    },
    {
      "cell_type": "code",
      "source": [
        "class Check:\n",
        "  pass\n",
        "\n",
        "\n",
        "c = Check()\n",
        "ch = isinstance(c, Check)\n",
        "print(ch)"
      ],
      "metadata": {
        "colab": {
          "base_uri": "https://localhost:8080/"
        },
        "id": "JcVm87SQuOi2",
        "outputId": "e490fe79-7937-4fac-dee1-6825139c8b6c"
      },
      "execution_count": 15,
      "outputs": [
        {
          "output_type": "stream",
          "name": "stdout",
          "text": [
            "True\n"
          ]
        }
      ]
    },
    {
      "cell_type": "markdown",
      "source": [
        "# 28. What is the difference between break and continue?"
      ],
      "metadata": {
        "id": "AaStzB_voM-S"
      }
    },
    {
      "cell_type": "markdown",
      "source": [
        "**Ans.**\n",
        "\n",
        "We use break statement in a running a loop to stop the loop completely when the condition satisfies.\n",
        "\n",
        "And we use the continue statement to skip the current iteration when condition satisfies."
      ],
      "metadata": {
        "id": "G5UdOfklvj7T"
      }
    },
    {
      "cell_type": "markdown",
      "source": [
        "# 29. What are common in built functions?"
      ],
      "metadata": {
        "id": "9frOVdtAoPXQ"
      }
    },
    {
      "cell_type": "markdown",
      "source": [
        "**Ans.**\n",
        "\n",
        "The common built-in functions are len(), sum(), min(), max(),int(), float(), str(), bool(), complex(), list(), tuple(), set(), dict(),  sorted(), type(), open()."
      ],
      "metadata": {
        "id": "hytqTzjLwd37"
      }
    },
    {
      "cell_type": "markdown",
      "source": [
        "# 30. What is the data type of user input that you take from input()?"
      ],
      "metadata": {
        "id": "yegVLaKgoRPi"
      }
    },
    {
      "cell_type": "markdown",
      "source": [
        "**Ans.**\n",
        "\n",
        "The data type when we take input from user is by-default str."
      ],
      "metadata": {
        "id": "g4PYW8xoxPek"
      }
    },
    {
      "cell_type": "markdown",
      "source": [
        "# 31. What is a context manager?"
      ],
      "metadata": {
        "id": "4iyzhxa7oUy6"
      }
    },
    {
      "cell_type": "markdown",
      "source": [
        "**Ans.**\n",
        "\n",
        "A context manager is a way managing the resources like file streams, network connections, and locks in Python. It allow you to allocate and release resources precisely when you want to."
      ],
      "metadata": {
        "id": "mMkk9FFdxZba"
      }
    },
    {
      "cell_type": "markdown",
      "source": [
        "# 32. Create a custom context manager without using contextlib?"
      ],
      "metadata": {
        "id": "2T7b3NIaoucp"
      }
    },
    {
      "cell_type": "code",
      "source": [
        "class MyContextManager:\n",
        "    def __init__(self, resource):\n",
        "        self.resource = resource\n",
        "\n",
        "    def __enter__(self):\n",
        "        print(f\"Entering context: {self.resource}\")\n",
        "        return self.resource\n",
        "\n",
        "    def __exit__(self, exc_type, exc_val, exc_tb):\n",
        "        self.cleanup()\n",
        "\n",
        "    def cleanup(self):\n",
        "        print(f\"Cleaning up resource: {self.resource}\")\n",
        "\n",
        "# Example usage\n",
        "with MyContextManager(\"my_resource\") as resource:\n",
        "    print(f\"Using resource: {resource}\")\n"
      ],
      "metadata": {
        "colab": {
          "base_uri": "https://localhost:8080/"
        },
        "id": "_hT0isUNyz20",
        "outputId": "5ea124cf-98df-4cdf-b186-99fa44838578"
      },
      "execution_count": 16,
      "outputs": [
        {
          "output_type": "stream",
          "name": "stdout",
          "text": [
            "Entering context: my_resource\n",
            "Using resource: my_resource\n",
            "Cleaning up resource: my_resource\n"
          ]
        }
      ]
    },
    {
      "cell_type": "markdown",
      "source": [
        "# 33. Common Exception types?"
      ],
      "metadata": {
        "id": "7PogFKH6owIy"
      }
    },
    {
      "cell_type": "markdown",
      "source": [
        "**Ans.**\n",
        "\n",
        "1. Syntax Error\n",
        "2. Runtime Error\n",
        "    i. NameError\n",
        "    ii. TypeError\n",
        "    iii. IndexError\n",
        "    iv. AttributeError\n",
        "    v. LogicalErrors\n",
        "3. ValueError\n",
        "\n",
        "\n",
        "\n",
        "\n",
        "\n"
      ],
      "metadata": {
        "id": "LC_WPP-H0O1g"
      }
    },
    {
      "cell_type": "markdown",
      "source": [
        "# 34. Create a custom exception?"
      ],
      "metadata": {
        "id": "P8X4qHiLo0qd"
      }
    },
    {
      "cell_type": "code",
      "source": [
        "def div(n):\n",
        "  try:\n",
        "    n/0\n",
        "  except:\n",
        "    print(\"zero_division_error\")\n",
        "\n",
        "div(int(input()))"
      ],
      "metadata": {
        "colab": {
          "base_uri": "https://localhost:8080/"
        },
        "id": "O8Vze6BAo1kG",
        "outputId": "0a1846d5-7116-4654-f428-0189b029a75c"
      },
      "execution_count": 24,
      "outputs": [
        {
          "output_type": "stream",
          "name": "stdout",
          "text": [
            "5\n",
            "zero_division_error\n"
          ]
        }
      ]
    },
    {
      "cell_type": "markdown",
      "source": [
        "# 35. How to take care paths in python to make it so independent? HINT: windows paths vs linux paths ?"
      ],
      "metadata": {
        "id": "qEmxUr6ko2nc"
      }
    },
    {
      "cell_type": "markdown",
      "source": [
        "**Ans.**\n",
        "\n",
        "Syntax:\n",
        "\n",
        "import os\n",
        "\n",
        "path = os.path.join('directory', 'subdirectory', 'file.txt')\n",
        "\n",
        "\n",
        "import os\n",
        "\n",
        "path = os.path.normpath('/path/to/dir//subdir/../file.txt')\n",
        "\n",
        "import os\n",
        "\n",
        "absolute_path = os.path.abspath('relative/path/to/file.txt')\n",
        "\n",
        "import os\n",
        "\n",
        "if os.name == 'nt':  # Windows\n",
        "\n",
        "    # Handle Windows path convention\n",
        "\n",
        "else:  # Unix-based (Linux, macOS, etc.)\n",
        "\n",
        "    # Handle Unix-based path convention"
      ],
      "metadata": {
        "id": "xKykNMWn3Ovw"
      }
    },
    {
      "cell_type": "markdown",
      "source": [
        "# 36. What are the various libraries used for testing a python application?"
      ],
      "metadata": {
        "id": "wxKHP4fqo9nC"
      }
    },
    {
      "cell_type": "markdown",
      "source": [
        "**Ans.**\n",
        "\n",
        "To test python application we use:\n",
        "1. robot framework\n",
        "2. Pytest framework\n",
        "3. Testify Framework"
      ],
      "metadata": {
        "id": "ybVya4WQ4nkP"
      }
    },
    {
      "cell_type": "markdown",
      "source": [
        "# 37. How to copy/move files from one directory to another directory using python?\n"
      ],
      "metadata": {
        "id": "sZFqk9pTpB1i"
      }
    },
    {
      "cell_type": "markdown",
      "source": [
        "**Ans.**\n",
        "\n",
        "We do copy and move files from one directory to another using the library called shutil."
      ],
      "metadata": {
        "id": "n_9PnM5C5V5J"
      }
    },
    {
      "cell_type": "code",
      "source": [
        "import shutil\n",
        "\n",
        "shutil.move('old_directory/test_file.txt', 'new_directory/test_file.txt')"
      ],
      "metadata": {
        "id": "lZINdwfx6SJf"
      },
      "execution_count": 25,
      "outputs": []
    },
    {
      "cell_type": "markdown",
      "source": [
        "# 38. What are namedtuples?"
      ],
      "metadata": {
        "id": "eyfRKgL2pFtr"
      }
    },
    {
      "cell_type": "markdown",
      "source": [
        "**Ans.**\n",
        "\n",
        "Namedtuples is a collection in python whose data is accessible as key value pairs like dictionaries and is immutable."
      ],
      "metadata": {
        "id": "Kkbgnkpf5cfy"
      }
    },
    {
      "cell_type": "markdown",
      "source": [
        "# 39. What are dataclasses?"
      ],
      "metadata": {
        "id": "aUTtPA5KpLUS"
      }
    },
    {
      "cell_type": "markdown",
      "source": [
        "**Ans.**\n",
        "\n",
        "Datclass is used to store structured data. It simplifies the task of creating classes by reducing the amount of code required. This module provides a decorator that reduces the repetitive boilerplate code required to define a data class."
      ],
      "metadata": {
        "id": "kX6YniyT5eg7"
      }
    },
    {
      "cell_type": "markdown",
      "source": [
        "# 40. What is pickling and unpickling?"
      ],
      "metadata": {
        "id": "STY0fKxUpOKs"
      }
    },
    {
      "cell_type": "markdown",
      "source": [
        "**Ans.**\n",
        "\n",
        "Pickling is the process where we try to store a object in byte stream format. ANd unpickling is the process where we convert back the byte stream format to object type."
      ],
      "metadata": {
        "id": "_eURPMUF5gpn"
      }
    },
    {
      "cell_type": "markdown",
      "source": [
        "# 41. How to delete a file using python?"
      ],
      "metadata": {
        "id": "BLDdBDDjpRka"
      }
    },
    {
      "cell_type": "markdown",
      "source": [
        "**Ans.**\n",
        "\n",
        "To delete a file using python we use the os library and remove() function."
      ],
      "metadata": {
        "id": "DcRd0aET5iSn"
      }
    },
    {
      "cell_type": "code",
      "source": [
        "import os\n",
        "\n",
        "file = 'file.txt'\n",
        "location = \"/home/User/Documents\"\n",
        "path = os.path.join(location, file)\n",
        "os.remove(path)\n",
        "\n",
        "print ('The file has been removed')"
      ],
      "metadata": {
        "id": "W9tcLLnc86N5"
      },
      "execution_count": null,
      "outputs": []
    },
    {
      "cell_type": "markdown",
      "source": [
        "# 42. give one use case of glob ?"
      ],
      "metadata": {
        "id": "w7l31JMcpUsq"
      }
    },
    {
      "cell_type": "markdown",
      "source": [
        "**Ans.**\n",
        "\n",
        "We use glob statement to declare a variable as global which will be access all over the module."
      ],
      "metadata": {
        "id": "z4joJudD5kk_"
      }
    },
    {
      "cell_type": "code",
      "source": [
        "import glob\n",
        "files = glob.glob(\"./glob/home/sample_files/*\") # Creating a glob object\n",
        "print(files)"
      ],
      "metadata": {
        "colab": {
          "base_uri": "https://localhost:8080/"
        },
        "id": "yoatji-f9Qc4",
        "outputId": "1733ae96-aba1-4cd4-bc5a-5f2f4f2773a5"
      },
      "execution_count": 29,
      "outputs": [
        {
          "output_type": "stream",
          "name": "stdout",
          "text": [
            "[]\n"
          ]
        }
      ]
    },
    {
      "cell_type": "markdown",
      "source": [
        "# 43. What is *args and **kwargs?"
      ],
      "metadata": {
        "id": "qTMFZ1JEpZRb"
      }
    },
    {
      "cell_type": "markdown",
      "source": [
        "**Ans.**\n",
        "\n",
        "*args specifies the number of non-keyworded arguments that can be passed. and the operations that can be performed on the function in Python whereas **kwargs is a variable number of keyworded arguments that can be passed to a function that can perform dictionary operations."
      ],
      "metadata": {
        "id": "mqxkOvcq_Ahe"
      }
    },
    {
      "cell_type": "markdown",
      "source": [
        "# 44. Write a function minmax() which will take variable arguments and it will return min and max of those input sequences?\n"
      ],
      "metadata": {
        "id": "cQEZwn_PpcBb"
      }
    },
    {
      "cell_type": "code",
      "source": [
        "def minmax(*args):\n",
        "    if not args:\n",
        "        return None, None\n",
        "\n",
        "    minimum = maximum = args[0]\n",
        "\n",
        "    for num in args:\n",
        "        if num < minimum:\n",
        "            minimum = num\n",
        "        if num > maximum:\n",
        "            maximum = num\n",
        "\n",
        "    return minimum, maximum"
      ],
      "metadata": {
        "id": "EET_sf9h_SPo"
      },
      "execution_count": 34,
      "outputs": []
    },
    {
      "cell_type": "markdown",
      "source": [
        "# 45. Write a lambda function to take one positive input N and return sum of squares of no. less than N"
      ],
      "metadata": {
        "id": "MJnnAWL9pg9q"
      }
    },
    {
      "cell_type": "code",
      "source": [
        "sum_of_squares = lambda N: sum([i**2 for i in range(len(str(N)))])\n",
        "\n",
        "N = int(input())\n",
        "sum_of_sqaures(N)"
      ],
      "metadata": {
        "colab": {
          "base_uri": "https://localhost:8080/",
          "height": 363
        },
        "id": "jiAOGoK-EBvG",
        "outputId": "ae1906e8-5ba2-4583-e91b-38b4c9b6fd16"
      },
      "execution_count": 40,
      "outputs": [
        {
          "name": "stdout",
          "output_type": "stream",
          "text": [
            "4\n"
          ]
        },
        {
          "output_type": "error",
          "ename": "TypeError",
          "evalue": "ignored",
          "traceback": [
            "\u001b[0;31m---------------------------------------------------------------------------\u001b[0m",
            "\u001b[0;31mTypeError\u001b[0m                                 Traceback (most recent call last)",
            "\u001b[0;32m<ipython-input-40-a0220a7846ef>\u001b[0m in \u001b[0;36m<cell line: 4>\u001b[0;34m()\u001b[0m\n\u001b[1;32m      2\u001b[0m \u001b[0;34m\u001b[0m\u001b[0m\n\u001b[1;32m      3\u001b[0m \u001b[0mN\u001b[0m \u001b[0;34m=\u001b[0m \u001b[0mint\u001b[0m\u001b[0;34m(\u001b[0m\u001b[0minput\u001b[0m\u001b[0;34m(\u001b[0m\u001b[0;34m)\u001b[0m\u001b[0;34m)\u001b[0m\u001b[0;34m\u001b[0m\u001b[0;34m\u001b[0m\u001b[0m\n\u001b[0;32m----> 4\u001b[0;31m \u001b[0msum_of_sqaures\u001b[0m\u001b[0;34m(\u001b[0m\u001b[0mN\u001b[0m\u001b[0;34m)\u001b[0m\u001b[0;34m\u001b[0m\u001b[0;34m\u001b[0m\u001b[0m\n\u001b[0m",
            "\u001b[0;32m<ipython-input-38-8355122d58a0>\u001b[0m in \u001b[0;36msum_of_sqaures\u001b[0;34m(n)\u001b[0m\n\u001b[1;32m      1\u001b[0m \u001b[0;32mdef\u001b[0m \u001b[0msum_of_sqaures\u001b[0m\u001b[0;34m(\u001b[0m\u001b[0mn\u001b[0m\u001b[0;34m)\u001b[0m\u001b[0;34m:\u001b[0m\u001b[0;34m\u001b[0m\u001b[0;34m\u001b[0m\u001b[0m\n\u001b[0;32m----> 2\u001b[0;31m   \u001b[0mprint\u001b[0m\u001b[0;34m(\u001b[0m\u001b[0;34m[\u001b[0m\u001b[0mn\u001b[0m\u001b[0;34m[\u001b[0m\u001b[0mi\u001b[0m\u001b[0;34m]\u001b[0m\u001b[0;34m**\u001b[0m\u001b[0;36m2\u001b[0m \u001b[0;32mfor\u001b[0m \u001b[0mi\u001b[0m \u001b[0;32min\u001b[0m \u001b[0mrange\u001b[0m\u001b[0;34m(\u001b[0m\u001b[0mlen\u001b[0m\u001b[0;34m(\u001b[0m\u001b[0mstr\u001b[0m\u001b[0;34m(\u001b[0m\u001b[0mn\u001b[0m\u001b[0;34m)\u001b[0m\u001b[0;34m)\u001b[0m\u001b[0;34m)\u001b[0m\u001b[0;34m]\u001b[0m\u001b[0;34m)\u001b[0m\u001b[0;34m\u001b[0m\u001b[0;34m\u001b[0m\u001b[0m\n\u001b[0m\u001b[1;32m      3\u001b[0m \u001b[0;34m\u001b[0m\u001b[0m\n\u001b[1;32m      4\u001b[0m \u001b[0;34m\u001b[0m\u001b[0m\n\u001b[1;32m      5\u001b[0m \u001b[0msum_of_sqaures\u001b[0m\u001b[0;34m(\u001b[0m\u001b[0mint\u001b[0m\u001b[0;34m(\u001b[0m\u001b[0minput\u001b[0m\u001b[0;34m(\u001b[0m\u001b[0;34m)\u001b[0m\u001b[0;34m)\u001b[0m\u001b[0;34m)\u001b[0m\u001b[0;34m\u001b[0m\u001b[0;34m\u001b[0m\u001b[0m\n",
            "\u001b[0;32m<ipython-input-38-8355122d58a0>\u001b[0m in \u001b[0;36m<listcomp>\u001b[0;34m(.0)\u001b[0m\n\u001b[1;32m      1\u001b[0m \u001b[0;32mdef\u001b[0m \u001b[0msum_of_sqaures\u001b[0m\u001b[0;34m(\u001b[0m\u001b[0mn\u001b[0m\u001b[0;34m)\u001b[0m\u001b[0;34m:\u001b[0m\u001b[0;34m\u001b[0m\u001b[0;34m\u001b[0m\u001b[0m\n\u001b[0;32m----> 2\u001b[0;31m   \u001b[0mprint\u001b[0m\u001b[0;34m(\u001b[0m\u001b[0;34m[\u001b[0m\u001b[0mn\u001b[0m\u001b[0;34m[\u001b[0m\u001b[0mi\u001b[0m\u001b[0;34m]\u001b[0m\u001b[0;34m**\u001b[0m\u001b[0;36m2\u001b[0m \u001b[0;32mfor\u001b[0m \u001b[0mi\u001b[0m \u001b[0;32min\u001b[0m \u001b[0mrange\u001b[0m\u001b[0;34m(\u001b[0m\u001b[0mlen\u001b[0m\u001b[0;34m(\u001b[0m\u001b[0mstr\u001b[0m\u001b[0;34m(\u001b[0m\u001b[0mn\u001b[0m\u001b[0;34m)\u001b[0m\u001b[0;34m)\u001b[0m\u001b[0;34m)\u001b[0m\u001b[0;34m]\u001b[0m\u001b[0;34m)\u001b[0m\u001b[0;34m\u001b[0m\u001b[0;34m\u001b[0m\u001b[0m\n\u001b[0m\u001b[1;32m      3\u001b[0m \u001b[0;34m\u001b[0m\u001b[0m\n\u001b[1;32m      4\u001b[0m \u001b[0;34m\u001b[0m\u001b[0m\n\u001b[1;32m      5\u001b[0m \u001b[0msum_of_sqaures\u001b[0m\u001b[0;34m(\u001b[0m\u001b[0mint\u001b[0m\u001b[0;34m(\u001b[0m\u001b[0minput\u001b[0m\u001b[0;34m(\u001b[0m\u001b[0;34m)\u001b[0m\u001b[0;34m)\u001b[0m\u001b[0;34m)\u001b[0m\u001b[0;34m\u001b[0m\u001b[0;34m\u001b[0m\u001b[0m\n",
            "\u001b[0;31mTypeError\u001b[0m: 'int' object is not subscriptable"
          ]
        }
      ]
    },
    {
      "cell_type": "markdown",
      "source": [
        "# 46. Write a list comprehension to return the following sequence - [1, 4, 9, 16, ]\n"
      ],
      "metadata": {
        "id": "6TvZKT0Opm0h"
      }
    },
    {
      "cell_type": "code",
      "source": [
        "sum_of_squares = lambda N: sum(i**2 for i in range(N))\n",
        "\n",
        "# Example usage:\n",
        "N = 5\n",
        "result = sum_of_squares(N)\n",
        "print(result)  # Output: 30"
      ],
      "metadata": {
        "colab": {
          "base_uri": "https://localhost:8080/"
        },
        "id": "GOhNcOJqG8Zp",
        "outputId": "37af246e-b763-4a94-d943-dd62b97db81b"
      },
      "execution_count": 41,
      "outputs": [
        {
          "output_type": "stream",
          "name": "stdout",
          "text": [
            "30\n"
          ]
        }
      ]
    },
    {
      "cell_type": "markdown",
      "source": [
        "# 47.\n",
        "```python\n",
        "scores_per_ball = [[1,2,5,6,7,4],[0,2,4,5,1],[6,6,6]]\n",
        "player_name = [\"Khohli\", \"Dhoni\", \"Bumrah\"]\n",
        "```\n",
        "Return the player name with the highest strike rate?"
      ],
      "metadata": {
        "id": "_PBl4WB-psBJ"
      }
    },
    {
      "cell_type": "markdown",
      "source": [
        "**Ans.**\n",
        "\n",
        "scores_per_ball = [[1, 2, 5, 6, 7, 4], [0, 2, 4, 5, 1], [6, 6, 6]]\n",
        "player_name = [\"Khohli\", \"Dhoni\", \"Bumrah\"]\n",
        "\n",
        "strike_rates = []\n",
        "for i in range(len(scores_per_ball)):\n",
        "    total_runs = sum(scores_per_ball[i])\n",
        "    total_balls = len(scores_per_ball[i])\n",
        "    strike_rate = (total_runs / total_balls) * 100\n",
        "    strike_rates.append(strike_rate)\n",
        "\n",
        "max_strike_rate = max(strike_rates)\n",
        "max_strike_index = strike_rates.index(max_strike_rate)\n",
        "player_with_max_strike = player_name[max_strike_index]\n",
        "\n",
        "print(\"Player with the highest strike rate:\", player_with_max_strike)\n"
      ],
      "metadata": {
        "id": "AFQj6SXV5vHZ"
      }
    },
    {
      "cell_type": "markdown",
      "source": [
        "# 48. Write a function which takes two lists as an input and return Mean Absolute Error?"
      ],
      "metadata": {
        "id": "QXruKacipxLJ"
      }
    },
    {
      "cell_type": "code",
      "source": [
        "def common_data(list1, list2):\n",
        "     result = False\n",
        "     for x in list1:\n",
        "         for y in list2:\n",
        "             if x == y:\n",
        "                 result = True\n",
        "                 return result\n",
        "print(common_data([1,2,3,4,5], [5,6,7,8,9]))\n",
        "print(common_data([1,2,3,4,5], [6,7,8,9]))\n"
      ],
      "metadata": {
        "colab": {
          "base_uri": "https://localhost:8080/"
        },
        "id": "TPhQ45eAIZSV",
        "outputId": "c0a6bfa6-a9cf-424f-b302-8c0842c76cdc"
      },
      "execution_count": 42,
      "outputs": [
        {
          "output_type": "stream",
          "name": "stdout",
          "text": [
            "True\n",
            "None\n"
          ]
        }
      ]
    },
    {
      "cell_type": "markdown",
      "source": [
        "# 49. Write a function to create a transpose of a matrix? without using numpy or any third party library?"
      ],
      "metadata": {
        "id": "U-jMe3Hwp1V_"
      }
    },
    {
      "cell_type": "code",
      "source": [
        "def transpose_matrix(matrix):\n",
        "    rows = len(matrix)\n",
        "    cols = len(matrix[0])\n",
        "\n",
        "    # Create a new matrix with swapped dimensions\n",
        "    transpose = [[0 for _ in range(rows)] for _ in range(cols)]\n",
        "\n",
        "    # Fill in the values from the original matrix\n",
        "    for i in range(rows):\n",
        "        for j in range(cols):\n",
        "            transpose[j][i] = matrix[i][j]\n",
        "\n",
        "    return transpose"
      ],
      "metadata": {
        "id": "PFttIL0ZIlYX"
      },
      "execution_count": 43,
      "outputs": []
    },
    {
      "cell_type": "markdown",
      "source": [
        "# 50. Does python have switch cases?"
      ],
      "metadata": {
        "id": "P_3lZXpMp5ih"
      }
    },
    {
      "cell_type": "code",
      "source": [
        "def process_value(value):\n",
        "    switch = {\n",
        "        'A': lambda: print(\"Processing case A\"),\n",
        "        'B': lambda: print(\"Processing case B\"),\n",
        "        'C': lambda: print(\"Processing case C\")\n",
        "    }\n",
        "\n",
        "    # Get the lambda function based on the value and execute it\n",
        "    switch.get(value, lambda: print(\"Processing default case\"))()\n",
        "\n",
        "# Usage:\n",
        "process_value('C')\n"
      ],
      "metadata": {
        "colab": {
          "base_uri": "https://localhost:8080/"
        },
        "id": "1ZXZwV0C51ST",
        "outputId": "bf1b8c64-43d5-4c5c-ddc0-881ad40b7ae9"
      },
      "execution_count": 44,
      "outputs": [
        {
          "output_type": "stream",
          "name": "stdout",
          "text": [
            "Processing case C\n"
          ]
        }
      ]
    },
    {
      "cell_type": "code",
      "source": [],
      "metadata": {
        "id": "tPx6yFnzJD8v"
      },
      "execution_count": null,
      "outputs": []
    }
  ]
}