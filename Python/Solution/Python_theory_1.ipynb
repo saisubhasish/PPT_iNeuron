{
  "nbformat": 4,
  "nbformat_minor": 0,
  "metadata": {
    "colab": {
      "provenance": []
    },
    "kernelspec": {
      "name": "python3",
      "display_name": "Python 3"
    },
    "language_info": {
      "name": "python"
    }
  },
  "cells": [
    {
      "cell_type": "markdown",
      "source": [
        "# 1. Why python is known as the interpreted language ?"
      ],
      "metadata": {
        "id": "sD3onJVbdm6-"
      }
    },
    {
      "cell_type": "markdown",
      "source": [
        "**Ans.**\n",
        "\n",
        "In python when we executes a line codes first compiler reads the code and compliles the it to check the structure and syntax then converts the code to machine understandable language(byte code). And  python interpreter executes the code line by line. So python is called as interpreted language.\n",
        "\n",
        "Python has functional programming features, object oriented programming features, scripting language features, and modular programming features. Do we also call it as all rounder programming language."
      ],
      "metadata": {
        "id": "-Vl8wRzkdq9d"
      }
    },
    {
      "cell_type": "markdown",
      "source": [
        "# 2. Why python is slow as compared to other languages. (C, C++) ?"
      ],
      "metadata": {
        "id": "7n-DT_nBdmAV"
      }
    },
    {
      "cell_type": "markdown",
      "source": [
        "**Ans.**\n",
        "\n",
        "Python is slow because of it's interpreted nature. Python language's effectiveness decreases because of\n",
        "- Low code delivery speed and low performance -> it takes a lot of instructions to interprete and execute a machine level instruction\n",
        "- PVM handles all the low level activities like : memory management, object destruction, calling garbage collector, security etc."
      ],
      "metadata": {
        "id": "CAHPQP0PiH8a"
      }
    },
    {
      "cell_type": "markdown",
      "source": [
        "# 3. How python assigns memory to a variable ?\n",
        "\n"
      ],
      "metadata": {
        "id": "gWcRLqWwiH5r"
      }
    },
    {
      "cell_type": "markdown",
      "source": [
        "**Ans.**\n",
        "\n",
        "In python assigning memory to a variable is called stack memory allocation. Because allocation of memory happens after the function call to stack.\n",
        "\n",
        "At the time of allocation the memory size is known to the compiler when there is a function call happens, the variable gets memory allocated on the stack."
      ],
      "metadata": {
        "id": "rhy4HvohiH2j"
      }
    },
    {
      "cell_type": "markdown",
      "source": [
        "# 4. What is the use case of id functions?"
      ],
      "metadata": {
        "id": "Xc0cGz39iHzn"
      }
    },
    {
      "cell_type": "markdown",
      "source": [
        "**Ans.**\n",
        "\n",
        "In python everything is treated as class and when we creates an object of the class the referance holds the adress of the object. By-default id function prints the address of each object.\n",
        "\n",
        "Two objects with different references have different ids.\n",
        "\n",
        "eg: list, tuple\n",
        "\n",
        "But two references pointing towards same object have same address.\n",
        "\n",
        "eg:\n",
        " string"
      ],
      "metadata": {
        "id": "S_hYlRIFiHww"
      }
    },
    {
      "cell_type": "code",
      "source": [
        "s1 = 'abc'\n",
        "s2 = 'abc'\n",
        "\n",
        "print(id(s1))    # same content\n",
        "print(id(s2))    # same content\n",
        "\n",
        "s3 = 'def'\n",
        "\n",
        "print(id(s3))    # different content"
      ],
      "metadata": {
        "colab": {
          "base_uri": "https://localhost:8080/"
        },
        "id": "qIWMCXIHsXg-",
        "outputId": "9d17645a-1463-4f26-dfb8-195265e011b3"
      },
      "execution_count": 9,
      "outputs": [
        {
          "output_type": "stream",
          "name": "stdout",
          "text": [
            "140404328763632\n",
            "140404328763632\n",
            "140404329359920\n"
          ]
        }
      ]
    },
    {
      "cell_type": "code",
      "source": [
        "l1 = [1,2,3]\n",
        "l2 = [1,2,3]\n",
        "\n",
        "print(id(l1))    # different object\n",
        "print(id(l2))    # different object"
      ],
      "metadata": {
        "colab": {
          "base_uri": "https://localhost:8080/"
        },
        "id": "9wfgvFZmtJNG",
        "outputId": "da526b09-2603-4137-8198-2efb1c0db2db"
      },
      "execution_count": 12,
      "outputs": [
        {
          "output_type": "stream",
          "name": "stdout",
          "text": [
            "140403634189056\n",
            "140403634180736\n"
          ]
        }
      ]
    },
    {
      "cell_type": "code",
      "source": [
        "t1 = (1,2,3)\n",
        "t2 = (1,2,3)\n",
        "\n",
        "print(id(t1))    # different object\n",
        "print(id(t2))    # different object"
      ],
      "metadata": {
        "colab": {
          "base_uri": "https://localhost:8080/"
        },
        "id": "2tU7s2FGtbtt",
        "outputId": "333a683f-691b-4fc1-9413-17e7a85dd6a2"
      },
      "execution_count": 13,
      "outputs": [
        {
          "output_type": "stream",
          "name": "stdout",
          "text": [
            "140403633271808\n",
            "140403635028800\n"
          ]
        }
      ]
    },
    {
      "cell_type": "markdown",
      "source": [
        "# 5. What are reserved words in python?"
      ],
      "metadata": {
        "id": "Rps6jDS_iHuG"
      }
    },
    {
      "cell_type": "markdown",
      "source": [
        "In python there are 33 reserved words. And using reserved words we can not create a variable.\n",
        "\n",
        "keywords:\n",
        "\n",
        "False, None, True  -> reserved literals\n",
        "\n",
        "and, or,not, is\n",
        "\n",
        "if, elif, else\n",
        "\n",
        "while, for, break, continue, return, in, yield\n",
        "\n",
        "try, except, finally, raise, assert\n",
        "\n",
        "import, from, as, class, def, pass\n",
        "\n",
        "global,  nonlocal, lambda,  del, with\n",
        "\n",
        "- Except the reserved literals all other literals are in lower case\n",
        "\n",
        "- int, float, str, bool, complex, list, tuple, dict are not reserved key words."
      ],
      "metadata": {
        "id": "AXBHiLlyiHrP"
      }
    },
    {
      "cell_type": "markdown",
      "source": [
        "# 6. REPL ?"
      ],
      "metadata": {
        "id": "1DAwY4R8iHoW"
      }
    },
    {
      "cell_type": "markdown",
      "source": [
        "**Ans.**\n",
        "\n",
        "REPL stands for Read Evaluation Print Loop. It is a computer environment where we can run code and immediately see the results."
      ],
      "metadata": {
        "id": "vvoDn0pciHlg"
      }
    },
    {
      "cell_type": "markdown",
      "source": [
        "# 7. Is python good for fast prototyping? If yes then how?"
      ],
      "metadata": {
        "id": "u1-3c1g2iHiu"
      }
    },
    {
      "cell_type": "markdown",
      "source": [
        "**Ans.**\n",
        "\n",
        "Python is a great language for prototyping. In python dynamic analysis and static analysis are easy. Because python is dynamically typed programming language. And compiles faster than other languages but runs slower."
      ],
      "metadata": {
        "id": "epAo7_jkiHf_"
      }
    },
    {
      "cell_type": "markdown",
      "source": [
        "# 8. Identifiers?"
      ],
      "metadata": {
        "id": "2_7lsTZKiHdI"
      }
    },
    {
      "cell_type": "markdown",
      "source": [
        "**Ans.**\n",
        "\n",
        "Identifiers are a name in python program which can be used for identification purpose. It can be a variable, method name or class name.\n",
        "\n",
        "eg:\n",
        "\n",
        "a = 10\n",
        "\n",
        "- In python we have identifiers a-z, A-Z, 0-9, _."
      ],
      "metadata": {
        "id": "ysf8s9SCiHaT"
      }
    },
    {
      "cell_type": "markdown",
      "source": [
        "# 9. Why is python called a dynamically typed language?"
      ],
      "metadata": {
        "id": "Bhc42L6_iHXj"
      }
    },
    {
      "cell_type": "markdown",
      "source": [
        "**Ans.**\n",
        "\n",
        "In python we don't have to declare the type explicitly. Based on our input value the type will be considered by PVM."
      ],
      "metadata": {
        "id": "7HpKlgpriHUr"
      }
    },
    {
      "cell_type": "code",
      "source": [
        "a = 10\n",
        "print(type(a))"
      ],
      "metadata": {
        "colab": {
          "base_uri": "https://localhost:8080/"
        },
        "id": "g_jC8SAR_s9y",
        "outputId": "f9f67f83-28ae-49c8-b9cd-9e2e84b9fffe"
      },
      "execution_count": 21,
      "outputs": [
        {
          "output_type": "stream",
          "name": "stdout",
          "text": [
            "<class 'int'>\n"
          ]
        }
      ]
    },
    {
      "cell_type": "markdown",
      "source": [
        "# 10. What is the default memory size allocated to int, float, str, and other data types?"
      ],
      "metadata": {
        "id": "phtGqF5JiHSv"
      }
    },
    {
      "cell_type": "markdown",
      "source": [
        "**Ans.**\n",
        "\n",
        "The default memory size allocated to the base data types of python is 8 bytes which is sufficient to use."
      ],
      "metadata": {
        "id": "Ioxr1FMGiHO1"
      }
    },
    {
      "cell_type": "markdown",
      "source": [
        "# 11. What are built-in classes in python?"
      ],
      "metadata": {
        "id": "83gzTh1iiHLz"
      }
    },
    {
      "cell_type": "markdown",
      "source": [
        "**Ans.**\n",
        "\n",
        "We know everything in python is treated as class. So the basic data types are treated as default class:\n",
        "\n",
        "list, dict, set, str, int, float, and complex classes."
      ],
      "metadata": {
        "id": "gGxG9FEFiHI8"
      }
    },
    {
      "cell_type": "markdown",
      "source": [
        "# 12. What are bitwise operators in python?"
      ],
      "metadata": {
        "id": "UhQt7S3PiHFz"
      }
    },
    {
      "cell_type": "markdown",
      "source": [
        "**Ans.**\n",
        "\n",
        "We use operator in between two operands.\n",
        "\n",
        "The bitweise operators are:\n",
        "\n",
        "&  - and\n",
        "\n",
        "|  - or\n",
        "\n",
        "^  - xor\n",
        "\n",
        "~  - bitwise complement operator\n",
        "\n",
        " <<  - left shift operator\n",
        "\n",
        ". >>  - right shift operator\n",
        "\n",
        "\n",
        "- These operators can be used only with int value and boolean type"
      ],
      "metadata": {
        "id": "nmZ7yARxiHC3"
      }
    },
    {
      "cell_type": "code",
      "source": [
        "print(10 & 11)"
      ],
      "metadata": {
        "colab": {
          "base_uri": "https://localhost:8080/"
        },
        "id": "b2BE1_-2Gzyj",
        "outputId": "ba5ac039-d59d-4ba6-fad2-e3908c1b0545"
      },
      "execution_count": 28,
      "outputs": [
        {
          "output_type": "stream",
          "name": "stdout",
          "text": [
            "10\n"
          ]
        }
      ]
    },
    {
      "cell_type": "code",
      "source": [
        "print(10>>11)"
      ],
      "metadata": {
        "colab": {
          "base_uri": "https://localhost:8080/"
        },
        "id": "UgscE2pxH5Ih",
        "outputId": "91f68e6f-9953-4141-9495-ef805c58cfcb"
      },
      "execution_count": 30,
      "outputs": [
        {
          "output_type": "stream",
          "name": "stdout",
          "text": [
            "0\n"
          ]
        }
      ]
    },
    {
      "cell_type": "markdown",
      "source": [
        "# 13. discuss operator precedence?"
      ],
      "metadata": {
        "id": "HQR6xan7iHAD"
      }
    },
    {
      "cell_type": "markdown",
      "source": [
        "**Ans.**\n",
        "\n",
        "Operator precedence is the order of execution of operators."
      ],
      "metadata": {
        "id": "2FtOfH0hiG9W"
      }
    },
    {
      "cell_type": "markdown",
      "source": [
        "# 14. difference between module package and libary?"
      ],
      "metadata": {
        "id": "A91cXeCIiG6e"
      }
    },
    {
      "cell_type": "markdown",
      "source": [
        "**Ans.**\n",
        "\n",
        "module: the collection of python classes, methods, constructors, functions, and other attributes to a .py file is called as module.\n",
        "\n",
        "package: the folder or directory which contains collection of modules is called package. In python the package must have __init__.py file in it.\n",
        "\n",
        "library: the collection of packages and modules is called library."
      ],
      "metadata": {
        "id": "e_wcx_REiG3c"
      }
    },
    {
      "cell_type": "markdown",
      "source": [
        "# 15. What is type linting, linting in python?"
      ],
      "metadata": {
        "id": "cKm_jte6iG01"
      }
    },
    {
      "cell_type": "markdown",
      "source": [
        "**Ans.**\n",
        "\n",
        "linting is the technique which is used to identify the errors in the python code.\n",
        "\n",
        "We use MyPy tool."
      ],
      "metadata": {
        "id": "LS3KYUpOiGx9"
      }
    },
    {
      "cell_type": "markdown",
      "source": [
        "\n",
        "# 16. What is PEP8?"
      ],
      "metadata": {
        "id": "VTEMDCm_iGvL"
      }
    },
    {
      "cell_type": "markdown",
      "source": [
        "**Ans.**\n",
        "\n",
        "PEP8 is a python guideline.\n",
        "\n",
        "When you are building an application you need to follow certain rules.\n",
        "\n"
      ],
      "metadata": {
        "id": "Zj7CHz6qiGsN"
      }
    },
    {
      "cell_type": "markdown",
      "source": [
        "# 17. What are inbuilt data structures in python?"
      ],
      "metadata": {
        "id": "uabc2I78iGpX"
      }
    },
    {
      "cell_type": "markdown",
      "source": [
        "**Ans.**\n",
        "\n",
        "The inbuilt data structures in python are list, tuple, dict and set."
      ],
      "metadata": {
        "id": "waXc1VRQiGmv"
      }
    },
    {
      "cell_type": "markdown",
      "source": [
        "# 18. What is the difference between Tuple and list?"
      ],
      "metadata": {
        "id": "OnNQ_oy_iGj_"
      }
    },
    {
      "cell_type": "markdown",
      "source": [
        "**Ans.**\n",
        "\n",
        "- 1. List is mutable.\n",
        "- 1. Tuple is immutable.\n",
        "\n",
        "\n",
        "\n",
        "- 2. List is group of comma separated vales represent in square brackets. []\n",
        "- 2. Tuple is group of comma separated values represent in paranthesis. ()\n",
        "\n",
        "\n",
        "\n",
        "- 3. Square brackets are mandatory\n",
        "- 3. Parwanthesis are optional\n",
        "\n",
        "\n",
        "\n",
        "- 4. To store list elements PVM requires more memory.\n",
        "- 4. To store tuple elements PVM requires less memory.\n",
        "\n",
        "\n",
        "\n",
        "- 5. We can access list slower. (performance is low)\n",
        "- 5. Tuple is faster to access. (performance is more)\n",
        "\n",
        "\n",
        "- 6. Comprehension concept is applicable to list.\n",
        "- 6. Comprehension concept is not applicable to tuple\n",
        "\n",
        "\n",
        "- 7. Packing concept is not applicable to list\n",
        "- 7. Packing concept is applicable to tuple.\n",
        "\n",
        "- 8. List object is not hashable object. So we can't use as a key to dictionary.\n",
        "- 8. Tuple object is hashable object. So we can use it as key to dictionary/"
      ],
      "metadata": {
        "id": "YcQOrTd6iGhj"
      }
    },
    {
      "cell_type": "markdown",
      "source": [
        "# 19. How is the list different then numpy array or array in c++ ?"
      ],
      "metadata": {
        "id": "8Pc41NaYiGef"
      }
    },
    {
      "cell_type": "markdown",
      "source": [
        "**Ans.**\n",
        "\n",
        "- 1. List is a built-in function in python.\n",
        "- 1. We need to import Array from numpy package.\n",
        "\n",
        "- 2. List and array both are mutable and store ordered items.\n",
        "\n",
        "- 3. List can store heterogenous elements\n",
        "- 3. Array can store homogenous elements.\n",
        "\n",
        "- 4. List is slower and no memory management.\n",
        "- 4. Array is faster and memory efficient.\n",
        "\n",
        "eg.\n",
        "\n",
        "Store huge amount of data to both array and list. Array will be accessed faster than list."
      ],
      "metadata": {
        "id": "aGr6n_x4iGb2"
      }
    },
    {
      "cell_type": "markdown",
      "source": [
        "# 20. What is the difference between \"is\" and \"==\"?"
      ],
      "metadata": {
        "id": "XAMLNOYhiGY_"
      }
    },
    {
      "cell_type": "markdown",
      "source": [
        "**Ans.**\n",
        "\n",
        "\"is\" operator ment for referance (address of the objects) comparision.\n",
        "\n",
        "\"==\" operator ment for content or values comparision."
      ],
      "metadata": {
        "id": "qbFTPQWLiGWL"
      }
    },
    {
      "cell_type": "code",
      "source": [
        "print(True == False)"
      ],
      "metadata": {
        "colab": {
          "base_uri": "https://localhost:8080/"
        },
        "id": "nGCBToMSFyGs",
        "outputId": "156120e9-22f6-4aad-92fc-757bd6dfb35c"
      },
      "execution_count": 22,
      "outputs": [
        {
          "output_type": "stream",
          "name": "stdout",
          "text": [
            "False\n"
          ]
        }
      ]
    },
    {
      "cell_type": "code",
      "source": [
        "t1 = (1)\n",
        "t2 = (1)\n",
        "print(id(t1))\n",
        "print(id(t2))\n",
        "\n",
        "print(id(t1) is id(t2))"
      ],
      "metadata": {
        "colab": {
          "base_uri": "https://localhost:8080/"
        },
        "id": "DkQxLy7TF2RU",
        "outputId": "ae815fec-fab4-47d4-a119-6b7ebd0c63ad"
      },
      "execution_count": 27,
      "outputs": [
        {
          "output_type": "stream",
          "name": "stdout",
          "text": [
            "140404329545968\n",
            "140404329545968\n",
            "False\n"
          ]
        }
      ]
    },
    {
      "cell_type": "markdown",
      "source": [
        "# 21. What is an assert statement?"
      ],
      "metadata": {
        "id": "mz4md2A2iGTf"
      }
    },
    {
      "cell_type": "markdown",
      "source": [
        "**Ans.**\n",
        "\n",
        "Assert statement is used to verify the condition. It checks the condition in code is True or not. In case condtion is failed then it raises AssertionError."
      ],
      "metadata": {
        "id": "mDFSmOJpiGQo"
      }
    },
    {
      "cell_type": "code",
      "source": [
        "def div(a, b):\n",
        "  assert b!=0\n",
        "  return a/b\n",
        "\n",
        "div(10, 0)"
      ],
      "metadata": {
        "colab": {
          "base_uri": "https://localhost:8080/",
          "height": 321
        },
        "id": "MITfYEez4Qub",
        "outputId": "7328ca9a-e40a-4ed0-b715-0843dfe6cba8"
      },
      "execution_count": 16,
      "outputs": [
        {
          "output_type": "error",
          "ename": "AssertionError",
          "evalue": "ignored",
          "traceback": [
            "\u001b[0;31m---------------------------------------------------------------------------\u001b[0m",
            "\u001b[0;31mAssertionError\u001b[0m                            Traceback (most recent call last)",
            "\u001b[0;32m<ipython-input-16-1e84d0325082>\u001b[0m in \u001b[0;36m<cell line: 5>\u001b[0;34m()\u001b[0m\n\u001b[1;32m      3\u001b[0m   \u001b[0;32mreturn\u001b[0m \u001b[0ma\u001b[0m\u001b[0;34m/\u001b[0m\u001b[0mb\u001b[0m\u001b[0;34m\u001b[0m\u001b[0;34m\u001b[0m\u001b[0m\n\u001b[1;32m      4\u001b[0m \u001b[0;34m\u001b[0m\u001b[0m\n\u001b[0;32m----> 5\u001b[0;31m \u001b[0mdiv\u001b[0m\u001b[0;34m(\u001b[0m\u001b[0;36m10\u001b[0m\u001b[0;34m,\u001b[0m \u001b[0;36m0\u001b[0m\u001b[0;34m)\u001b[0m\u001b[0;34m\u001b[0m\u001b[0;34m\u001b[0m\u001b[0m\n\u001b[0m",
            "\u001b[0;32m<ipython-input-16-1e84d0325082>\u001b[0m in \u001b[0;36mdiv\u001b[0;34m(a, b)\u001b[0m\n\u001b[1;32m      1\u001b[0m \u001b[0;32mdef\u001b[0m \u001b[0mdiv\u001b[0m\u001b[0;34m(\u001b[0m\u001b[0ma\u001b[0m\u001b[0;34m,\u001b[0m \u001b[0mb\u001b[0m\u001b[0;34m)\u001b[0m\u001b[0;34m:\u001b[0m\u001b[0;34m\u001b[0m\u001b[0;34m\u001b[0m\u001b[0m\n\u001b[0;32m----> 2\u001b[0;31m   \u001b[0;32massert\u001b[0m \u001b[0mb\u001b[0m\u001b[0;34m!=\u001b[0m\u001b[0;36m0\u001b[0m\u001b[0;34m\u001b[0m\u001b[0;34m\u001b[0m\u001b[0m\n\u001b[0m\u001b[1;32m      3\u001b[0m   \u001b[0;32mreturn\u001b[0m \u001b[0ma\u001b[0m\u001b[0;34m/\u001b[0m\u001b[0mb\u001b[0m\u001b[0;34m\u001b[0m\u001b[0;34m\u001b[0m\u001b[0m\n\u001b[1;32m      4\u001b[0m \u001b[0;34m\u001b[0m\u001b[0m\n\u001b[1;32m      5\u001b[0m \u001b[0mdiv\u001b[0m\u001b[0;34m(\u001b[0m\u001b[0;36m10\u001b[0m\u001b[0;34m,\u001b[0m \u001b[0;36m0\u001b[0m\u001b[0;34m)\u001b[0m\u001b[0;34m\u001b[0m\u001b[0;34m\u001b[0m\u001b[0m\n",
            "\u001b[0;31mAssertionError\u001b[0m: "
          ]
        }
      ]
    },
    {
      "cell_type": "markdown",
      "source": [
        "# 22. What is mutability?"
      ],
      "metadata": {
        "id": "fQvs6WRhiGOE"
      }
    },
    {
      "cell_type": "markdown",
      "source": [
        "**Ans.**\n",
        "\n",
        "Mutable means changable. If after creating an object we are able to change the contents of the object then it is muatble."
      ],
      "metadata": {
        "id": "5Ga4dqImiGLL"
      }
    },
    {
      "cell_type": "code",
      "source": [
        "# mutable\n",
        "\n",
        "l = [1,2,3]\n",
        "l.append(4)\n",
        "print(l)"
      ],
      "metadata": {
        "colab": {
          "base_uri": "https://localhost:8080/"
        },
        "id": "7zsdBNUv5EcJ",
        "outputId": "a863e9d0-3987-470a-c878-98098f5c4de3"
      },
      "execution_count": 17,
      "outputs": [
        {
          "output_type": "stream",
          "name": "stdout",
          "text": [
            "[1, 2, 3, 4]\n"
          ]
        }
      ]
    },
    {
      "cell_type": "code",
      "source": [
        "# immutable\n",
        "\n",
        "t = (1,2,3)\n",
        "t.append(4)\n",
        "print(t)"
      ],
      "metadata": {
        "colab": {
          "base_uri": "https://localhost:8080/",
          "height": 200
        },
        "id": "gSZwUdrj5KWE",
        "outputId": "55b9c2b1-112d-4131-abc5-b3ee5b1dad42"
      },
      "execution_count": 20,
      "outputs": [
        {
          "output_type": "error",
          "ename": "AttributeError",
          "evalue": "ignored",
          "traceback": [
            "\u001b[0;31m---------------------------------------------------------------------------\u001b[0m",
            "\u001b[0;31mAttributeError\u001b[0m                            Traceback (most recent call last)",
            "\u001b[0;32m<ipython-input-20-4f07ec8d4d6c>\u001b[0m in \u001b[0;36m<cell line: 2>\u001b[0;34m()\u001b[0m\n\u001b[1;32m      1\u001b[0m \u001b[0mt\u001b[0m \u001b[0;34m=\u001b[0m \u001b[0;34m(\u001b[0m\u001b[0;36m1\u001b[0m\u001b[0;34m,\u001b[0m\u001b[0;36m2\u001b[0m\u001b[0;34m,\u001b[0m\u001b[0;36m3\u001b[0m\u001b[0;34m)\u001b[0m\u001b[0;34m\u001b[0m\u001b[0;34m\u001b[0m\u001b[0m\n\u001b[0;32m----> 2\u001b[0;31m \u001b[0mt\u001b[0m\u001b[0;34m.\u001b[0m\u001b[0mappend\u001b[0m\u001b[0;34m(\u001b[0m\u001b[0;36m4\u001b[0m\u001b[0;34m)\u001b[0m\u001b[0;34m\u001b[0m\u001b[0;34m\u001b[0m\u001b[0m\n\u001b[0m\u001b[1;32m      3\u001b[0m \u001b[0mprint\u001b[0m\u001b[0;34m(\u001b[0m\u001b[0mt\u001b[0m\u001b[0;34m)\u001b[0m\u001b[0;34m\u001b[0m\u001b[0;34m\u001b[0m\u001b[0m\n",
            "\u001b[0;31mAttributeError\u001b[0m: 'tuple' object has no attribute 'append'"
          ]
        }
      ]
    },
    {
      "cell_type": "markdown",
      "source": [
        "# 23. What is a python generator?"
      ],
      "metadata": {
        "id": "-mARPDsyiGI9"
      }
    },
    {
      "cell_type": "markdown",
      "source": [
        "**Ans.**\n",
        "\n",
        "Python generator is the function where we use yield keyword to generate a sequence of values. Yield ketword in generator used to generate values.\n",
        "\n",
        "Generators never raises memory problem and it can handle huge amount of data.\n",
        "\n",
        "In traditional collection -> Objects will be created at the begining only.\n",
        "\n",
        "In generator case -> Objects won't be created in the begining. Object will be generated and provided on demand."
      ],
      "metadata": {
        "id": "Bv-s03jViGFt"
      }
    },
    {
      "cell_type": "code",
      "source": [
        "## comprehension concept is not applicable to tuple. It is only applicable to list.\n",
        "## If we try to apply comprehension object then we are going to get a generator object.\n",
        "\n",
        "g = (x for x in range(10))\n",
        "print(type(g))\n",
        "\n",
        "print(next(g))\n",
        "print(next(g))\n",
        "print(next(g))\n",
        "print(next(g))"
      ],
      "metadata": {
        "colab": {
          "base_uri": "https://localhost:8080/"
        },
        "id": "k9ufQqZvOW5R",
        "outputId": "78148615-2e67-4216-afa8-0d9c40bf1521"
      },
      "execution_count": 41,
      "outputs": [
        {
          "output_type": "stream",
          "name": "stdout",
          "text": [
            "<class 'generator'>\n",
            "0\n",
            "1\n",
            "2\n",
            "3\n"
          ]
        }
      ]
    },
    {
      "cell_type": "code",
      "source": [
        "def myGen():\n",
        "  yield 'A'\n",
        "  yield 'B'\n",
        "  yield 'C'\n",
        "\n",
        "g = myGen()\n",
        "print(next(g))\n",
        "print(next(g))\n",
        "print(next(g))"
      ],
      "metadata": {
        "colab": {
          "base_uri": "https://localhost:8080/"
        },
        "id": "NQkt9vNXSO2D",
        "outputId": "efce99ad-fbb5-4ee1-ed01-aa38d69ecf52"
      },
      "execution_count": 45,
      "outputs": [
        {
          "output_type": "stream",
          "name": "stdout",
          "text": [
            "A\n",
            "B\n",
            "C\n"
          ]
        }
      ]
    },
    {
      "cell_type": "markdown",
      "source": [
        "# 24. What is the difference between yield and return keyword?"
      ],
      "metadata": {
        "id": "Ij2UxVtaiGCs"
      }
    },
    {
      "cell_type": "markdown",
      "source": [
        "**Ans.**\n",
        "\n",
        "yield: yield statement produces generator object and return multiple values to the caller with out terminating the program.\n",
        "\n",
        "return: return statement returns a value to the caller from the function and terminates the program."
      ],
      "metadata": {
        "id": "_KIcb0kF51z7"
      }
    },
    {
      "cell_type": "markdown",
      "source": [
        "# 25. What is the zip method?"
      ],
      "metadata": {
        "id": "ZtpHtdir51vB"
      }
    },
    {
      "cell_type": "markdown",
      "source": [
        "We use zip() method for\n",
        "1. memory utilazation\n",
        "2. transporation of file\n",
        "3. easy to use"
      ],
      "metadata": {
        "id": "Mt7WWsiz51rq"
      }
    },
    {
      "cell_type": "code",
      "source": [
        "# to creeate zip file\n",
        "\n",
        "from zipfile import *\n",
        "\n",
        "f = ZipFile('files.zip', 'w', ZIP_DEFLATED)\n",
        "f.write('file1.txt')\n",
        "f.write('file2.txt')\n",
        "f.write('file3.txt')\n",
        "f.write('file4.txt')\n",
        "f.close()\n",
        "\n",
        "print('FIles.zi created successfully')"
      ],
      "metadata": {
        "id": "vn_yEHJRVXpl"
      },
      "execution_count": 48,
      "outputs": []
    },
    {
      "cell_type": "code",
      "source": [],
      "metadata": {
        "id": "ANMkXzHwWc-N"
      },
      "execution_count": null,
      "outputs": []
    }
  ]
}