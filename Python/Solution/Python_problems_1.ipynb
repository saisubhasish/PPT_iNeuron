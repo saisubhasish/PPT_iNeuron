{
  "nbformat": 4,
  "nbformat_minor": 0,
  "metadata": {
    "colab": {
      "provenance": []
    },
    "kernelspec": {
      "name": "python3",
      "display_name": "Python 3"
    },
    "language_info": {
      "name": "python"
    }
  },
  "cells": [
    {
      "cell_type": "markdown",
      "source": [
        "# 51. Print the first 5 positive integers in ascending order with one number in each line."
      ],
      "metadata": {
        "id": "OSWRdPpm5eme"
      }
    },
    {
      "cell_type": "code",
      "execution_count": null,
      "metadata": {
        "colab": {
          "base_uri": "https://localhost:8080/"
        },
        "id": "PfNH9OuI5d0l",
        "outputId": "4458c5ff-a0d1-49b3-90b8-3cbca292c5ef"
      },
      "outputs": [
        {
          "output_type": "stream",
          "name": "stdout",
          "text": [
            "5\n",
            "1\n",
            "2\n",
            "3\n",
            "4\n",
            "5\n"
          ]
        }
      ],
      "source": [
        "def positive_integers(n):\n",
        "  \"\"\"\n",
        "  This function prints first n positive integers\n",
        "  \"\"\"\n",
        "  if n <= 0:     # corner case\n",
        "    print('Please enter a positive number')\n",
        "\n",
        "  for i in range(1,n+1):    # for loop iterates from starting position to n-1 position\n",
        "    print(i)\n",
        "\n",
        "positive_integers(n = int(input()))"
      ]
    },
    {
      "cell_type": "markdown",
      "source": [
        "![image.png](data:image/png;base64,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)"
      ],
      "metadata": {
        "id": "tNOXcvd06qdu"
      }
    },
    {
      "cell_type": "code",
      "source": [
        "def print_star_pattern(n):\n",
        "  \"\"\"\n",
        "  This function prints the right angle star pattern\n",
        "  \"\"\"\n",
        "  if n <= 0:    # corner case\n",
        "    print('Please enter a valid number')\n",
        "  for i in range(n+1):\n",
        "    for j in range(i):\n",
        "      print('*', end='')\n",
        "    print()\n",
        "\n",
        "print_star_pattern(n = int(input()))"
      ],
      "metadata": {
        "colab": {
          "base_uri": "https://localhost:8080/"
        },
        "id": "wXwPGJsmcLL0",
        "outputId": "859ee317-4a78-4b8c-b065-9933cf0b8d45"
      },
      "execution_count": null,
      "outputs": [
        {
          "output_type": "stream",
          "name": "stdout",
          "text": [
            "5\n",
            "\n",
            "*\n",
            "**\n",
            "***\n",
            "****\n",
            "*****\n"
          ]
        }
      ]
    },
    {
      "cell_type": "code",
      "source": [
        "def star_pattern(n):\n",
        "  \"\"\"\n",
        "  This function prints the right angle star pattern\n",
        "  \"\"\"\n",
        "  if n <= 0:     # corner case\n",
        "    print('Please enter a positive number')\n",
        "\n",
        "  for i in range(1, n+1):\n",
        "    print('*'*i)\n",
        "\n",
        "star_pattern(n=int(input()))"
      ],
      "metadata": {
        "colab": {
          "base_uri": "https://localhost:8080/"
        },
        "id": "7WCsouDo5ybV",
        "outputId": "c8f35725-dea8-4d90-db1e-9decac806063"
      },
      "execution_count": null,
      "outputs": [
        {
          "output_type": "stream",
          "name": "stdout",
          "text": [
            "5\n",
            "*\n",
            "**\n",
            "***\n",
            "****\n",
            "*****\n"
          ]
        }
      ]
    },
    {
      "cell_type": "markdown",
      "source": [
        "# 53. Accept an integer as input and print its square as output."
      ],
      "metadata": {
        "id": "H1MqHLcu_Wki"
      }
    },
    {
      "cell_type": "code",
      "source": [
        "def square(n):\n",
        "  \"\"\"\n",
        "  This function prints the square of a number\n",
        "  \"\"\"\n",
        "  print(n*n)\n",
        "\n",
        "square(n = int(input()))"
      ],
      "metadata": {
        "colab": {
          "base_uri": "https://localhost:8080/"
        },
        "id": "GN5Irr_z6ojR",
        "outputId": "4afa9ff8-644e-4334-bbe1-f164235de163"
      },
      "execution_count": null,
      "outputs": [
        {
          "output_type": "stream",
          "name": "stdout",
          "text": [
            "10\n",
            "100\n"
          ]
        }
      ]
    },
    {
      "cell_type": "markdown",
      "source": [
        "# 54.Accept two integers as input and print their sum as output."
      ],
      "metadata": {
        "id": "Ii5Kk8bv_wdh"
      }
    },
    {
      "cell_type": "code",
      "source": [
        "def sum(x,y):\n",
        "  \"\"\"\n",
        "  This function prints the square of a number\n",
        "  \"\"\"\n",
        "  print(x+y)\n",
        "\n",
        "sum(x = int(input()), y = int(input()))"
      ],
      "metadata": {
        "colab": {
          "base_uri": "https://localhost:8080/"
        },
        "id": "YLzhOSC__pfe",
        "outputId": "3718fadb-c454-4adf-fa15-810cb88e79d3"
      },
      "execution_count": null,
      "outputs": [
        {
          "output_type": "stream",
          "name": "stdout",
          "text": [
            "11\n",
            "11\n",
            "22\n"
          ]
        }
      ]
    },
    {
      "cell_type": "markdown",
      "source": [
        "# 55. Accept two words as input and print the two words after adding a space between them"
      ],
      "metadata": {
        "id": "RP4Brzu5AaM5"
      }
    },
    {
      "cell_type": "code",
      "source": [
        "def add_two_words(w1, w2):\n",
        "  \"\"\"\n",
        "  This function prints the concatenated words with space\n",
        "  \"\"\"\n",
        "  print(w1,' ',w2)\n",
        "\n",
        "add_two_words(input(), input())"
      ],
      "metadata": {
        "colab": {
          "base_uri": "https://localhost:8080/"
        },
        "id": "pX-2PfbiAO6S",
        "outputId": "b918ceb2-3547-4b3d-c4ab-f5710d562cf0"
      },
      "execution_count": null,
      "outputs": [
        {
          "output_type": "stream",
          "name": "stdout",
          "text": [
            "iNeuron\n",
            "pw\n",
            "iNeuron   pw\n"
          ]
        }
      ]
    },
    {
      "cell_type": "markdown",
      "source": [
        "# 56. Accept the registration number of a vehicle as input and print its state-code as output."
      ],
      "metadata": {
        "id": "F1W0BSKFBMb3"
      }
    },
    {
      "cell_type": "code",
      "source": [
        "def get_registration_statecode(reg_num):\n",
        "  \"\"\"\n",
        "  This function prints the concatenated words with space\n",
        "  \"\"\"\n",
        "  if len(reg_num) == 0:     # corner case\n",
        "    print('Please enter a valida number')\n",
        "\n",
        "  return reg_num[:2]\n",
        "\n",
        "print(get_registration_statecode(input()))"
      ],
      "metadata": {
        "colab": {
          "base_uri": "https://localhost:8080/"
        },
        "id": "oD9rlP8DBEDv",
        "outputId": "2a77edf3-992a-4c56-cd1d-1c1dd392d2d3"
      },
      "execution_count": null,
      "outputs": [
        {
          "output_type": "stream",
          "name": "stdout",
          "text": [
            "OD 04 5318\n",
            "OD\n"
          ]
        }
      ]
    },
    {
      "cell_type": "markdown",
      "source": [
        "# 57.Accept a five-digit number as input and print the sum of its digits as output."
      ],
      "metadata": {
        "id": "z4JO-HUXEnrg"
      }
    },
    {
      "cell_type": "code",
      "source": [
        "def get_sum_of_digit(n):\n",
        "  \"\"\"\n",
        "  This function prints the concatenated words with space\n",
        "  \"\"\"\n",
        "  if len(str(n)) > 5 or len(str(n)) < 5:    # corner case\n",
        "    return 'Please enter a 5 digit number'\n",
        "  sum = 0\n",
        "  while n:    # untill n becomes zero traverse through number\n",
        "    sum += n%10    # REMINDER\n",
        "    n //= 10    # reducing last number\n",
        "  return sum\n",
        "\n",
        "print(get_sum_of_digit(n = int(input())))"
      ],
      "metadata": {
        "colab": {
          "base_uri": "https://localhost:8080/"
        },
        "id": "odoQgtf3EYXb",
        "outputId": "85578f61-64c9-441b-d982-50c9631b2def"
      },
      "execution_count": null,
      "outputs": [
        {
          "output_type": "stream",
          "name": "stdout",
          "text": [
            "12345\n",
            "15\n"
          ]
        }
      ]
    },
    {
      "cell_type": "markdown",
      "source": [
        "# 58.Accept five words as input and print the sentence formed by these words after adding a space between consecutive words and a full stop at the end."
      ],
      "metadata": {
        "id": "0Ld1K_KrGvRI"
      }
    },
    {
      "cell_type": "code",
      "source": [
        "def add_five_words(w1, w2, w3, w4, w5):\n",
        "  \"\"\"\n",
        "  This function prints the sentense of consecutive words\n",
        "  \"\"\"\n",
        "  print(f\"{w1} {w2} {w3} {w4} {w5}.\")\n",
        "\n",
        "w1 = input()\n",
        "w2 = input()\n",
        "w3 = input()\n",
        "w4 = input()\n",
        "w5 = input()\n",
        "add_five_words(w1, w2, w3, w4, w5)"
      ],
      "metadata": {
        "colab": {
          "base_uri": "https://localhost:8080/"
        },
        "id": "MhVmiKCzFsSZ",
        "outputId": "3e413ec5-5df7-4324-9ac1-36b8bc9556f1"
      },
      "execution_count": null,
      "outputs": [
        {
          "output_type": "stream",
          "name": "stdout",
          "text": [
            "I\n",
            "am\n",
            "a\n",
            "Data\n",
            "Scientist\n",
            "I am a Data Scientist.\n"
          ]
        }
      ]
    },
    {
      "cell_type": "markdown",
      "source": [
        "# 59.Accept the date in DD-MM-YYYY format as input and print the year as output."
      ],
      "metadata": {
        "id": "2qFDu4VBHmXg"
      }
    },
    {
      "cell_type": "code",
      "source": [
        "## Approach1\n",
        "\n",
        "def get_year(date):\n",
        "  \"\"\"\n",
        "  This function prints the year from the given date\n",
        "  \"\"\"\n",
        "  date = date.split('/')\n",
        "  return date[-1]\n",
        "\n",
        "date = input()\n",
        "print(get_year(date))"
      ],
      "metadata": {
        "colab": {
          "base_uri": "https://localhost:8080/"
        },
        "id": "7WRCh61rnOEB",
        "outputId": "55944da1-830c-43bb-e287-5efd85c572f2"
      },
      "execution_count": null,
      "outputs": [
        {
          "output_type": "stream",
          "name": "stdout",
          "text": [
            "05/05/1998\n",
            "1998\n"
          ]
        }
      ]
    },
    {
      "cell_type": "code",
      "source": [
        "# Approach2\n",
        "\n",
        "from datetime import datetime\n",
        "\n",
        "def get_year(date):\n",
        "  \"\"\"\n",
        "  This function prints the year from the given date\n",
        "  \"\"\"\n",
        "  print(date.strftime('%Y'))    # getting the year from date\n",
        "\n",
        "today = datetime.today()\n",
        "get_year(today)"
      ],
      "metadata": {
        "colab": {
          "base_uri": "https://localhost:8080/"
        },
        "id": "S4BY6zkCHZH1",
        "outputId": "b7eb40dc-b195-4518-ac21-6c1cc508ce79"
      },
      "execution_count": null,
      "outputs": [
        {
          "output_type": "stream",
          "name": "stdout",
          "text": [
            "2023\n"
          ]
        }
      ]
    },
    {
      "cell_type": "markdown",
      "source": [
        "# 60.Accept a sequence of five single digit numbers separated by commas as input. Print the product of all five numbers."
      ],
      "metadata": {
        "id": "JlkI9mbsK_Sj"
      }
    },
    {
      "cell_type": "code",
      "source": [
        "def num_product(nums):\n",
        "  \"\"\"\n",
        "  This function prints multiplication of comma separated digits\n",
        "  \"\"\"\n",
        "  mul = 1\n",
        "  for i in nums:\n",
        "      mul*=i\n",
        "  print(mul)\n",
        "\n",
        "# taking input and splitting it using ',' and converting numbers to int type\n",
        "nums = map(int, input().split(','))\n",
        "num_product(nums)"
      ],
      "metadata": {
        "colab": {
          "base_uri": "https://localhost:8080/"
        },
        "id": "bKlvMcQBJhsm",
        "outputId": "7dc0f2d8-0cf1-4984-d581-0dda28fb9682"
      },
      "execution_count": null,
      "outputs": [
        {
          "output_type": "stream",
          "name": "stdout",
          "text": [
            "1,2,3,4,5\n",
            "120\n"
          ]
        }
      ]
    },
    {
      "cell_type": "markdown",
      "source": [
        "# 61. Accept two positive integers x and y as input. Print the number of digits in xy"
      ],
      "metadata": {
        "id": "0cemSBkjOkpg"
      }
    },
    {
      "cell_type": "code",
      "source": [
        "def number_of_digits(x, y):\n",
        "  \"\"\"\n",
        "  This function prints the count of numbers in product of x and y\n",
        "  \"\"\"\n",
        "  res = x*y    # getting the product\n",
        "  digit = 0\n",
        "\n",
        "  while res:    # untill res becomes zero\n",
        "    res //= 10\n",
        "    digit+=1    # getting the count of numbers\n",
        "  return digit\n",
        "\n",
        "number_of_digits(x = int(input()), y = int(input()))"
      ],
      "metadata": {
        "colab": {
          "base_uri": "https://localhost:8080/"
        },
        "id": "Yn2yz4FuLrkf",
        "outputId": "b9569f96-b51a-4a03-bdc8-c1b0982b4361"
      },
      "execution_count": null,
      "outputs": [
        {
          "name": "stdout",
          "output_type": "stream",
          "text": [
            "10\n",
            "20\n"
          ]
        },
        {
          "output_type": "execute_result",
          "data": {
            "text/plain": [
              "3"
            ]
          },
          "metadata": {},
          "execution_count": 37
        }
      ]
    },
    {
      "cell_type": "markdown",
      "source": [
        "# 62. Accept a string as input. If the input string is of odd length, then continue with it. If the input string is of even length, make the string of odd length as below:\n",
        "\n",
        "- If the last character is a period (.), then remove it\n",
        "- If the last character is not a period, then add a period (.) to the\n",
        "end of the string\n",
        "\n",
        "# Call this string of odd length word. Select a substring made up of three consecutive characters from word such that there are an equal number of characters to the left and right of this substring. Print this substring as output. You can assume that all input strings will be in lower case and will have a length of at least four"
      ],
      "metadata": {
        "id": "cYOAeoOrSa5r"
      }
    },
    {
      "cell_type": "code",
      "source": [
        "def odd_length_word(s):\n",
        "  \"\"\"\n",
        "  This function prints the middle three elements of a given string\n",
        "  \"\"\"\n",
        "  if len(s) < 4:    # corner case\n",
        "    print('Please enter a valid string')\n",
        "\n",
        "  if len(s)%2!=0:\n",
        "    return\n",
        "\n",
        "  else:\n",
        "    if s[-1] == '.':\n",
        "      s = s[:-1]\n",
        "    else:\n",
        "      s = s+'.'\n",
        "  print(s)\n",
        "  print(s[(len(s)//2-1):(len(s)//2+2)])\n",
        "\n",
        "odd_length_word(input())"
      ],
      "metadata": {
        "colab": {
          "base_uri": "https://localhost:8080/"
        },
        "id": "RcgCSfh0O_VR",
        "outputId": "6b544499-ed60-4a7f-f110-30f4bae07832"
      },
      "execution_count": null,
      "outputs": [
        {
          "output_type": "stream",
          "name": "stdout",
          "text": [
            "subhasish.\n",
            "subhasish\n",
            "has\n"
          ]
        }
      ]
    },
    {
      "cell_type": "markdown",
      "source": [
        "# 63. Accept three positive integers as input and check if they form the sides of a right triangle. Print YES if they form one, and NO is they do not. The input will have three lines, with one integer on each line. The output should be a single line containing one of these two strings: YES or NO."
      ],
      "metadata": {
        "id": "2KY5vVzsY1II"
      }
    },
    {
      "cell_type": "code",
      "source": [
        "def is_right_triange(a, b, c):\n",
        "  \"\"\"\n",
        "  This function prints Yes if the given input are side of a right angled triangle else NO\n",
        "  \"\"\"\n",
        "  if a**2 + b**2 == c**2 or b**2 + c**2 == a**2 or c**2 + a**2 == b**2:\n",
        "    print('YES')\n",
        "  else:\n",
        "    print('NO')\n",
        "\n",
        "a = int(input('Input :'))\n",
        "b = int(input('Input :'))\n",
        "c = int(input('Input :'))\n",
        "is_right_triange(a, b, c)"
      ],
      "metadata": {
        "colab": {
          "base_uri": "https://localhost:8080/"
        },
        "id": "3TaKTSNLUJWA",
        "outputId": "65cee019-5a15-41c1-8196-35813eb288a1"
      },
      "execution_count": null,
      "outputs": [
        {
          "output_type": "stream",
          "name": "stdout",
          "text": [
            "Input :3\n",
            "Input :5\n",
            "Input :4\n",
            "YES\n"
          ]
        }
      ]
    },
    {
      "cell_type": "markdown",
      "source": [
        "# 64. EvenOdd is a tech startup. Each employee at the startup is given an employee id which is a unique positive integer. On one warm Sunday evening, five employees of the company come together for a meeting and sit at a circular table: The employees follow a strange convention. They will continue the meeting only if the following condition is satisfied.The sum of the employee-ids of every pair of adjacent employees at the table must be an even number. They are so lazy that they won’t move around to satisfy the above condition, If the current seating plan doesn’t satisfy the condition, the meeting will be cancelled. You are given the employee-id of all five employees. Your task is to decide if the meeting happened or not. The input will be five lined, each containing an integer. The ith line will have the employee-id of Ei. The output will be a single line containing one of these two strings: YES or NO"
      ],
      "metadata": {
        "id": "8UguV8D6bbBO"
      }
    },
    {
      "cell_type": "code",
      "source": [
        "def evenOdd_stactup(E1, E2, E3, E4, E5):\n",
        "  \"\"\"\n",
        "  This function prints Yes if the given input are side of a right angled triangle else NO\n",
        "  \"\"\"\n",
        "  if (E1+E2) %2!=0:\n",
        "    print('NO')\n",
        "    return\n",
        "\n",
        "  if (E2+E3) %2!=0:\n",
        "    print('NO')\n",
        "    return\n",
        "\n",
        "  if (E3+E4) %2!=0:\n",
        "    print('NO')\n",
        "    return\n",
        "\n",
        "  if (E4+E5) %2!=0:\n",
        "    print('NO')\n",
        "    return\n",
        "\n",
        "  if (E5+E1) %2!=0:\n",
        "    print('NO')\n",
        "    return\n",
        "\n",
        "  print('YES')\n",
        "\n",
        "E1 = int(input('Input :'))\n",
        "E2 = int(input('Input :'))\n",
        "E3 = int(input('Input :'))\n",
        "E4 = int(input('Input :'))\n",
        "E5 = int(input('Input :'))\n",
        "evenOdd_stactup(E1, E2, E3, E4, E5)"
      ],
      "metadata": {
        "colab": {
          "base_uri": "https://localhost:8080/"
        },
        "id": "eH1ga3nuSAPN",
        "outputId": "ee026a58-7412-402a-d8b7-b08cff12fa3a"
      },
      "execution_count": null,
      "outputs": [
        {
          "output_type": "stream",
          "name": "stdout",
          "text": [
            "Input :2\n",
            "Input :3\n",
            "Input :4\n",
            "Input :6\n",
            "Input :8\n",
            "NO\n"
          ]
        }
      ]
    },
    {
      "cell_type": "markdown",
      "source": [
        "# 65. Accept a string as input and print the vowels present in the string in alphabetical order. If the string doesn’t contain any vowels, then print the string none as output. Each vowel that appears in the input string – irrespective of its case should appear just once in lower case in the output"
      ],
      "metadata": {
        "id": "K94RUYAAxzN6"
      }
    },
    {
      "cell_type": "code",
      "source": [
        "def vowels(s):\n",
        "  \"\"\"\n",
        "  This function prints the voswels if present in the string otherwise prints None\n",
        "  \"\"\"\n",
        "  vow = []\n",
        "  for ch in s:\n",
        "    if ch.lower() in 'aeiou' and ch.lower() not in vow:    # checking if character is from the vowels and if they already present in list\n",
        "      vow.append(ch.lower())    # otherwise adding the character\n",
        "\n",
        "  vow.sort()    # sorting the characters in the list in ascending order\n",
        "  return vow\n",
        "\n",
        "if __name__ == '__main__':\n",
        "  s = input('Input :')\n",
        "  res = vowels(s)\n",
        "  if len(res) == 0:    # if no vowels present\n",
        "    print(None)\n",
        "  else:\n",
        "    print(''.join(res))    # print the vowels in string"
      ],
      "metadata": {
        "colab": {
          "base_uri": "https://localhost:8080/"
        },
        "id": "87pY-8skwtya",
        "outputId": "09e7ffa5-bd80-4d09-8bc2-7ccdf734644c"
      },
      "execution_count": null,
      "outputs": [
        {
          "output_type": "stream",
          "name": "stdout",
          "text": [
            "Input :iNeuron Intelligence\n",
            "eiou\n"
          ]
        }
      ]
    },
    {
      "cell_type": "markdown",
      "source": [
        "# 66.You are given the date of birth of two persons, not necessarily from the same family. Your task is to find the younger of the two. If both of them share the same date of birth, then the younger of the two is assumed to be that person whose name comes first in alphabetical order.\n",
        "\n",
        "\n",
        "# The input will have four lines. The first two lines correspond to the first person, while the last two lines correspond to the second person. For each person, the first line corresponds to the name and the second line corresponds to the date of birth in “DD-MM-YYYY” format. Your output should be the name of the younger of the two."
      ],
      "metadata": {
        "id": "DbTlYsN38YrH"
      }
    },
    {
      "cell_type": "code",
      "source": [
        "def younger_of_two(name1, dob1, name2, dob2):\n",
        "  \"\"\"\n",
        "  This function find the younger person among two by comaparing DOB and name\n",
        "  \"\"\"\n",
        "  day1, month1, year1 = map(int, dob1.split('/'))    # getting the day, month and year\n",
        "  day2, month2, year2 = map(int, dob2.split('/'))\n",
        "\n",
        "  if year1 < year2:    # if year1 is less than year2\n",
        "    return name1\n",
        "  elif year2 < year1:\n",
        "    return name2\n",
        "  else:    # if both years are equal\n",
        "    if month1 < month2:    # if month1 is less than month2\n",
        "      return name1\n",
        "    elif month2 < month1:\n",
        "      return name2\n",
        "    else:    # if both months are equal\n",
        "      if day1 < day2:\n",
        "        return name1\n",
        "      elif day2 < day1:\n",
        "        return name2\n",
        "      else:    # if both days are equal\n",
        "        return min(name1, name2)    # return alphabetically smaller name\n",
        "\n",
        "name1 = input()\n",
        "dob1 = input()\n",
        "name2 = input()\n",
        "dob2 = input()\n",
        "print(younger_of_two(name1, dob1, name2, dob2))"
      ],
      "metadata": {
        "colab": {
          "base_uri": "https://localhost:8080/"
        },
        "id": "XEbqjbU0ynii",
        "outputId": "f50d2542-4413-4af0-ddaa-d476d5c295d8"
      },
      "execution_count": null,
      "outputs": [
        {
          "output_type": "stream",
          "name": "stdout",
          "text": [
            "sai\n",
            "05/05/1998\n",
            "subhasish\n",
            "22/11/1998\n",
            "sai\n"
          ]
        }
      ]
    },
    {
      "cell_type": "markdown",
      "source": [
        "# 67.Accept a string as input. Your task is to determine if the input string is a valid password or not. For a string to be a valid password, it must satisfy all the conditions given below:\n",
        "\n",
        "(1) It should have at least 8 and at most 32 characters\n",
        "\n",
        "(2) It should start with an uppercase or lowercase letter\n",
        "\n",
        "(3) It should not have any of these characters: / \\ = ' \"\n",
        "\n",
        "(4) It should not have spaces\n",
        "\n",
        "# It could have any character that is not mentioned in the list of characters to be avoided (points 3 and 4). Output True if the string forms a valid password and False otherwise"
      ],
      "metadata": {
        "id": "6D7-yzAFBsMf"
      }
    },
    {
      "cell_type": "code",
      "source": [
        "def is_valid_password(password):\n",
        "  \"\"\"\n",
        "  This function checks and prints if a password is valid\n",
        "  \"\"\"\n",
        "  if len(password) < 8 or len(password) > 32:    # checking if size is valid or not\n",
        "      return False\n",
        "\n",
        "  if not password[0].isalpha():    # first character should be a letter\n",
        "    return False\n",
        "\n",
        "  forbidden_characters = ['/', '\\\\',  '=', \"'\", '\"']\n",
        "  if any(char in forbidden_characters for char in password):    # checking using comprehension if the characters in the string has any forbidden character\n",
        "    return False\n",
        "\n",
        "  if ' ' in password:    # checking if space is there\n",
        "    return False\n",
        "\n",
        "  return True\n",
        "\n",
        "\n",
        "password = input('Enter the password: ')\n",
        "is_valid_password(password)"
      ],
      "metadata": {
        "colab": {
          "base_uri": "https://localhost:8080/"
        },
        "id": "wlyaP2AB9lB1",
        "outputId": "c744d272-73ff-4f61-d8f3-dc488d616d66"
      },
      "execution_count": null,
      "outputs": [
        {
          "name": "stdout",
          "output_type": "stream",
          "text": [
            "Enter the password: Data@88888888\n"
          ]
        },
        {
          "output_type": "execute_result",
          "data": {
            "text/plain": [
              "True"
            ]
          },
          "metadata": {},
          "execution_count": 75
        }
      ]
    },
    {
      "cell_type": "markdown",
      "source": [
        "# 68. Accept a positive integer n as input and print the first n positive integers, one number on each line."
      ],
      "metadata": {
        "id": "X0AHVlHmQgtX"
      }
    },
    {
      "cell_type": "code",
      "source": [
        "def positive_integer(n):\n",
        "  \"\"\"\n",
        "  This function prints n positive integers\n",
        "  \"\"\"\n",
        "  for i in range(1, n+1):\n",
        "    print(i)\n",
        "\n",
        "n = int(input())\n",
        "positive_integer(n)"
      ],
      "metadata": {
        "colab": {
          "base_uri": "https://localhost:8080/"
        },
        "id": "iGXsu4Xk-ViU",
        "outputId": "f1fa85f1-5ab8-49bd-a357-6fc850bbf95b"
      },
      "execution_count": null,
      "outputs": [
        {
          "output_type": "stream",
          "name": "stdout",
          "text": [
            "7\n",
            "1\n",
            "2\n",
            "3\n",
            "4\n",
            "5\n",
            "6\n",
            "7\n"
          ]
        }
      ]
    },
    {
      "cell_type": "markdown",
      "source": [
        "# 69.Accept a positive integer n as input, where n is greater than 1. Print PRIME ifnis a prime number and NOTPRIME otherwise."
      ],
      "metadata": {
        "id": "jRv9JYvBRyUA"
      }
    },
    {
      "cell_type": "code",
      "source": [
        "def isPrime(n):\n",
        "  \"\"\"\n",
        "  This function prints if a number is PRIME or NOT\n",
        "  \"\"\"\n",
        "  for i in range(2, n+1//2):    # iterating upto half of the length of n\n",
        "    if n%i == 0:    # checking if any number devides n and reminder comes zero\n",
        "      return 'NOT PRIME'     # return to main function\n",
        "\n",
        "\n",
        "  return 'PRIME'    # otherwise it is PRIME\n",
        "\n",
        "\n",
        "n = int(input())\n",
        "print(isPrime(n))"
      ],
      "metadata": {
        "colab": {
          "base_uri": "https://localhost:8080/"
        },
        "id": "E8DpgdYp-YZ9",
        "outputId": "960017fd-09ec-4cd1-ae77-312d526691e6"
      },
      "execution_count": null,
      "outputs": [
        {
          "output_type": "stream",
          "name": "stdout",
          "text": [
            "4\n",
            "NOT PRIME\n"
          ]
        }
      ]
    },
    {
      "cell_type": "markdown",
      "source": [
        "# 70. Accept two strings as input and form a new string by removing all characters from the second string which are present in the first string. Print this new string as output. You can assume that all input strings will be in lower case."
      ],
      "metadata": {
        "id": "48qPZoYVUft4"
      }
    },
    {
      "cell_type": "code",
      "source": [
        "def new_string(s1, s2):\n",
        "  \"\"\"\n",
        "  This function prints the characters of two strings\n",
        "  \"\"\"\n",
        "  res = s1\n",
        "\n",
        "  for j in s2:\n",
        "    if not j in s1:\n",
        "      res+=j\n",
        "  return res\n",
        "\n",
        "s1 = input('Enter: ')\n",
        "s2 = input('Enter: ')\n",
        "new_string(s1, s2)"
      ],
      "metadata": {
        "colab": {
          "base_uri": "https://localhost:8080/",
          "height": 70
        },
        "id": "bAmE-CSUSV63",
        "outputId": "27623e26-4dfc-4712-adbb-ab907b4ae1d7"
      },
      "execution_count": null,
      "outputs": [
        {
          "name": "stdout",
          "output_type": "stream",
          "text": [
            "Enter: sai\n",
            "Enter: subhasish\n"
          ]
        },
        {
          "output_type": "execute_result",
          "data": {
            "text/plain": [
              "'saiubhh'"
            ],
            "application/vnd.google.colaboratory.intrinsic+json": {
              "type": "string"
            }
          },
          "metadata": {},
          "execution_count": 2
        }
      ]
    },
    {
      "cell_type": "code",
      "source": [
        "a\n",
        "b\n",
        "for c in a:\n",
        "  for c in b:\n",
        "    b = b.replace(c, '')\n",
        "print(b)"
      ],
      "metadata": {
        "id": "NPRGHGrxc00G"
      },
      "execution_count": null,
      "outputs": []
    },
    {
      "cell_type": "markdown",
      "source": [
        "# 71.Accept a phone number as input. A valid phone number should satisfy the following constraints.\n",
        "\n",
        "(1) The number should start with one of these digits: 6, 7, 8, 9\n",
        "\n",
        "(2) The number should be exactly 10 digits long.\n",
        "\n",
        "(3) No digit should appear more than 7 times in the number.\n",
        "\n",
        "(4) No digit should appear more than 5 times in a row in the number.\n",
        "\n",
        "# If the fourth condition is not very clear, then consider this example:\n",
        "\n",
        "# the number 9888888765 is invalid because the digit 8 appears more than 5 times in a row. Print the string valid if the phone number is valid. If not, print the string invalid."
      ],
      "metadata": {
        "id": "oPlqJ3iTXBtx"
      }
    },
    {
      "cell_type": "code",
      "source": [
        "def valid_phoneNumber(ph):\n",
        "  \"\"\"\n",
        "  This function prints if the phone number is valida or not\n",
        "  \"\"\"\n",
        "  if ph[0] not in '6789':    # checking the starting number\n",
        "    return 'Invalid'\n",
        "\n",
        "  elif len(ph) != 10:    # checking the number of digits\n",
        "    return 'Invalid'\n",
        "\n",
        "  for i in range(len(ph)):    # iterating over the string\n",
        "    if ph.count(ph[i]) > 7:    # checking if the any number present more than 7 times\n",
        "      return 'Invalid'\n",
        "\n",
        "    if i < len(ph)-3:    # iterating except last 5 digits\n",
        "      if ph[i] == ph[i+1] == ph[i+2] == ph[i+3] == ph[i+4] == ph[i+5]:    # checking if the current number present more than 5 times\n",
        "        return 'Invalid'\n",
        "\n",
        "  return 'Valid'\n",
        "\n",
        "\n",
        "ph = input('Enter a phone number: ')\n",
        "valid_phoneNumber(ph)"
      ],
      "metadata": {
        "colab": {
          "base_uri": "https://localhost:8080/",
          "height": 53
        },
        "id": "v1YzRspUV2of",
        "outputId": "81fa4e8f-5901-43e7-e57e-3833a323ec32"
      },
      "execution_count": null,
      "outputs": [
        {
          "name": "stdout",
          "output_type": "stream",
          "text": [
            "Enter a phone number: 9888888765\n"
          ]
        },
        {
          "output_type": "execute_result",
          "data": {
            "text/plain": [
              "'Invalid'"
            ],
            "application/vnd.google.colaboratory.intrinsic+json": {
              "type": "string"
            }
          },
          "metadata": {},
          "execution_count": 19
        }
      ]
    },
    {
      "cell_type": "code",
      "source": [
        "n = input()\n",
        "a = False\n",
        "if len(n) == 10 and int(n[0])\n",
        "  for i in range(10):\n",
        "    pass"
      ],
      "metadata": {
        "id": "VeSBaYxRgj8V"
      },
      "execution_count": null,
      "outputs": []
    },
    {
      "cell_type": "markdown",
      "source": [
        "# 72. In the first line of input, accept a sequence of space-separated words. In the second line of input, accept a single word. If this word is not present in the sequence, print NO. If this word is present in the sequence, then print YES and in the next line of the output, print the number of times the word appears in the sequence."
      ],
      "metadata": {
        "id": "1vF5aB1EeXPq"
      }
    },
    {
      "cell_type": "code",
      "source": [
        "def deq_char(words, word):\n",
        "  \"\"\"\n",
        "  This function checks if the character is present in the sequence of words or not\n",
        "  and prints the frequency od the character\n",
        "  \"\"\"\n",
        "  if len(words) <= 0 or len(word) <= 0:    # corner case\n",
        "    print('Please enter a valid input')\n",
        "    return\n",
        "\n",
        "  if word in words:    # checks if the character is present in the string\n",
        "    print('YES')\n",
        "  else:\n",
        "    print('NO')\n",
        "\n",
        "words = input()\n",
        "word = input()\n",
        "deq_char(words, word)"
      ],
      "metadata": {
        "colab": {
          "base_uri": "https://localhost:8080/"
        },
        "id": "rycSPaWeUiGX",
        "outputId": "af9b08ea-4930-4170-ca8a-b2fa826e10d2"
      },
      "execution_count": null,
      "outputs": [
        {
          "output_type": "stream",
          "name": "stdout",
          "text": [
            "data data data\n",
            "data\n",
            "YES\n"
          ]
        }
      ]
    },
    {
      "cell_type": "code",
      "source": [
        "def word_frequency(words, ch):\n",
        "  \"\"\"\n",
        "  This function checks if the character is present in the sequence of words or not\n",
        "  and prints the frequency od the character\n",
        "  \"\"\"\n",
        "  if len(words) <= 0 or len(ch) <= 0:    # corner case\n",
        "    print('Please enter a valid input')\n",
        "    return\n",
        "\n",
        "  if any(ch in word for word in words):    # checks if the character is present in the sequence\n",
        "    print('YES')\n",
        "  else:\n",
        "    print('NO')\n",
        "\n",
        "  count = 0\n",
        "  for word in words:    # iterating over sequence\n",
        "    if ch == word:    # getting the frequency\n",
        "      count+=1\n",
        "  return count\n",
        "\n",
        "\n",
        "words = input().split()\n",
        "ch = input()\n",
        "word_frequency(words, ch)\n",
        "\n",
        "# add"
      ],
      "metadata": {
        "colab": {
          "base_uri": "https://localhost:8080/"
        },
        "id": "0o2Hwo9UZ5Tm",
        "outputId": "96fb975b-0790-48e5-97b4-3611af252e1c"
      },
      "execution_count": null,
      "outputs": [
        {
          "output_type": "stream",
          "name": "stdout",
          "text": [
            "data data data data\n",
            "data\n",
            "YES\n"
          ]
        },
        {
          "output_type": "execute_result",
          "data": {
            "text/plain": [
              "4"
            ]
          },
          "metadata": {},
          "execution_count": 2
        }
      ]
    },
    {
      "cell_type": "markdown",
      "source": [
        "# 73. Write a function named factorial that accepts an integer n as argument. It should return the factorial of n if n is a positive integer. It should return -1 if n is a negative integer, and it should return 1 if n is zero."
      ],
      "metadata": {
        "id": "GhDk2mpnkHpI"
      }
    },
    {
      "cell_type": "code",
      "source": [
        "def factorial(n):\n",
        "  \"\"\"\n",
        "  This function finds the factorial of given number recurssively\n",
        "  \"\"\"\n",
        "  if n == 0:\n",
        "    return 1\n",
        "\n",
        "  if n < 0:    # corner case\n",
        "    return -1\n",
        "\n",
        "  return n * factorial(n-1)    # using recurssion\n",
        "\n",
        "n = 5\n",
        "factorial(n)"
      ],
      "metadata": {
        "colab": {
          "base_uri": "https://localhost:8080/"
        },
        "id": "9yER4FpQfuTX",
        "outputId": "3c19512e-97b6-4c2d-d2b8-8a227f193793"
      },
      "execution_count": null,
      "outputs": [
        {
          "output_type": "execute_result",
          "data": {
            "text/plain": [
              "120"
            ]
          },
          "metadata": {},
          "execution_count": 3
        }
      ]
    },
    {
      "cell_type": "markdown",
      "source": [
        "# 74. The range of a list of numbers is the difference between the maximum and minimum values in the list Write a function named get_range that accepts a non-empty list of real numbers as argument. It should return the range of the list.\n",
        "\n",
        "(1) Avoid using built-in function such as max and min.\n",
        "\n",
        "(2) You do not have to accept input from the user or print output to the console. You just have to write the function definition."
      ],
      "metadata": {
        "id": "zRxZidkEoUMF"
      }
    },
    {
      "cell_type": "code",
      "source": [
        "def get_range(num_lst):\n",
        "  '''\n",
        "  This function finds the range value in a list of numbers\n",
        "  '''\n",
        "  if len(num_lst) == 0:\n",
        "    return 'Please enter a valid list'\n",
        "\n",
        "  min = max = num_lst[0]\n",
        "  for i in range(len(num_lst)):    # iterating over list\n",
        "    if num_lst[i] < min:    # finding min value\n",
        "        min = num_lst[i]\n",
        "        #print(min)\n",
        "\n",
        "    elif num_lst[i] > max:    # finding maximum value\n",
        "        max = num_lst[i]\n",
        "        #print(max)\n",
        "\n",
        "  return (max-min)    # return range\n",
        "\n",
        "num_lst = eval(input())\n",
        "get_range(num_lst)"
      ],
      "metadata": {
        "id": "mECdTHNVn46i",
        "colab": {
          "base_uri": "https://localhost:8080/"
        },
        "outputId": "9e3dc683-d674-46af-c4b6-83f73035456d"
      },
      "execution_count": null,
      "outputs": [
        {
          "name": "stdout",
          "output_type": "stream",
          "text": [
            "[2,8,9,7,6]\n"
          ]
        },
        {
          "output_type": "execute_result",
          "data": {
            "text/plain": [
              "7"
            ]
          },
          "metadata": {},
          "execution_count": 9
        }
      ]
    },
    {
      "cell_type": "markdown",
      "source": [
        "# 75. Write a function named read_file that accepts a text file named filename as argument. Within the function, read the file and print each line of the file on a separate line in the console. You shouldn't print any extra characters at the end of a line. There shouldn't be an empty line between any two consecutive lines.\n",
        "\n",
        "\n",
        "(1) filename is a string variable that holds the name of the file. For example,in the first test case, it is filename = 'public_1.txt'.\n",
        "\n",
        "\n",
        "(2) You do not have to accept input from the console. You have to write the function definition and print the contents of the file within the function"
      ],
      "metadata": {
        "id": "UpHyTUNJrGE1"
      }
    },
    {
      "cell_type": "code",
      "source": [
        "def read_file(filename):\n",
        "  '''\n",
        "  This function reads the data in a txt file\n",
        "  '''\n",
        "  with open(filename, 'r') as file:    # opening file in read mode\n",
        "      for line in file:\n",
        "          print(line.rstrip())    # skipping the extra space from the right side\n",
        "\n",
        "# Example usage\n",
        "filename = input()\n",
        "read_file(filename)"
      ],
      "metadata": {
        "id": "-pan0SOEqoIE",
        "colab": {
          "base_uri": "https://localhost:8080/"
        },
        "outputId": "69cee551-531d-4b7f-9908-0f0977f16b2b"
      },
      "execution_count": null,
      "outputs": [
        {
          "output_type": "stream",
          "name": "stdout",
          "text": [
            "/content/test.txt\n",
            "This is Python Programming.\n",
            "DataScience\n",
            "MachineLearning\n"
          ]
        }
      ]
    },
    {
      "cell_type": "markdown",
      "source": [
        "# 76. A simple algorithm has to be designed to find out whether a student belongs to the Data Science branch or not. The input will be a student's roll number, which is of the form BR18B0000. Here, BR represents the branch code, 18 represents the year of joining, B represents the education level and 0000 represents the specific identification given to the student of that batch. The branch code for Data Science is DS. Print True if the student belongs to Data Science branch and False otherwise."
      ],
      "metadata": {
        "id": "7fS5xjoVfp3q"
      }
    },
    {
      "cell_type": "code",
      "source": [
        "def branch_check(roll_no):\n",
        "  '''\n",
        "  This function checks the branch code of a student\n",
        "  '''\n",
        "  if len(roll_no) < 9:    # corner case\n",
        "    return 'Please enter a valid number'\n",
        "\n",
        "  if roll_no[:2] == \"DS\":    # checking the starting 2 char\n",
        "    return True\n",
        "  else:\n",
        "    return False\n",
        "\n",
        "roll_no = input()\n",
        "branch_check(roll_no)"
      ],
      "metadata": {
        "colab": {
          "base_uri": "https://localhost:8080/"
        },
        "id": "V0xEecACbpZK",
        "outputId": "9e6677eb-c642-4377-8989-67d37ce7b12d"
      },
      "execution_count": null,
      "outputs": [
        {
          "name": "stdout",
          "output_type": "stream",
          "text": [
            "DS23B1118\n"
          ]
        },
        {
          "output_type": "execute_result",
          "data": {
            "text/plain": [
              "True"
            ]
          },
          "metadata": {},
          "execution_count": 1
        }
      ]
    },
    {
      "cell_type": "markdown",
      "source": [
        "# 77.The police are trying to track a criminal based on the evidence available at a crime site. Their main clue is a vehicle's damaged number plate. Only the string TN07 is visible. The format of the registration number is AA00AA00, where the first two letters are alphabets, next two are numbers, next two are again alphabets followed by two numbers at the end. A number plate is picked from a database of registration numbers and is given to you as input. Your task is to determine if this could belong to the criminal or not. Print True if the number plate contains TN07 and False otherwise."
      ],
      "metadata": {
        "id": "BURiOBQ9Epa9"
      }
    },
    {
      "cell_type": "code",
      "source": [
        "def number_plate_check(db_np):\n",
        "  '''\n",
        "  This function checks if a number place contains certion state code or not\n",
        "  '''\n",
        "  if 'TN07' in db_np:    # if input contains\n",
        "    return True\n",
        "  else:\n",
        "    return False\n",
        "\n",
        "db_np = input()\n",
        "number_plate_check(db_np)"
      ],
      "metadata": {
        "colab": {
          "base_uri": "https://localhost:8080/"
        },
        "id": "8NmaHSqKD_hb",
        "outputId": "0e898989-2e68-43ba-ad6c-0fa171488fa2"
      },
      "execution_count": null,
      "outputs": [
        {
          "name": "stdout",
          "output_type": "stream",
          "text": [
            "OD04TN07\n"
          ]
        },
        {
          "output_type": "execute_result",
          "data": {
            "text/plain": [
              "True"
            ]
          },
          "metadata": {},
          "execution_count": 6
        }
      ]
    },
    {
      "cell_type": "markdown",
      "source": [
        "# 78. You are given a string and two non-negative integers as input. The two integers specify the start and end indices of a substring in the given string. Create a new string by replicating the substring a minimum number of times so that the resulting string is longer than the input string. The input parameters are the string, start index of the substring and the end index of substring (endpoints inclusive) each on a different line."
      ],
      "metadata": {
        "id": "dYrW3S8zHdB8"
      }
    },
    {
      "cell_type": "code",
      "source": [
        "def create_substring(string, s, e):\n",
        "  '''\n",
        "  This function finds the substring\n",
        "  '''\n",
        "  sub_string = string[s : e+1]    # creating s substring\n",
        "  new_string = string    # copying the string to make new string larger\n",
        "\n",
        "  while len(new_string) <= len(string):\n",
        "    new_string +=sub_string    # adding the substring to new string\n",
        "\n",
        "  return new_string\n",
        "\n",
        "\n",
        "string = input()\n",
        "s = int(input())\n",
        "e = int(input())\n",
        "print(create_substring(string, s, e))"
      ],
      "metadata": {
        "id": "zvY2cyNmGYwe",
        "colab": {
          "base_uri": "https://localhost:8080/"
        },
        "outputId": "9cadefc2-1d06-4522-d3ed-eb9895d93050"
      },
      "execution_count": null,
      "outputs": [
        {
          "output_type": "stream",
          "name": "stdout",
          "text": [
            "subahsish\n",
            "3\n",
            "7\n",
            "subahsishahsis\n"
          ]
        }
      ]
    },
    {
      "cell_type": "markdown",
      "source": [
        "# 79. A class teacher has decided to split her entire class into four groups, namely Sapphire, Peridot, Ruby, and Emerald for sports competitions. For dividing the students into these four groups, she has followed the pattern given below:\n",
        "Sapphire - 1, 5, 9, 13, 17, 21, ...\n",
        "\n",
        "Peridot - 2, 6, 10, 14, 18, 22, ...\n",
        "\n",
        "Ruby - 3, 7, 11, 15, 19, 23, ...\n",
        "\n",
        "Emerald - 4, 8, 12, 16, 20, 24, ...\n",
        "\n",
        "# All the students are represented by their roll numbers. Based on the above pattern, given the roll number as input, print the group the student belongs to. Note that the roll number can be any positive integer and not necessarily less than 25."
      ],
      "metadata": {
        "id": "OWa9q0JEN_W_"
      }
    },
    {
      "cell_type": "code",
      "source": [
        "def get_group(roll_no):\n",
        "  rem = roll_no%4\n",
        "  if rem == 1:\n",
        "    return 'Sapphire'\n",
        "  elif rem == 2:\n",
        "    return 'Peridot'\n",
        "  elif rem == 3:\n",
        "    return 'Ruby'\n",
        "  elif rem == 0:\n",
        "    return 'Emerald'\n",
        "\n",
        "roll_no = int(input())\n",
        "print(get_group(roll_no))"
      ],
      "metadata": {
        "colab": {
          "base_uri": "https://localhost:8080/"
        },
        "id": "XLeYnh_AOCFe",
        "outputId": "3e165177-47ea-4fc9-e049-fa4b99d18c94"
      },
      "execution_count": null,
      "outputs": [
        {
          "output_type": "stream",
          "name": "stdout",
          "text": [
            "8\n",
            "Emerald\n"
          ]
        }
      ]
    },
    {
      "cell_type": "markdown",
      "source": [
        "# 80. A data science company wants to hire data scientists from abc college. The company follows a certain criteria for selection: for a student to be selected, the number of backlogs should be at most 5 and the CGPA (Cumulative Grade Point Average) should be greater than 6. If the student does not fit the above criteria, then the student is not offered the job. If the student is selected, then the salary offered is equal to 5 times his/her CGPA (in lakhs).Accept the number of backlogs (integer) and the CGPA (float) of the student as input. Your task is to determine if the student is selected or not. If the student is selected, then print the package. If not, then print the string Not Selected."
      ],
      "metadata": {
        "id": "ILxAzNvFQ29W"
      }
    },
    {
      "cell_type": "code",
      "source": [
        "def select_datascientists(backlogs, cgpa):\n",
        "  if backlogs <= 5:\n",
        "    if cgpa > 6:\n",
        "      return str(cgpa * 5)+'LPA'\n",
        "    else:\n",
        "      return 'Not Selected'\n",
        "  else:\n",
        "    return 'Not Selected'\n",
        "\n",
        "backlogs = int(input())\n",
        "cgpa = float(input())\n",
        "print(select_datascientists(backlogs, cgpa))"
      ],
      "metadata": {
        "colab": {
          "base_uri": "https://localhost:8080/"
        },
        "id": "rEZz25mnQm8w",
        "outputId": "9f6cfeb0-9bf0-4e11-d6ae-5425f57908ad"
      },
      "execution_count": null,
      "outputs": [
        {
          "output_type": "stream",
          "name": "stdout",
          "text": [
            "0\n",
            "7.29\n",
            "36.45LPA\n"
          ]
        }
      ]
    },
    {
      "cell_type": "markdown",
      "source": [
        "# 81. Accept a string as input and print PALINDROME if it is a palindrome, and NOT PALINDROME otherwise"
      ],
      "metadata": {
        "id": "XN1qf1IcMeH8"
      }
    },
    {
      "cell_type": "code",
      "source": [
        "def is_palindrome(s):\n",
        "  temp = s\n",
        "  rev = ''\n",
        "  while temp:\n",
        "    rev = rev+temp[-1]\n",
        "    temp = temp[:-1]\n",
        "  if rev == s:\n",
        "    return 'PALINDROME'\n",
        "  else:\n",
        "    return 'NOT PALINDROME'\n",
        "\n",
        "print(is_palindrome(s = input()))"
      ],
      "metadata": {
        "colab": {
          "base_uri": "https://localhost:8080/"
        },
        "id": "A3JEQ8u5SIOR",
        "outputId": "d395c03c-da22-4266-8234-0d018926ec45"
      },
      "execution_count": null,
      "outputs": [
        {
          "output_type": "stream",
          "name": "stdout",
          "text": [
            "mom\n",
            "PALINDROME\n"
          ]
        }
      ]
    },
    {
      "cell_type": "code",
      "source": [
        "# for numbers\n",
        "\n",
        "def is_pal(n):\n",
        "  temp = n    # declaring a variable containing n\n",
        "  rev = 0    # to store the reverse number\n",
        "  while temp:    # utill temp becomes zero\n",
        "    rem = temp%10    # getting reminder\n",
        "    rev = rev*10 + rem    # each time adding reminder with 10 multiplied reverse\n",
        "    temp= temp//10    # reducing number with a digit\n",
        "  if n == rev:\n",
        "    return \"PALINDROME\"\n",
        "  else:\n",
        "    return 'NOT PALINDROME'\n",
        "\n",
        "print(is_pal(n=int(input())))"
      ],
      "metadata": {
        "colab": {
          "base_uri": "https://localhost:8080/"
        },
        "id": "ncgLsiHGQIde",
        "outputId": "477ada34-f733-44c0-f4d8-b65d51e46d3e"
      },
      "execution_count": null,
      "outputs": [
        {
          "output_type": "stream",
          "name": "stdout",
          "text": [
            "11\n",
            "PALINDROME\n"
          ]
        }
      ]
    },
    {
      "cell_type": "markdown",
      "source": [
        "# 82. In a portal login website, you are asked to write a function get_password_strength to decide the strength of a password. The strength is decided based on the total score of the password, Use\n",
        "\n",
        "following conditions:\n",
        "\n",
        "1) If password has length greater than 7 then score increases by one point.\n",
        "\n",
        "\n",
        "2) If password has at least one upper case and one lower case alphabets score increases by one point.\n",
        "\n",
        "3) If password has at least one number and no consecutive numbers like 12 or 234 then score\n",
        "increases by one point.\n",
        "\n",
        "4) If password has at least one special character (any character other than numbers and alphabets) then\n",
        "score increases by one point.\n",
        "\n",
        "5) If password contains username, then it is invalid password.\n",
        "\n",
        "If the password has score of four points, three points, two points, or one point then print Very\n",
        "Strong, Strong, Moderate, or Weak respectively. If the password is invalid, then\n",
        "print PASSWORD SHOULD NOT CONTAIN USERNAME and If the score is zero, then print Use a\n",
        "different password.The arguments to the function are username and password which are\n",
        "already defined"
      ],
      "metadata": {
        "id": "pnF9kL9XTnbz"
      }
    },
    {
      "cell_type": "code",
      "source": [
        "def get_password_strength(username, password):\n",
        "  if username in password:    # Check if password contains username\n",
        "    return \"Password should not contain username\"\n",
        "\n",
        "  point = 0\n",
        "  if len(password) > 7:    # Check password length\n",
        "    point+=1\n",
        "\n",
        "  if any(char.upper() for char in password) and any(char.lower() for char in password):    # Check for upper case and lower case alphabets\n",
        "    point+=1\n",
        "\n",
        "  if any(char.isdigit() for char in password) and not any(str(i) + str(i+1) in password for i in range(9)):    # Check for at least one number and no consecutive numbers\n",
        "    point+=1\n",
        "\n",
        "  if any(not c.isalnum() for c in password):    # Check for special characters\n",
        "    point+=1\n",
        "\n",
        "  # Determine password strength based on the score\n",
        "  if point == 0:\n",
        "      return \"Use a different password\"\n",
        "\n",
        "  elif point == 1:\n",
        "      return \"Weak\"\n",
        "\n",
        "  elif point == 2:\n",
        "      return \"Moderate\"\n",
        "\n",
        "  elif point == 3:\n",
        "      return \"Strong\"\n",
        "\n",
        "  elif point == 4:\n",
        "      return \"Very Strong\"\n",
        "\n",
        "username = input()\n",
        "password = input()\n",
        "print(get_password_strength(username, password))"
      ],
      "metadata": {
        "colab": {
          "base_uri": "https://localhost:8080/"
        },
        "id": "b3uzX2fgPMO6",
        "outputId": "49edc17a-112a-4143-af2c-55cd370c1eec"
      },
      "execution_count": null,
      "outputs": [
        {
          "output_type": "stream",
          "name": "stdout",
          "text": [
            "sai\n",
            "Data@9090\n",
            "Very Strong\n"
          ]
        }
      ]
    },
    {
      "cell_type": "markdown",
      "source": [
        "# 83.decorator that logs the date and time"
      ],
      "metadata": {
        "id": "rtkhxnGRZ51O"
      }
    },
    {
      "cell_type": "code",
      "source": [
        "# Decorator call will execute decorator function first then normal function, here we are passing the *args and **kwargs to accept any argument in the function call\n",
        "\n",
        "from datetime import datetime\n",
        "\n",
        "def log_date_time(func):\n",
        "  def inner(*args, **kwargs):\n",
        "    print(f'Date and Time: {datetime.now()}')\n",
        "    return func(*args, **kwargs)\n",
        "  return inner\n",
        "\n",
        "@log_date_time\n",
        "def greet(name):\n",
        "  print(f'Hello {name}')\n",
        "\n",
        "greet('Sai')"
      ],
      "metadata": {
        "id": "fMCD9HptZXdF",
        "colab": {
          "base_uri": "https://localhost:8080/"
        },
        "outputId": "622ae71e-d0ad-41a2-ff16-410152c356b2"
      },
      "execution_count": null,
      "outputs": [
        {
          "output_type": "stream",
          "name": "stdout",
          "text": [
            "Date and Time: 2023-06-24 05:08:24.520712\n",
            "Hello Sai\n"
          ]
        }
      ]
    },
    {
      "cell_type": "markdown",
      "source": [
        "# 84.Program to Get Data Items From a List Appearing Odd Number of Times"
      ],
      "metadata": {
        "id": "_sL9Jf_cbPvK"
      }
    },
    {
      "cell_type": "code",
      "source": [
        "def odd_number_appearence(Data):\n",
        "  feature_map = {}    # to store the key value\n",
        "\n",
        "  for i in Data:    # adding elements to dict as key value\n",
        "    if i not in feature_map:\n",
        "      feature_map[i] = 1\n",
        "    else:\n",
        "      feature_map[i] += 1\n",
        "\n",
        "  for i,n in enumerate(feature_map):    # traversing over feature_map\n",
        "    if feature_map[n]%2!=0:    # checking if number of apperance is odd\n",
        "      print(list(feature_map)[i])    # print the element\n",
        "\n",
        "Data = eval(input())\n",
        "odd_number_appearence(Data)"
      ],
      "metadata": {
        "id": "lvBTDvhlbUX4",
        "colab": {
          "base_uri": "https://localhost:8080/"
        },
        "outputId": "e282cafd-5851-4229-d5a7-6b50547cb50d"
      },
      "execution_count": null,
      "outputs": [
        {
          "output_type": "stream",
          "name": "stdout",
          "text": [
            "[1,1,2,3,2,4]\n",
            "3\n",
            "4\n"
          ]
        }
      ]
    },
    {
      "cell_type": "markdown",
      "source": [
        "# 85.What are decorators in Python?"
      ],
      "metadata": {
        "id": "nhPyffzTbWvb"
      }
    },
    {
      "cell_type": "markdown",
      "source": [
        "**Ans.**\n",
        "\n",
        "**Decorator :**\n",
        "\n",
        "Decorator is a function which takes a function as input argument and extend it's functionality and returns modified function with extended functionality.\n",
        "\n",
        "- Decorator is a function. It always takes a function as argument(input function).\n",
        "- The biggest advantage of this function is, i) Code reusability, ii) DRY principle (Don't repeat yourself)\n",
        "- In python every function is treated as object internally.\n",
        "- Decorator creates a new function with extended functionality. In this new function we may use the original function(input function). And it will return the extended function as output.\n",
        "- Without affecting the original function we can extend its functionality using decorator."
      ],
      "metadata": {
        "id": "GfaBZmNDqcv9"
      }
    },
    {
      "cell_type": "code",
      "source": [
        "# eg -> This function will execute only decorator because we are not returning func() inside inner()\n",
        "\n",
        "def decor(func):\n",
        "  def inner():\n",
        "    print('My name is Sai Subhasish')\n",
        "    print('I am a Data Scientist')\n",
        "  return inner\n",
        "\n",
        "@decor\n",
        "def display():\n",
        "  print(f'My name is Sai Subhasish')\n",
        "\n",
        "display()"
      ],
      "metadata": {
        "colab": {
          "base_uri": "https://localhost:8080/"
        },
        "id": "zw_Yq89irlHN",
        "outputId": "316efa73-f20c-41e3-ee5e-13b29cd66140"
      },
      "execution_count": null,
      "outputs": [
        {
          "output_type": "stream",
          "name": "stdout",
          "text": [
            "My name is Sai Subhasish\n",
            "I am a Data Scientist\n"
          ]
        }
      ]
    },
    {
      "cell_type": "markdown",
      "source": [
        "# 86. remove items from a list while iterating but without creating a different copy of a list. Remove numbers greater than 50\n",
        "# number_list = [10, 20, 30, 40, 50, 60, 70, 80, 90, 100]\n",
        "# Expected Output: [10, 20, 30, 40, 50]"
      ],
      "metadata": {
        "id": "K5DxcHOpbZwq"
      }
    },
    {
      "cell_type": "code",
      "source": [
        "def remove_duplicates(num_list):\n",
        "  for i in range(len(num_list)-1, -1, -1):    # iterating in reverse direction\n",
        "    if num_list[i] > 50:    # checking the condition\n",
        "      del num_list[i]    # delete number at index if condition meets\n",
        "\n",
        "  return num_list\n",
        "\n",
        "remove_duplicates(eval(input()))"
      ],
      "metadata": {
        "id": "ZRZXc7CGbjae",
        "colab": {
          "base_uri": "https://localhost:8080/"
        },
        "outputId": "bebd0a47-7bda-4b11-9b5a-854f9054e351"
      },
      "execution_count": null,
      "outputs": [
        {
          "name": "stdout",
          "output_type": "stream",
          "text": [
            "[10, 20, 30, 40, 50, 60, 70, 80, 90, 100]\n"
          ]
        },
        {
          "output_type": "execute_result",
          "data": {
            "text/plain": [
              "[10, 20, 30, 40, 50]"
            ]
          },
          "metadata": {},
          "execution_count": 44
        }
      ]
    },
    {
      "cell_type": "markdown",
      "source": [
        "# 87.  Display all duplicate items from a list\n",
        "# sample_list = [10, 20, 60, 30, 20, 40, 30, 60, 70, 80]\n",
        "# Expected Output: [20, 60, 30]"
      ],
      "metadata": {
        "id": "tmvtfob8bk6-"
      }
    },
    {
      "cell_type": "code",
      "source": [
        "def duplicates(sample_list):\n",
        "  res = []\n",
        "  exp_out = []\n",
        "\n",
        "  for i in sample_list:    # iterating over the list\n",
        "    if i not in res:    # adding the unique elements\n",
        "      res.append(i)\n",
        "    else:    # adding the duplicated elements\n",
        "      exp_out.append(i)\n",
        "  return exp_out    # returning the duplicated elements\n",
        "\n",
        "sample_list = eval(input())\n",
        "duplicates(sample_list)"
      ],
      "metadata": {
        "id": "PIqMz8G6bon6",
        "colab": {
          "base_uri": "https://localhost:8080/"
        },
        "outputId": "47e9983d-b38a-4405-e2d5-094ebb3b7834"
      },
      "execution_count": null,
      "outputs": [
        {
          "name": "stdout",
          "output_type": "stream",
          "text": [
            "[10,20,60,30,20,40,30,60,70,80]\n"
          ]
        },
        {
          "output_type": "execute_result",
          "data": {
            "text/plain": [
              "[20, 30, 60]"
            ]
          },
          "metadata": {},
          "execution_count": 1
        }
      ]
    },
    {
      "cell_type": "markdown",
      "source": [
        "# 88. Create an outer function that will accept two strings, x and y. (x= 'Emma' and y = 'Kelly'. Create an inner function inside an outer function that will concatenate x and y. At last, an outer function will join the word 'developer' to it."
      ],
      "metadata": {
        "id": "u6conubTbsAc"
      }
    },
    {
      "cell_type": "code",
      "source": [
        "def outer(x, y):\n",
        "  def inner(x,y):\n",
        "    return x+' '+y\n",
        "  res = inner(x, y)\n",
        "  return res+' '+'developer'\n",
        "\n",
        "x = input()\n",
        "y = input()\n",
        "outer(x, y)"
      ],
      "metadata": {
        "id": "Yl97DW8vbvFZ",
        "colab": {
          "base_uri": "https://localhost:8080/",
          "height": 70
        },
        "outputId": "cc0c55b0-6d1e-4897-fb08-b97878f160ce"
      },
      "execution_count": null,
      "outputs": [
        {
          "name": "stdout",
          "output_type": "stream",
          "text": [
            "Emma\n",
            "Kelly\n"
          ]
        },
        {
          "output_type": "execute_result",
          "data": {
            "text/plain": [
              "'Emma Kelly developer'"
            ],
            "application/vnd.google.colaboratory.intrinsic+json": {
              "type": "string"
            }
          },
          "metadata": {},
          "execution_count": 45
        }
      ]
    },
    {
      "cell_type": "markdown",
      "source": [
        "# 89. Modify the element of a nested list inside the following list Change the element 35 to 3500\n",
        "list1 = [5, [10, 15, [20, 25, [30, 35], 40], 45], 50]"
      ],
      "metadata": {
        "id": "D7sL6QoibwOr"
      }
    },
    {
      "cell_type": "code",
      "source": [
        "list1 = [5, [10, 15, [20, 25, [30, 35], 40], 45], 50]\n",
        "list1[1][2][2][1] = 3500\n",
        "\n",
        "print(list1)"
      ],
      "metadata": {
        "id": "AS4KvrqOb0RQ",
        "colab": {
          "base_uri": "https://localhost:8080/"
        },
        "outputId": "0adc7a17-58bf-4b11-829b-9bb483cbdffe"
      },
      "execution_count": null,
      "outputs": [
        {
          "output_type": "stream",
          "name": "stdout",
          "text": [
            "[5, [10, 15, [20, 25, [30, 3500], 40], 45], 50]\n"
          ]
        }
      ]
    },
    {
      "cell_type": "markdown",
      "source": [
        "# 90.  Access the nested key increment from the following dictionary\n",
        "Access 12\n",
        "\n",
        "emp_dict = {\n",
        "\n",
        "    \"company\": {\n",
        "\n",
        "        \"employee\": {\n",
        "\n",
        "            \"name\": \"Jess\",\n",
        "\n",
        "            \"payable\": {\n",
        "\n",
        "                \"salary\": 9000,\n",
        "\n",
        "                \"increment\": 12\n",
        "            }\n",
        "\n",
        "        }\n",
        "\n",
        "    }\n",
        "\n",
        "}"
      ],
      "metadata": {
        "id": "eSM5rmTsb19u"
      }
    },
    {
      "cell_type": "code",
      "source": [
        "emp_dict = {\n",
        "\n",
        "    \"company\": {\n",
        "\n",
        "        \"employee\": {\n",
        "\n",
        "            \"name\": \"Jess\",\n",
        "\n",
        "            \"payable\": {\n",
        "\n",
        "                \"salary\": 9000,\n",
        "\n",
        "                \"increment\": 12\n",
        "            }\n",
        "\n",
        "        }\n",
        "\n",
        "    }\n",
        "\n",
        "}\n",
        "\n",
        "emp_dict[\"company\"][\"employee\"][\"payable\"]['increment']"
      ],
      "metadata": {
        "id": "5rBEemgVb5Of",
        "colab": {
          "base_uri": "https://localhost:8080/"
        },
        "outputId": "7edacb13-1352-4de9-b0b7-9f02ba4c60c4"
      },
      "execution_count": null,
      "outputs": [
        {
          "output_type": "execute_result",
          "data": {
            "text/plain": [
              "12"
            ]
          },
          "metadata": {},
          "execution_count": 54
        }
      ]
    },
    {
      "cell_type": "markdown",
      "source": [
        "# 91. Print the sum of the current number and the previous number. Write a program to iterate the first 10 numbers and in each iteration, print the sum of the current and previous number.\n",
        "Printing current and previous number sum in a range(10)\n",
        "\n",
        "Current Number 0 Previous Number  0  Sum:  0\n",
        "\n",
        "Current Number 1 Previous Number  0  Sum:  1\n",
        "\n",
        "Current Number 2 Previous Number  1  Sum:  3\n",
        "\n",
        "Current Number 3 Previous Number  2  Sum:  5\n",
        "\n",
        "Current Number 4 Previous Number  3  Sum:  7\n",
        "\n",
        "Current Number 5 Previous Number  4  Sum:  9\n",
        "\n",
        "Current Number 6 Previous Number  5  Sum:  11\n",
        "\n",
        "Current Number 7 Previous Number  6  Sum:  13\n",
        "\n",
        "Current Number 8 Previous Number  7  Sum:  15\n",
        "\n",
        "Current Number 9 Previous Number  8  Sum:  17"
      ],
      "metadata": {
        "id": "6FfuqEz5cCuG"
      }
    },
    {
      "cell_type": "code",
      "source": [
        "def sum_iteration(n):\n",
        "  sum = 0\n",
        "  for i in range(n):\n",
        "    prev = i-1\n",
        "    if i ==  0:    # corner case\n",
        "      prev = 0\n",
        "\n",
        "    print(f\"Current Number {i} Previous Number{prev} Sum: {i+prev}\")\n",
        "\n",
        "sum_iteration(int(input()))"
      ],
      "metadata": {
        "id": "RvvF0CdrcJCw",
        "colab": {
          "base_uri": "https://localhost:8080/"
        },
        "outputId": "d93b6fd6-4318-4c1f-ab85-53c3daa55369"
      },
      "execution_count": null,
      "outputs": [
        {
          "output_type": "stream",
          "name": "stdout",
          "text": [
            "10\n",
            "Current Number 0 Previous Number0 Sum: 0\n",
            "Current Number 1 Previous Number0 Sum: 1\n",
            "Current Number 2 Previous Number1 Sum: 3\n",
            "Current Number 3 Previous Number2 Sum: 5\n",
            "Current Number 4 Previous Number3 Sum: 7\n",
            "Current Number 5 Previous Number4 Sum: 9\n",
            "Current Number 6 Previous Number5 Sum: 11\n",
            "Current Number 7 Previous Number6 Sum: 13\n",
            "Current Number 8 Previous Number7 Sum: 15\n",
            "Current Number 9 Previous Number8 Sum: 17\n"
          ]
        }
      ]
    },
    {
      "cell_type": "markdown",
      "source": [
        "# 92. Print characters from a string that are present at an even index number Write a program to accept a string from the user and display characters that are present at an even index number.\n",
        "\n",
        "For example, str = \"ineuron\" so you should display ‘i’, ‘e’, ‘r’, ‘n’."
      ],
      "metadata": {
        "id": "y7dWRuOxcQv0"
      }
    },
    {
      "cell_type": "code",
      "source": [
        "def print_even_index_char(s):\n",
        "  res = ''\n",
        "\n",
        "  for i in range(len(s)):    # iterating over string\n",
        "    if i%2==0:    # checking index\n",
        "      res += f\"'{s[i]}',\"    # adding matched indexed charcter with '',\n",
        "\n",
        "  print(res[:-1])    # result\n",
        "\n",
        "\n",
        "print_even_index_char(s = input())"
      ],
      "metadata": {
        "id": "rZPtg3wfcU5Q",
        "colab": {
          "base_uri": "https://localhost:8080/"
        },
        "outputId": "1673f8bb-1100-4620-bd87-7c27844a5330"
      },
      "execution_count": null,
      "outputs": [
        {
          "output_type": "stream",
          "name": "stdout",
          "text": [
            "ineuron\n",
            "'i','e','r','n'\n"
          ]
        }
      ]
    },
    {
      "cell_type": "markdown",
      "source": [
        "# 94. Remove duplicates from a list and create a tuple and find the minimum and maximum number\n",
        "\n",
        "sample_list = [87, 45, 41, 65, 94, 41, 99, 94]\n",
        "\n",
        "Expected Outcome: unique items [87, 45, 41, 65, 99]\n",
        "\n",
        "tuple (87, 45, 41, 65, 99)\n",
        "\n",
        "min: 41\n",
        "\n",
        "max: 99"
      ],
      "metadata": {
        "id": "y8PI5McecV2c"
      }
    },
    {
      "cell_type": "code",
      "source": [
        "def remove_duplicates_min_max(sample_list):\n",
        "  #unique_items = list(set(sample_list))\n",
        "\n",
        "  unique_items = []\n",
        "  [unique_items.append(i) for i in sample_list if i not in unique_items]    # using list comprehension\n",
        "\n",
        "  tuple_items = tuple(unique_items)\n",
        "\n",
        "  min_num = min(tuple_items)\n",
        "  max_num = max(tuple_items)\n",
        "\n",
        "  print(\"unique items: \", unique_items)\n",
        "  print(\"tule: \", tuple_items)\n",
        "  print(\"min: \", min_num)\n",
        "  print(\"max: \", max_num)\n",
        "\n",
        "remove_duplicates_min_max(eval(input()))"
      ],
      "metadata": {
        "id": "YGVgn1yNdger",
        "colab": {
          "base_uri": "https://localhost:8080/"
        },
        "outputId": "f8f11dd6-0831-45d5-e62a-b86a2a30feb8"
      },
      "execution_count": null,
      "outputs": [
        {
          "output_type": "stream",
          "name": "stdout",
          "text": [
            "[87, 45, 41, 65, 94, 41, 99, 94]\n",
            "unique items:  [65, 99, 41, 45, 87, 94]\n",
            "tule:  (65, 99, 41, 45, 87, 94)\n",
            "min:  41\n",
            "max:  99\n"
          ]
        }
      ]
    },
    {
      "cell_type": "markdown",
      "source": [
        "# 95. Write a Python program to create a lambda function that adds 15 to a given number passed in as an argument, also create a lambda function that multiplies argument x with argument y and print the result."
      ],
      "metadata": {
        "id": "Yu2UPPrmdmM6"
      }
    },
    {
      "cell_type": "code",
      "source": [
        "s = lambda a:a+15    # lambda function to add 15 to a given number\n",
        "\n",
        "s(int(input()))"
      ],
      "metadata": {
        "id": "zKpd1YRZdqeI",
        "colab": {
          "base_uri": "https://localhost:8080/"
        },
        "outputId": "64900eb4-a2e7-455c-fe22-8348db3fbcbb"
      },
      "execution_count": null,
      "outputs": [
        {
          "name": "stdout",
          "output_type": "stream",
          "text": [
            "10\n"
          ]
        },
        {
          "output_type": "execute_result",
          "data": {
            "text/plain": [
              "25"
            ]
          },
          "metadata": {},
          "execution_count": 84
        }
      ]
    },
    {
      "cell_type": "code",
      "source": [
        "s = lambda x,y:x*y    # lambda function to multiply two numbers\n",
        "\n",
        "res = s(x=int(input()), y=int(input()))\n",
        "print(res)"
      ],
      "metadata": {
        "colab": {
          "base_uri": "https://localhost:8080/"
        },
        "id": "p7wfGb2Twmbj",
        "outputId": "634122c6-4934-4adc-8e64-e4c684de6aa9"
      },
      "execution_count": null,
      "outputs": [
        {
          "output_type": "stream",
          "name": "stdout",
          "text": [
            "24\n",
            "42\n",
            "1008\n"
          ]
        }
      ]
    },
    {
      "cell_type": "markdown",
      "source": [
        "# 96. Write a Python program to sort a list of tuples using Lambda."
      ],
      "metadata": {
        "id": "qc1GAR28dsGv"
      }
    },
    {
      "cell_type": "code",
      "source": [
        "my_list = eval(input())\n",
        "\n",
        "sorted_list = sorted(my_list, key=lambda x:x[0])    # sort using first value in tuple\n",
        "\n",
        "# sorted_list = sorted(my_list, key=lambda x:x[1])    # sort using second value in tuple\n",
        "\n",
        "print(sorted_list)"
      ],
      "metadata": {
        "id": "vKhAtsF_dulk",
        "colab": {
          "base_uri": "https://localhost:8080/"
        },
        "outputId": "4f9f9d27-d83e-467b-9299-095168fd501f"
      },
      "execution_count": null,
      "outputs": [
        {
          "output_type": "stream",
          "name": "stdout",
          "text": [
            "[(1,4), (2,6), (8,9), (4,2), (4,6)]\n",
            "[(1, 4), (2, 6), (4, 2), (4, 6), (8, 9)]\n"
          ]
        }
      ]
    },
    {
      "cell_type": "markdown",
      "source": [
        "# 97. Write a Python program to extract year, month, date and time using Lambda."
      ],
      "metadata": {
        "id": "dKKvWf1mdvn6"
      }
    },
    {
      "cell_type": "code",
      "source": [
        "from datetime import datetime\n",
        "\n",
        "print(datetime.today())"
      ],
      "metadata": {
        "colab": {
          "base_uri": "https://localhost:8080/"
        },
        "id": "7AsNeA-ahGqa",
        "outputId": "a0aceab1-c44f-4798-d63e-c1a2c4fd5660"
      },
      "execution_count": null,
      "outputs": [
        {
          "output_type": "stream",
          "name": "stdout",
          "text": [
            "2023-06-24 13:08:57.622864\n"
          ]
        }
      ]
    },
    {
      "cell_type": "code",
      "source": [
        "from datetime import datetime\n",
        "\n",
        "# Sample datetime object\n",
        "my_datetime = datetime(2023, 6, 24, 13, 8, 57)\n",
        "\n",
        "\n",
        "# Extract year, month, date, and time using a lambda function\n",
        "year = lambda dt: dt.year\n",
        "month = lambda dt: dt.month\n",
        "day = lambda dt: dt.day\n",
        "time = lambda dt:dt.time()\n",
        "\n",
        "# Invoke the lambda functions\n",
        "extracted_year = year(my_datetime)\n",
        "extracted_month = month(my_datetime)\n",
        "extracted_day = day(my_datetime)\n",
        "extracted_time = time(my_datetime)\n",
        "\n",
        "# Print the extracted values\n",
        "print(\"Year:\", extracted_year)\n",
        "print(\"Month:\", extracted_month)\n",
        "print(\"Day:\", extracted_day)\n",
        "print(\"Time:\", extracted_time)"
      ],
      "metadata": {
        "id": "3UQk5HUedyZI",
        "colab": {
          "base_uri": "https://localhost:8080/"
        },
        "outputId": "afd03aec-ad48-4172-baf1-2eee0e3e4e34"
      },
      "execution_count": null,
      "outputs": [
        {
          "output_type": "stream",
          "name": "stdout",
          "text": [
            "Year: 2023\n",
            "Month: 6\n",
            "Day: 24\n",
            "Time: 13:08:57\n"
          ]
        }
      ]
    },
    {
      "cell_type": "markdown",
      "source": [
        "# 98. Write a Python program to count the even, odd numbers in a given array of integers using Lambda."
      ],
      "metadata": {
        "id": "zPb3MIg7dz5U"
      }
    },
    {
      "cell_type": "code",
      "source": [
        "array = eval(input())\n",
        "\n",
        "even_count = len(list(filter(lambda x:x%2==0, array)))\n",
        "odd_count = len(list(filter(lambda x: x%2!=0, array)))\n",
        "\n",
        "print(\"Even count: \", even_count)\n",
        "print(\"Odd count: \", odd_count)"
      ],
      "metadata": {
        "id": "Ov_Llvegd2Yt",
        "colab": {
          "base_uri": "https://localhost:8080/"
        },
        "outputId": "1994ec9e-72aa-4335-f8bf-082d540a6002"
      },
      "execution_count": null,
      "outputs": [
        {
          "output_type": "stream",
          "name": "stdout",
          "text": [
            "[0,1,2,3,4,5,6,7,8,9]\n",
            "Even count:  5\n",
            "Odd count:  5\n"
          ]
        }
      ]
    },
    {
      "cell_type": "markdown",
      "source": [
        "# 99. Write a Python program to convert all the characters in uppercase and lowercase and eliminate duplicate letters from a given sequence. Use map() function."
      ],
      "metadata": {
        "id": "Syo_2hLed3XX"
      }
    },
    {
      "cell_type": "code",
      "source": [
        "s_list = input()\n",
        "\n",
        "upper_case = list(map(str.upper, s_list))\n",
        "lower_case = list(map(str.lower, s_list))\n",
        "\n",
        "swap_case_list = list(map(str.swapcase, s_list))\n",
        "\n",
        "unique_list = list(set(s_list))\n",
        "\n",
        "print('Swap Case: ',''.join(swap_case_list))\n",
        "print('UpperCase: ',''.join(upper_case))\n",
        "print('Lower Case: ',''.join(lower_case))\n",
        "print('Unique letters: ',''.join(unique_list))"
      ],
      "metadata": {
        "id": "rjx2zZs5d60k",
        "colab": {
          "base_uri": "https://localhost:8080/"
        },
        "outputId": "25bab5a8-8d7d-401a-c356-d5a27f98d554"
      },
      "execution_count": null,
      "outputs": [
        {
          "output_type": "stream",
          "name": "stdout",
          "text": [
            "DaTa ScieNce\n",
            "Swap Case:  dAtA sCIEnCE\n",
            "UpperCase:  DATA SCIENCE\n",
            "Lower Case:  data science\n",
            "Unique letters:  NcSDaTei \n"
          ]
        }
      ]
    },
    {
      "cell_type": "markdown",
      "source": [
        "# 100.  Write a Python program to square the elements of a list using map() function."
      ],
      "metadata": {
        "id": "kZaoLMfFd8YV"
      }
    },
    {
      "cell_type": "code",
      "source": [
        "def square(n):    # function to get square\n",
        "  return n*n\n",
        "\n",
        "res = map(square, eval(input()))    # applying square to list of numbers using map    -> getting iter object\n",
        "\n",
        "print([x for x in res])    # iterating over result using comprehension to get output"
      ],
      "metadata": {
        "colab": {
          "base_uri": "https://localhost:8080/"
        },
        "id": "qO6yXPhMd-fj",
        "outputId": "30143c79-01fe-4a0f-ce27-3d56d07492b5"
      },
      "execution_count": null,
      "outputs": [
        {
          "output_type": "stream",
          "name": "stdout",
          "text": [
            "[1,2,3]\n",
            "[1, 4, 9]\n"
          ]
        }
      ]
    },
    {
      "cell_type": "code",
      "source": [],
      "metadata": {
        "id": "9wXoihegecNX"
      },
      "execution_count": null,
      "outputs": []
    }
  ]
}